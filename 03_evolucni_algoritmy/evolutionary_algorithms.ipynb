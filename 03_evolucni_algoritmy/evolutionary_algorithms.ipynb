{
 "cells": [
  {
   "cell_type": "markdown",
   "metadata": {},
   "source": [
    "# Evoluční algoritmy - jednoduchý genetický algoritmus"
   ]
  },
  {
   "cell_type": "markdown",
   "metadata": {},
   "source": [
    "Zkusíme si naprogramovat jednoduchý genetický algoritmus pro problém OneMAX. OneMAX je úloha, kdy chceme, aby jedinec - binární řetězec dané délky - obsahoval co nejvíce jedniček."
   ]
  },
  {
   "cell_type": "code",
   "execution_count": 1,
   "metadata": {},
   "outputs": [],
   "source": [
    "import random\n",
    "import copy\n",
    "\n",
    "import numpy as np\n",
    "\n",
    "import matplotlib.pyplot as plt\n",
    "%matplotlib inline"
   ]
  },
  {
   "cell_type": "markdown",
   "metadata": {},
   "source": [
    "Nejprve si napíšeme funkci, jež vytvoří náhodnou populaci jedinců velikosti *population_size*, kde každý jedinec bude mít velikost *individual_size*."
   ]
  },
  {
   "cell_type": "code",
   "execution_count": 2,
   "metadata": {},
   "outputs": [],
   "source": [
    "def random_population(population_size, individual_size):\n",
    "    population = list(np.random.choice([0, 1], size=(population_size, individual_size), replace=True, p=[1/2, 1/2]))\n",
    "    \n",
    "    # Another approach - slower:\n",
    "    # population = [np.random.choice([0, 1], size=(individual_size,), replace=True, p=[1/2, 1/2]) for _ in range(population_size)]\n",
    "    \n",
    "    # Another approach - slowest:\n",
    "    # population = list()\n",
    "    # for i in range(population_size):\n",
    "    #     individual = np.random.choice([0, 1], size=(individual_size,), replace=True, p=[1/2, 1/2])\n",
    "    #     population.append(individual)\n",
    "        \n",
    "    return population"
   ]
  },
  {
   "cell_type": "markdown",
   "metadata": {},
   "source": [
    "Pro každou úlohu řešenou evolučním algoritmem je důležité správně definovat fitness funkci, která bude říkat, jak moc jsou jedinci dobří vzhledem k populaci, a kterou se bude algoritmus snažit optimalizovat (nejčastěji maximalizovat). Pro OneMAX problém bude ideální fitness funkce počet jedniček v jedinci."
   ]
  },
  {
   "cell_type": "code",
   "execution_count": 3,
   "metadata": {},
   "outputs": [],
   "source": [
    "def fitness(individual):\n",
    "    return np.sum(individual)"
   ]
  },
  {
   "cell_type": "markdown",
   "metadata": {},
   "source": [
    "Dále si napíšeme funkci, která bude dělat selekci jedinců. Použijeme ruletovou selekci, tedy každému jedinci přiřadíme výseč rulety úměrnou jeho fitness a z této rulety pak náhodně vybíráme jedince (kde tedy lepší jedinci mají větší šanci být vybráni). Naštěstí knihovna random obsahuje funkci choices, která toto umí a nemusíme si to psát sami."
   ]
  },
  {
   "cell_type": "code",
   "execution_count": 5,
   "metadata": {},
   "outputs": [],
   "source": [
    "def selection(population, fitness_value):\n",
    "    return random.choices(population, weights=fitness_value, k=len(population))"
   ]
  },
  {
   "cell_type": "markdown",
   "metadata": {},
   "source": [
    "Máme vybrané dvojice jedinců, tak na nich provedeme křížení. Budeme dělat jednobodové křížení, tedy si náhodně zvolíme bod v jedinci, hodnoty před tímto bodem vezmeme z jednoho rodiče a hodnoty po tomto bodu z druhého. (V některých evolučních algoritmech vybíráme jedince do nové generace jak z těch, které vytvoříme křížením a mutací, tak z těch původních, proto je dobré neměnit jedince, které už máme, a raději si pro jejich pozměnění pořídit jejich kopii. Na druhou stranu vytváření kopie něco stojí a proto se vyplatí neplýtvat nadužíváním kopírování i v případech, kdy to není nutné.)"
   ]
  },
  {
   "cell_type": "code",
   "execution_count": 6,
   "metadata": {},
   "outputs": [],
   "source": [
    "def crossover(population, crossover_prob=1):\n",
    "    new_population = []\n",
    "    \n",
    "    for i in range(len(population)//2):\n",
    "        individual1 = population[2*i]\n",
    "        individual2 = population[2*i+1]\n",
    "        \n",
    "        if random.random() < crossover_prob:\n",
    "            # We randomly choose the crossover index\n",
    "            crossover_point = random.randint(1, len(individual1)-1)\n",
    "            \n",
    "            # np.concatanate creates a new array, hence there is no need for the deepcopying\n",
    "            new_individual1 = np.concatenate([individual1[:crossover_point], individual2[crossover_point:]], axis=0)\n",
    "            new_individual2 = np.concatenate([individual2[:crossover_point], individual1[crossover_point:]], axis=0)\n",
    "            \n",
    "        else:\n",
    "            new_individual1 = individual1\n",
    "            new_individual2 = individual2\n",
    "\n",
    "        new_population.append(new_individual1)\n",
    "        new_population.append(new_individual2)\n",
    "        \n",
    "    return new_population"
   ]
  },
  {
   "cell_type": "markdown",
   "metadata": {},
   "source": [
    "Povedlo se nám vytvořit nové jedince pomocí křížení jejich rodičů. Následně na každém z nich provedeme mutaci tak, že si u každého bitu náhodně hodíme kostkou a s malou pravděpodobností ho změníme. "
   ]
  },
  {
   "cell_type": "code",
   "execution_count": 7,
   "metadata": {},
   "outputs": [],
   "source": [
    "def mutation(population, individual_mutation_prob=0.1, bit_mutation_prob=0.2):\n",
    "    new_population = []\n",
    "    \n",
    "    for i in range(len(population)):\n",
    "        individual = population[i]\n",
    "        \n",
    "        if random.random() < individual_mutation_prob:\n",
    "            individual = copy.deepcopy(individual)\n",
    "            \n",
    "            for j in range(len(individual)):\n",
    "                if random.random() < bit_mutation_prob:\n",
    "                    # This flips 0 to 1 and 1 to 0\n",
    "                    individual[j] = int(not individual[j])\n",
    "                        \n",
    "        new_population.append(individual)\n",
    "        \n",
    "    return new_population"
   ]
  },
  {
   "cell_type": "markdown",
   "metadata": {},
   "source": [
    "Když už tedy máme napsané všechny funkce potřebné pro genetický algoritmus pro tento úkol, můžeme se zkusit podívat, jak by vypadal jeden krok evoluce."
   ]
  },
  {
   "cell_type": "code",
   "execution_count": 8,
   "metadata": {},
   "outputs": [
    {
     "name": "stdout",
     "output_type": "stream",
     "text": [
      "Random population:\n",
      "[[1 1 1 0 0 0 1 1]\n",
      " [1 1 1 1 0 1 1 0]\n",
      " [0 1 1 0 1 0 1 0]\n",
      " [0 0 1 1 0 1 0 0]\n",
      " [0 0 1 1 1 1 0 0]\n",
      " [1 1 0 1 0 0 1 1]]\n",
      "Population after selection:\n",
      "[[1 1 1 1 0 1 1 0]\n",
      " [1 1 0 1 0 0 1 1]\n",
      " [1 1 0 1 0 0 1 1]\n",
      " [1 1 0 1 0 0 1 1]\n",
      " [1 1 1 0 0 0 1 1]\n",
      " [0 0 1 1 1 1 0 0]]\n",
      "Population after crossover:\n",
      "[[1 1 1 1 0 0 1 1]\n",
      " [1 1 0 1 0 1 1 0]\n",
      " [1 1 0 1 0 0 1 1]\n",
      " [1 1 0 1 0 0 1 1]\n",
      " [1 1 1 1 1 1 0 0]\n",
      " [0 0 1 0 0 0 1 1]]\n",
      "Population after mutation:\n",
      "[[1 1 1 1 0 0 1 1]\n",
      " [1 1 0 1 0 1 1 0]\n",
      " [1 1 1 1 0 0 0 1]\n",
      " [1 1 0 1 0 0 1 1]\n",
      " [1 1 1 1 1 1 0 0]\n",
      " [0 0 1 0 0 0 1 1]]\n"
     ]
    }
   ],
   "source": [
    "# vytvorime si nahodnou pocatecni populaci \n",
    "population = random_population(6, 8)\n",
    "print(\"Random population:\")\n",
    "print(np.array(population))\n",
    "\n",
    "fitness_value = list(map(fitness, population))\n",
    "selected_population = selection(population, fitness_value)\n",
    "print(\"Population after selection:\")\n",
    "print(np.array(selected_population))\n",
    "\n",
    "cross_population = crossover(selected_population)\n",
    "print(\"Population after crossover:\")\n",
    "print(np.array(cross_population))\n",
    "\n",
    "mutated_population = mutation(cross_population)\n",
    "print(\"Population after mutation:\")\n",
    "print(np.array(mutated_population))"
   ]
  },
  {
   "cell_type": "markdown",
   "metadata": {},
   "source": [
    "Vidíme, že nám jednotlivé kroky fungují, takže je na závěr spojíme do jednoho parádního genetického algoritmu, kde si tedy vytvoříme počáteční náhodnou populaci a v několika epochách budeme vždy vytvářet novou a novou populaci z té staré pomocí selekce, křížení a mutace."
   ]
  },
  {
   "cell_type": "code",
   "execution_count": 9,
   "metadata": {},
   "outputs": [],
   "source": [
    "def evolution(population_size, individual_size, max_generations):\n",
    "    max_fitness = []\n",
    "    population = random_population(population_size, individual_size)\n",
    "    \n",
    "    for _ in range(max_generations):\n",
    "        fitness_value = list(map(fitness, population))\n",
    "        max_fitness.append(max(fitness_value))\n",
    "        \n",
    "        parents = selection(population, fitness_value)\n",
    "        children = crossover(parents)\n",
    "        mutated_children = mutation(children)\n",
    "        \n",
    "        population = mutated_children\n",
    "        \n",
    "    # We compute fitness for the last population and obtain the best individual\n",
    "    fitness_value = list(map(fitness, population))\n",
    "    max_fitness.append(max(fitness_value))\n",
    "    best_individual = population[np.argmax(fitness_value)]\n",
    "    \n",
    "    # We return our solution (the best individual), the last population and the best fitnesses observed during the algorithm run for logging purposes\n",
    "    return best_individual, population, max_fitness"
   ]
  },
  {
   "cell_type": "markdown",
   "metadata": {},
   "source": [
    "Na závěr tedy zkusíme náš krásný genetický algoritmus na OneMAX problém pustit a uvidíme, co se bude dít."
   ]
  },
  {
   "cell_type": "code",
   "execution_count": 10,
   "metadata": {},
   "outputs": [
    {
     "name": "stdout",
     "output_type": "stream",
     "text": [
      "Best fitness: 42\n",
      "Best individual: [1 1 0 0 0 1 1 1 1 1 1 1 1 1 1 1 1 1 1 0 1 1 1 1 1 1 1 0 1 1 1 1 1 1 1 1 1\n",
      " 1 1 0 1 1 1 0 1 1 1 0 1 1]\n"
     ]
    },
    {
     "data": {
      "image/png": "[encoded data removed]",
      "text/plain": [
       "<Figure size 640x480 with 1 Axes>"
      ]
     },
     "metadata": {},
     "output_type": "display_data"
    }
   ],
   "source": [
    "best, population, max_fitness = evolution(population_size=100, individual_size=50, max_generations=100)\n",
    "\n",
    "print(\"Best fitness:\", fitness(best))\n",
    "print(\"Best individual:\", best)\n",
    "\n",
    "\n",
    "plt.plot(max_fitness)\n",
    "plt.ylabel(\"Fitness\")\n",
    "plt.xlabel(\"Generation\")\n",
    "plt.show()\n"
   ]
  },
  {
   "cell_type": "markdown",
   "metadata": {},
   "source": [
    "##  Úkol na cvičení"
   ]
  },
  {
   "cell_type": "markdown",
   "metadata": {},
   "source": [
    "Vaším úkolem bude upravit výše napsaný algoritmus tak, aby uměl vyřešit problém součtu podmnožiny. Ten spočívá v nalezení podmnožiny dané množiny takové, že součet prvků v nalezené podmnožině se přesně rovná nějakému zadanému číslu. V optimalizační verzi se tedy tento problém snaží minimalizovat rozdíl mezi zadanou hodnotou a součtem podmnožiny. Následně si zkuste hrát s různými druhy křížení, vyzkoušejte si například nahradit výše napsané jednobodové křížení za vícebodové nebo uniformní křížení a sledujte, jak se bude evoluce měnit."
   ]
  },
  {
   "cell_type": "markdown",
   "metadata": {},
   "source": [
    "Níže je kód, který vám vygeneruje zadání, tedy náhodnou množinu čísel a kýženou hodnotu, vůči které optimalizujete (ta teď odpovídá polovině součtu všech prvků)."
   ]
  },
  {
   "cell_type": "code",
   "execution_count": 11,
   "metadata": {},
   "outputs": [
    {
     "name": "stdout",
     "output_type": "stream",
     "text": [
      "6259 [128, 111, 122, 150, 127, 144, 104, 132, 114, 149, 135, 119, 126, 150, 142, 141, 126, 106, 122, 144, 111, 108, 123, 121, 128, 145, 135, 145, 129, 103, 127, 114, 131, 119, 123, 101, 110, 149, 100, 110, 133, 129, 137, 142, 143, 145, 134, 122, 147, 100, 111, 130, 115, 144, 115, 147, 111, 104, 117, 106, 128, 130, 144, 106, 142, 111, 116, 109, 100, 107, 150, 127, 145, 115, 119, 133, 125, 136, 119, 126, 107, 115, 104, 122, 119, 146, 120, 111, 145, 140, 113, 120, 137, 133, 131, 135, 128, 112, 134, 103]\n"
     ]
    }
   ],
   "source": [
    "random_set = [random.randint(100, 150) for _ in range(100)]    \n",
    "value = sum(random_set) // 2\n",
    "\n",
    "print(value, random_set)"
   ]
  },
  {
   "cell_type": "markdown",
   "metadata": {},
   "source": [
    "## Knihovna Deap \n",
    "\n",
    "Výše jsme si sami zkusili napsat jednoduchý evoluční algoritmus pro OneMax problém. Nyní se podíváme na tento problém znovu a ukážeme si knihovnu, která má námi ručně psané funkce už naimplementované a usnadní nám tedy práci s psaním evolučního algoritmu, protože si ho nemusíme psát celý sami.\n",
    "\n",
    "Deap je knihovna určená pro implementaci nejběžnějších evolučních technik jako například klasický evoluční algoritmus, genetecké programování, evoluční strategie, optimalizaci pomocí hejna a spoustu dalších metod.\n",
    "\n",
    "### OneMax problém\n",
    "\n",
    "K vyřešení OneMax problému je tedy potřeba definovat jedince, pak si vytvořit celou populaci a pak přidat operátory pro její evoluci. Začneme nejprve importy dalších knihoven, které budeme v naší evoluci potřebovat."
   ]
  },
  {
   "cell_type": "code",
   "execution_count": 12,
   "metadata": {},
   "outputs": [],
   "source": [
    "import array\n",
    "\n",
    "from deap import algorithms, base, creator, tools"
   ]
  },
  {
   "cell_type": "markdown",
   "metadata": {},
   "source": [
    "Protože skutečná struktura jedinců v evolučních algoritmech závisí na cílovém úkolu, DEAP neobsahuje žádnou explicitní strukturu, ale poskytuje raději metodu pro vytváření kontejneru s danými atributy, se kterými se asociuje i fitness. Této metodě se říká *deap.creator* a můžeme s její pomocí velmi jednoduchým způsobem vytvořit vlastní jedince vhodné pro daný úkol. \n",
    "\n",
    "Vytvoříme tedy dvě třídy: První se bude jmenovat *FitnessMax*, bude mít base class *Fitness*, ze které dědí její vlastnosti, a všechny váhy (resp. jedna jediná váha) budou 1, protože chceme maximalizovat fitness jedince (a ta se skládá jen z jedné funkce, není váženým součtem více vstupů). Druhá třída bude *Individual* a ta bude popisovat našeho jedince, který bude pole 0 a 1 a bude mít námi výše vytvořenou fitness. Námi vytvořené třídy se potom dají volat přímo z *creator*, protože jsou jeho součástí."
   ]
  },
  {
   "cell_type": "code",
   "execution_count": 13,
   "metadata": {},
   "outputs": [],
   "source": [
    "creator.create(\"FitnessMax\", base.Fitness, weights=(1.0,))\n",
    "creator.create(\"Individual\", array.array, typecode='b', fitness=creator.FitnessMax)"
   ]
  },
  {
   "cell_type": "markdown",
   "metadata": {},
   "source": [
    "Nyní použijeme tyto třídy k vytvoření typů představujících naše jedince a pak i celou populaci jedinců. Tyto všechny objekty budou uloženy v kontejneru knihovny DEAP zvané *toolbox*. Ta obsahuje dvě metody pro přidání a odebrání obsahu -- *register()* a *unregister()*."
   ]
  },
  {
   "cell_type": "code",
   "execution_count": 14,
   "metadata": {},
   "outputs": [],
   "source": [
    "toolbox = base.Toolbox()"
   ]
  },
  {
   "cell_type": "markdown",
   "metadata": {},
   "source": [
    "Nejprve si vytvoříme jedince jakožto posloupnost 1 a 0 a následně vytvoříme celou populaci. Generátor *attr_bool* zvolí náhodně buď 0, nebo 1. Dva inicializátory *individual* a *population* vytvoří instanci jednotlivce a populace. Naši jednotlivci budou generováni pomocí funkce *initRepeat()*, která opakovaně volá výše vytvořenou třídu jedince *Individual* a pomocí *attr_bool* vytváří náhodné jedince velikosti 50. Následně je obdobným způsobem vygenerována celá populace těchto náhodných jedinců.\n"
   ]
  },
  {
   "cell_type": "code",
   "execution_count": 15,
   "metadata": {},
   "outputs": [],
   "source": [
    "toolbox.register(\"attr_bool\", random.randint, 0, 1)\n",
    "toolbox.register(\"individual\", tools.initRepeat, creator.Individual, toolbox.attr_bool, 50)\n",
    "toolbox.register(\"population\", tools.initRepeat, list, toolbox.individual)"
   ]
  },
  {
   "cell_type": "markdown",
   "metadata": {},
   "source": [
    "Dále je třeba si zadefinovat fitness funkci. Ta bude velice jednoduchá, protože je potřeba pouze zjistit počet jedniček v jedinci."
   ]
  },
  {
   "cell_type": "code",
   "execution_count": 16,
   "metadata": {},
   "outputs": [],
   "source": [
    "def evalOneMax(individual):\n",
    "    return sum(individual),"
   ]
  },
  {
   "cell_type": "markdown",
   "metadata": {},
   "source": [
    "Teď už je jen potřeba registrace genetických operátorů, abychom mohli používat evoluci. Potřebujeme evaluaci pomocí naší výše vytvořené fitness, selekci, křížení a mutaci jedinců. Tentokrát si pro změnu zkusíme turnajovou selekci a dvoubodové křížení."
   ]
  },
  {
   "cell_type": "code",
   "execution_count": 18,
   "metadata": {},
   "outputs": [],
   "source": [
    "toolbox.register(\"evaluate\", evalOneMax)\n",
    "toolbox.register(\"select\", tools.selTournament, tournsize=3)\n",
    "toolbox.register(\"mate\", tools.cxTwoPoint)\n",
    "toolbox.register(\"mutate\", tools.mutFlipBit, indpb=0.05)"
   ]
  },
  {
   "cell_type": "markdown",
   "metadata": {},
   "source": [
    "Nyní máme definovanou reprezentaci a genetické operátory a zbývá už jen pustit evoluci. Vytvoříme si populaci *n* jedinců, zároveň si v *hof* (Hall Of Fame) pamatujeme nejlepší jedince pro každou populaci, a nastavíme si pro zajímavost několik statistických hodnot pro každou populaci - průměr, minimum, maximum a standardní odchylku fitness. Pak už jen zbývá pustit jednoduchý evoluční algoritmus pomocí *eaSimple* na danou populaci, s daným toolboxem, pravděpodobnostmi operací a dalšími parametry."
   ]
  },
  {
   "cell_type": "code",
   "execution_count": 20,
   "metadata": {},
   "outputs": [
    {
     "name": "stdout",
     "output_type": "stream",
     "text": [
      "gen\tnevals\tavg \tstd    \tmin\tmax\n",
      "0  \t100   \t25.3\t3.43657\t17 \t34 \n",
      "1  \t61    \t27.99\t2.93085\t21 \t35 \n",
      "2  \t62    \t30.16\t2.41545\t23 \t36 \n",
      "3  \t66    \t31.92\t2.17568\t27 \t37 \n",
      "4  \t66    \t33.69\t1.85308\t29 \t38 \n",
      "5  \t53    \t35.13\t1.67126\t30 \t40 \n",
      "6  \t58    \t36.25\t1.43788\t33 \t40 \n",
      "7  \t73    \t36.96\t1.70247\t32 \t42 \n",
      "8  \t61    \t38.06\t1.77663\t35 \t44 \n",
      "9  \t56    \t39.07\t1.66286\t34 \t44 \n",
      "10 \t60    \t39.89\t1.73721\t34 \t44 \n",
      "11 \t59    \t40.91\t1.52378\t36 \t45 \n",
      "12 \t65    \t41.69\t1.80386\t37 \t46 \n",
      "13 \t68    \t42.92\t1.72441\t37 \t47 \n",
      "14 \t50    \t44.03\t1.53268\t40 \t48 \n",
      "15 \t68    \t44.55\t1.73421\t40 \t48 \n",
      "16 \t60    \t45.24\t1.63169\t37 \t49 \n",
      "17 \t53    \t46.17\t1.35687\t40 \t49 \n",
      "18 \t53    \t46.79\t1.34384\t42 \t49 \n",
      "19 \t60    \t47.41\t1.24173\t42 \t49 \n",
      "20 \t56    \t47.78\t1.02548\t42 \t49 \n",
      "21 \t61    \t47.96\t1.03846\t43 \t49 \n",
      "22 \t67    \t48.2 \t1.27279\t43 \t49 \n",
      "23 \t59    \t48.59\t1.00095\t43 \t49 \n",
      "24 \t52    \t48.52\t1.24483\t43 \t50 \n",
      "25 \t55    \t48.47\t1.24463\t44 \t50 \n",
      "26 \t61    \t48.46\t1.16121\t44 \t50 \n",
      "27 \t49    \t48.66\t1.0883 \t44 \t50 \n",
      "28 \t56    \t48.64\t1.26111\t43 \t50 \n",
      "29 \t60    \t48.9 \t1.34536\t43 \t50 \n",
      "30 \t64    \t49.25\t1.26787\t44 \t50 \n",
      "31 \t57    \t49.53\t1.08125\t44 \t50 \n",
      "32 \t70    \t49.58\t1.03131\t45 \t50 \n",
      "33 \t49    \t49.57\t1.03204\t45 \t50 \n",
      "34 \t65    \t49.43\t1.4509 \t40 \t50 \n",
      "35 \t61    \t49.7 \t0.818535\t46 \t50 \n",
      "36 \t63    \t49.54\t1.23628 \t44 \t50 \n",
      "37 \t66    \t49.49\t1.17043 \t44 \t50 \n",
      "38 \t66    \t49.46\t1.14385 \t44 \t50 \n",
      "39 \t64    \t49.57\t1.12477 \t45 \t50 \n",
      "40 \t61    \t49.5 \t1.13578 \t44 \t50 \n",
      "41 \t46    \t49.62\t1.10254 \t44 \t50 \n",
      "42 \t66    \t49.49\t1.22878 \t44 \t50 \n",
      "43 \t54    \t49.49\t1.25296 \t44 \t50 \n",
      "44 \t60    \t49.49\t1.09995 \t46 \t50 \n",
      "45 \t61    \t49.5 \t1.14455 \t45 \t50 \n",
      "46 \t55    \t49.52\t1.22049 \t44 \t50 \n",
      "47 \t53    \t49.41\t1.23365 \t44 \t50 \n",
      "48 \t63    \t49.52\t1.23677 \t45 \t50 \n",
      "49 \t57    \t49.48\t1.24483 \t43 \t50 \n",
      "50 \t54    \t49.33\t1.34205 \t44 \t50 \n",
      "51 \t62    \t49.42\t1.32045 \t44 \t50 \n",
      "52 \t64    \t49.53\t1.30733 \t42 \t50 \n",
      "53 \t58    \t49.58\t0.971391\t45 \t50 \n",
      "54 \t53    \t49.61\t1.02854 \t45 \t50 \n",
      "55 \t60    \t49.47\t1.13539 \t45 \t50 \n",
      "56 \t58    \t49.55\t1.12583 \t44 \t50 \n",
      "57 \t57    \t49.54\t1.10833 \t45 \t50 \n",
      "58 \t48    \t49.34\t1.36543 \t44 \t50 \n",
      "59 \t60    \t49.46\t1.21178 \t44 \t50 \n",
      "60 \t49    \t49.57\t1.11584 \t44 \t50 \n",
      "61 \t64    \t49.51\t1.18739 \t44 \t50 \n",
      "62 \t49    \t49.37\t1.26218 \t44 \t50 \n",
      "63 \t69    \t49.39\t1.10359 \t45 \t50 \n",
      "64 \t72    \t49.4 \t1.13137 \t45 \t50 \n",
      "65 \t67    \t49.32\t1.38477 \t45 \t50 \n",
      "66 \t57    \t49.5 \t1.24499 \t44 \t50 \n",
      "67 \t68    \t49.44\t1.20266 \t45 \t50 \n",
      "68 \t59    \t49.59\t1.02074 \t44 \t50 \n",
      "69 \t59    \t49.4 \t1.42829 \t43 \t50 \n",
      "70 \t67    \t49.35\t1.35185 \t45 \t50 \n",
      "71 \t53    \t49.42\t1.32045 \t45 \t50 \n",
      "72 \t68    \t49.63\t1.19712 \t44 \t50 \n",
      "73 \t67    \t49.38\t1.26317 \t45 \t50 \n",
      "74 \t61    \t49.39\t1.34086 \t45 \t50 \n",
      "75 \t56    \t49.66\t1.02196 \t44 \t50 \n",
      "76 \t62    \t49.53\t1.19545 \t45 \t50 \n",
      "77 \t52    \t49.5 \t1.27671 \t43 \t50 \n",
      "78 \t60    \t49.4 \t1.3784  \t44 \t50 \n",
      "79 \t61    \t49.47\t1.22029 \t43 \t50 \n",
      "80 \t67    \t49.36\t1.30015 \t44 \t50 \n",
      "81 \t62    \t49.54\t1.15256 \t44 \t50 \n",
      "82 \t61    \t49.32\t1.46888 \t43 \t50 \n",
      "83 \t55    \t49.54\t1.19516 \t44 \t50 \n",
      "84 \t67    \t49.41\t1.29688 \t45 \t50 \n",
      "85 \t57    \t49.54\t1.09927 \t45 \t50 \n",
      "86 \t59    \t49.64\t0.854634\t47 \t50 \n",
      "87 \t62    \t49.46\t1.19516 \t45 \t50 \n",
      "88 \t50    \t49.55\t1.0332  \t46 \t50 \n",
      "89 \t63    \t49.44\t1.20266 \t44 \t50 \n",
      "90 \t57    \t49.34\t1.3507  \t45 \t50 \n",
      "91 \t54    \t49.63\t0.986458\t45 \t50 \n",
      "92 \t64    \t49.32\t1.44831 \t43 \t50 \n",
      "93 \t66    \t49.57\t1.13362 \t45 \t50 \n",
      "94 \t64    \t49.42\t1.32801 \t44 \t50 \n",
      "95 \t53    \t49.55\t1.10793 \t44 \t50 \n",
      "96 \t64    \t49.54\t0.994183\t45 \t50 \n",
      "97 \t74    \t49.51\t1.17043 \t44 \t50 \n",
      "98 \t65    \t49.37\t1.43286 \t43 \t50 \n",
      "99 \t53    \t49.58\t0.981631\t46 \t50 \n",
      "100\t56    \t49.44\t1.23548 \t42 \t50 \n"
     ]
    }
   ],
   "source": [
    "# Pseudorandom generator, thanks to which all the runs are the same for easier debugging\n",
    "random.seed(42)\n",
    "\n",
    "pop = toolbox.population(n=100)\n",
    "hof = tools.HallOfFame(1)\n",
    "stats = tools.Statistics(lambda ind: ind.fitness.values)\n",
    "stats.register(\"avg\", np.mean)\n",
    "stats.register(\"std\", np.std)\n",
    "stats.register(\"min\", np.min)\n",
    "stats.register(\"max\", np.max)\n",
    "\n",
    "pop, log = algorithms.eaSimple(pop, toolbox, cxpb=0.5, mutpb=0.2, ngen=100, stats=stats, halloffame=hof, verbose=True)"
   ]
  },
  {
   "cell_type": "markdown",
   "metadata": {},
   "source": [
    "## Domácí úkol - Batoh\n",
    "\n",
    "Za domácí úkol budete mít vyřešit pomocí evolučního algoritmu problém batohu. Ten spočívá v tom, že máme batoh kapacity K a N předmětů, každý s nějakou cenou a objemem, a chceme vybrat takové věci, abychom maximalizovali zisk a zároveň abychom nepřekročili kapacitu batohu.\n",
    "\n",
    "[Detailní zadání](https://kam.mff.cuni.cz/~lorenc/teach/PIA_hw/homeworks-knapsack.html) je možno najít na stránkách cvičení."
   ]
  }
 ],
 "metadata": {
  "kernelspec": {
   "display_name": "Python 3",
   "language": "python",
   "name": "python3"
  },
  "language_info": {
   "codemirror_mode": {
    "name": "ipython",
    "version": 3
   },
   "file_extension": ".py",
   "mimetype": "text/x-python",
   "name": "python",
   "nbconvert_exporter": "python",
   "pygments_lexer": "ipython3",
   "version": "3.10.2"
  }
 },
 "nbformat": 4,
 "nbformat_minor": 2
}
