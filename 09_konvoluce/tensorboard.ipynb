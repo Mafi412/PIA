{
 "cells": [
  {
   "cell_type": "markdown",
   "metadata": {},
   "source": [
    "# Tensorboard\n",
    "\n",
    "Tensorboard je velmi užitečný nástroj pro pochopení, sledování a logování jakýchkoli výpočtů v tensorflow. Tensorflow umí logovat hodnoty všeho, co se v něm počítá a slouží k jejich zobrazení. Pokud chceme tensorboard použít, musíme definovat tzv. summaries, které právě obsahují logy. Potom už stačí jen tensorboard spustit (funguje v prohlížeči)."
   ]
  },
  {
   "cell_type": "code",
   "execution_count": 9,
   "metadata": {},
   "outputs": [],
   "source": [
    "import tensorflow as tf\n",
    "from tensorflow.keras.datasets import mnist"
   ]
  },
  {
   "cell_type": "code",
   "execution_count": 10,
   "metadata": {},
   "outputs": [
    {
     "name": "stdout",
     "output_type": "stream",
     "text": [
      "Epoch 1/10\n",
      "1875/1875 [==============================] - 30s 16ms/step - loss: 0.4622 - accuracy: 0.8627 - val_loss: 0.1533 - val_accuracy: 0.9549\n",
      "Epoch 2/10\n",
      "1875/1875 [==============================] - 19s 10ms/step - loss: 0.1202 - accuracy: 0.9633 - val_loss: 0.0942 - val_accuracy: 0.9720\n",
      "Epoch 3/10\n",
      "1875/1875 [==============================] - 35s 19ms/step - loss: 0.0855 - accuracy: 0.9735 - val_loss: 0.0583 - val_accuracy: 0.9819\n",
      "Epoch 4/10\n",
      "1875/1875 [==============================] - 36s 19ms/step - loss: 0.0684 - accuracy: 0.9791 - val_loss: 0.0503 - val_accuracy: 0.9835\n",
      "Epoch 5/10\n",
      "1875/1875 [==============================] - 20s 11ms/step - loss: 0.0586 - accuracy: 0.9821 - val_loss: 0.0505 - val_accuracy: 0.9851\n",
      "Epoch 6/10\n",
      "1875/1875 [==============================] - 23s 13ms/step - loss: 0.0521 - accuracy: 0.9842 - val_loss: 0.0449 - val_accuracy: 0.9862\n",
      "Epoch 7/10\n",
      "1875/1875 [==============================] - 24s 13ms/step - loss: 0.0462 - accuracy: 0.9856 - val_loss: 0.0430 - val_accuracy: 0.9859\n",
      "Epoch 8/10\n",
      "1875/1875 [==============================] - 20s 11ms/step - loss: 0.0420 - accuracy: 0.9867 - val_loss: 0.0412 - val_accuracy: 0.9867\n",
      "Epoch 9/10\n",
      "1875/1875 [==============================] - 25s 13ms/step - loss: 0.0386 - accuracy: 0.9880 - val_loss: 0.0373 - val_accuracy: 0.9882\n",
      "Epoch 10/10\n",
      "1875/1875 [==============================] - 41s 22ms/step - loss: 0.0349 - accuracy: 0.9892 - val_loss: 0.0394 - val_accuracy: 0.9870\n"
     ]
    }
   ],
   "source": [
    "nb_classes = 10\n",
    "input_shape = (28, 28, 1)\n",
    "\n",
    "(x_train, y_train), (x_test, y_test) = mnist.load_data()\n",
    "x_train = x_train.astype(\"float32\")\n",
    "x_test = x_test.astype(\"float32\")\n",
    "\n",
    "x_train = x_train.reshape((-1,) + input_shape) / 255\n",
    "x_test = x_test.reshape((-1,) + input_shape) / 255\n",
    "\n",
    "with tf.name_scope(\"model\"):\n",
    "\n",
    "    model = tf.keras.models.Sequential([\n",
    "        tf.keras.layers.InputLayer(input_shape = input_shape, name=\"input\"),\n",
    "        tf.keras.layers.Conv2D(filters=32, kernel_size=(5, 5), name=\"conv_1\"),\n",
    "        tf.keras.layers.MaxPool2D(strides=2, pool_size=(2, 2), name=\"maxpool_1\"),\n",
    "        tf.keras.layers.Conv2D(filters=64, kernel_size=5, activation=tf.keras.activations.relu, name=\"conv_2\"),\n",
    "        tf.keras.layers.MaxPool2D(strides=2, pool_size=(2, 2), name=\"maxpool_2\"),\n",
    "        tf.keras.layers.Flatten(name=\"Flatten\"),\n",
    "        tf.keras.layers.Dense(units=30, activation=tf.keras.activations.relu, name=\"dense_1\"),\n",
    "        tf.keras.layers.Dense(units=nb_classes, activation=tf.keras.activations.linear, name=\"dense_2\"),\n",
    "        tf.keras.layers.Activation(activation=tf.nn.softmax)\n",
    "    ])\n",
    "\n",
    "    model.compile(loss=\"sparse_categorical_crossentropy\", optimizer=\"sgd\", metrics=[\"accuracy\"])\n",
    "\n",
    "tb_callbacks = tf.keras.callbacks.TensorBoard(log_dir = \"./logs\", histogram_freq=1, write_images=True)\n",
    "model.fit(x_train, y_train, epochs=10, validation_data=(x_test, y_test), callbacks=[tb_callbacks])\n",
    "pass"
   ]
  },
  {
   "cell_type": "markdown",
   "metadata": {},
   "source": [
    "Teď můžete spustit tensorboard pomocí `tensorboard --logdir=path_to_the_correct_directory/logs` z příkazové řádky a prohlédnout si informace o trénování."
   ]
  }
 ],
 "metadata": {
  "kernelspec": {
   "display_name": "Python 3",
   "language": "python",
   "name": "python3"
  },
  "language_info": {
   "codemirror_mode": {
    "name": "ipython",
    "version": 3
   },
   "file_extension": ".py",
   "mimetype": "text/x-python",
   "name": "python",
   "nbconvert_exporter": "python",
   "pygments_lexer": "ipython3",
   "version": "3.10.2"
  }
 },
 "nbformat": 4,
 "nbformat_minor": 2
}
