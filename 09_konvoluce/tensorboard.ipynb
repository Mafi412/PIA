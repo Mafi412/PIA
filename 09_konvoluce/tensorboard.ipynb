{
 "cells": [
  {
   "cell_type": "markdown",
   "metadata": {},
   "source": [
    "# Tensorboard\n",
    "\n",
    "Tensorboard je velmi užitečný nástroj pro pochopení, sledování a logování jakýchkoli výpočtů v tensorflow. Tensorflow umí logovat hodnoty všeho, co se v něm počítá a slouží k jejich zobrazení. Pokud chceme tensorboard použít, musíme definovat tzv. summaries, které právě obsahují logy. Potom už stačí jen tensorboard spustit (funguje v prohlížeči)."
   ]
  },
  {
   "cell_type": "code",
   "execution_count": 1,
   "metadata": {},
   "outputs": [],
   "source": [
    "import tensorflow as tf\n",
    "from tensorflow.keras.datasets import mnist"
   ]
  },
  {
   "cell_type": "code",
   "execution_count": 2,
   "metadata": {},
   "outputs": [
    {
     "name": "stdout",
     "output_type": "stream",
     "text": [
      "Epoch 1/10\n",
      "1875/1875 [==============================] - 31s 15ms/step - loss: 0.4595 - accuracy: 0.8628 - val_loss: 0.1521 - val_accuracy: 0.9578\n",
      "Epoch 2/10\n",
      "1875/1875 [==============================] - 36s 19ms/step - loss: 0.1289 - accuracy: 0.9616 - val_loss: 0.0871 - val_accuracy: 0.9725\n",
      "Epoch 3/10\n",
      "1875/1875 [==============================] - 24s 13ms/step - loss: 0.0915 - accuracy: 0.9725 - val_loss: 0.0686 - val_accuracy: 0.9778\n",
      "Epoch 4/10\n",
      "1875/1875 [==============================] - 24s 13ms/step - loss: 0.0736 - accuracy: 0.9772 - val_loss: 0.0602 - val_accuracy: 0.9817\n",
      "Epoch 5/10\n",
      "1875/1875 [==============================] - 36s 19ms/step - loss: 0.0624 - accuracy: 0.9803 - val_loss: 0.0516 - val_accuracy: 0.9850\n",
      "Epoch 6/10\n",
      "1875/1875 [==============================] - 37s 20ms/step - loss: 0.0553 - accuracy: 0.9832 - val_loss: 0.0524 - val_accuracy: 0.9827\n",
      "Epoch 7/10\n",
      "1875/1875 [==============================] - 40s 21ms/step - loss: 0.0490 - accuracy: 0.9849 - val_loss: 0.0474 - val_accuracy: 0.9846\n",
      "Epoch 8/10\n",
      "1875/1875 [==============================] - 39s 21ms/step - loss: 0.0448 - accuracy: 0.9857 - val_loss: 0.0444 - val_accuracy: 0.9847\n",
      "Epoch 9/10\n",
      "1875/1875 [==============================] - 38s 20ms/step - loss: 0.0405 - accuracy: 0.9874 - val_loss: 0.0435 - val_accuracy: 0.9864\n",
      "Epoch 10/10\n",
      "1875/1875 [==============================] - 40s 21ms/step - loss: 0.0376 - accuracy: 0.9883 - val_loss: 0.0389 - val_accuracy: 0.9883\n"
     ]
    }
   ],
   "source": [
    "nb_classes = 10\n",
    "input_shape = (28, 28, 1)\n",
    "\n",
    "(x_train, y_train), (x_test, y_test) = mnist.load_data()\n",
    "x_train = x_train.astype(\"float32\")\n",
    "x_test = x_test.astype(\"float32\")\n",
    "\n",
    "x_train = x_train.reshape((-1,) + input_shape) / 255\n",
    "x_test = x_test.reshape((-1,) + input_shape) / 255\n",
    "\n",
    "with tf.name_scope(\"model\"):\n",
    "\n",
    "    model = tf.keras.models.Sequential([\n",
    "        tf.keras.layers.InputLayer(input_shape = input_shape, name=\"input\"),\n",
    "        tf.keras.layers.Conv2D(filters=32, kernel_size=(5, 5), name=\"conv_1\"),\n",
    "        tf.keras.layers.MaxPool2D(strides=2, pool_size=(2, 2), name=\"maxpool_1\"),\n",
    "        tf.keras.layers.Conv2D(filters=64, kernel_size=5, activation=tf.keras.activations.relu, name=\"conv_2\"),\n",
    "        tf.keras.layers.MaxPool2D(strides=2, pool_size=(2, 2), name=\"maxpool_2\"),\n",
    "        tf.keras.layers.Flatten(name=\"Flatten\"),\n",
    "        tf.keras.layers.Dense(units=30, activation=tf.keras.activations.relu, name=\"dense_1\"),\n",
    "        tf.keras.layers.Dense(units=nb_classes, activation=tf.keras.activations.linear, name=\"dense_2\"),\n",
    "        tf.keras.layers.Activation(activation=tf.nn.softmax)\n",
    "    ])\n",
    "\n",
    "    model.compile(loss=\"sparse_categorical_crossentropy\", optimizer=\"sgd\", metrics=[\"accuracy\"])\n",
    "\n",
    "tb_callbacks = tf.keras.callbacks.TensorBoard(log_dir = \"./logs\", histogram_freq=1, write_images=True)\n",
    "model.fit(x_train, y_train, epochs=10, validation_data=(x_test, y_test), callbacks=[tb_callbacks])\n",
    "pass"
   ]
  },
  {
   "cell_type": "markdown",
   "metadata": {},
   "source": [
    "Teď můžete spustit tensorboard pomocí `tensorboard --logdir=path_to_the_correct_directory/logs` z příkazové řádky a prohlédnout si informace o trénování."
   ]
  }
 ],
 "metadata": {
  "kernelspec": {
   "display_name": "Python 3",
   "language": "python",
   "name": "python3"
  },
  "language_info": {
   "codemirror_mode": {
    "name": "ipython",
    "version": 3
   },
   "file_extension": ".py",
   "mimetype": "text/x-python",
   "name": "python",
   "nbconvert_exporter": "python",
   "pygments_lexer": "ipython3",
   "version": "3.10.2"
  }
 },
 "nbformat": 4,
 "nbformat_minor": 2
}
