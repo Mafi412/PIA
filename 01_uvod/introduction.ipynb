{
 "cells": [
  {
   "cell_type": "markdown",
   "metadata": {},
   "source": [
    "# Základy Pythonu\n"
   ]
  },
  {
   "cell_type": "markdown",
   "metadata": {},
   "source": [
    "Python je moderní vysokoúrovňový programovací jazyk. Je populární v oblasti strojového učení, neuronových sítí a evolučních algoritmů, protože je jednoduchý a dobře čitelný. Existují 2 verze – Python 2 a Python 3. V současné době se ještě (teoreticky) používají obě, ale verze 2 by měla přestat být podporována, takže doporučuji používat verzi Python 3. Lze ji stáhnout z: https://www.python.org/\n",
    "\n",
    "Úspěšnost své instalace si můžete ověřit pomocí jednoduchého příkazu *python --version* z příkazové řádky. Samotné skripty je také možno pouštět přímo z ní a to pomocí příkazu *python myscript.py*, který pak na konzoli vypíše výstup skriptu *myscript.py*. Případně je možné používat prostředí jako je VS Code, Spyder, PyCharm nebo Jupyter Notebook."
   ]
  },
  {
   "cell_type": "markdown",
   "metadata": {},
   "source": [
    "## Základní syntax"
   ]
  },
  {
   "cell_type": "code",
   "execution_count": 1,
   "metadata": {},
   "outputs": [
    {
     "name": "stdout",
     "output_type": "stream",
     "text": [
      "Hello, world!\n"
     ]
    }
   ],
   "source": [
    "# Toto je jednoradkový komentar.\n",
    "\n",
    "\"\"\"\n",
    "Toto je paradni\n",
    "viceradkový komentar, \n",
    "protoze vsichni urcite \n",
    "budete dukladne dokumentovat\n",
    "svuj kod.\n",
    "\"\"\"\n",
    "\n",
    "# Vypis na konzoli\n",
    "print(\"Hello, world!\")"
   ]
  },
  {
   "cell_type": "markdown",
   "metadata": {},
   "source": [
    "### Proměnné a datové typy"
   ]
  },
  {
   "cell_type": "markdown",
   "metadata": {},
   "source": [
    "Proměnná je vždy objekt a není třeba definovat její typ, narozdíl od jiných programovacích jazyků. Python má několik defaultně zabudovaných datových typů, nejdůležitější pro nás budou: *str, int, float, list, dict, bool*."
   ]
  },
  {
   "cell_type": "code",
   "execution_count": 2,
   "metadata": {},
   "outputs": [
    {
     "name": "stdout",
     "output_type": "stream",
     "text": [
      "1\n",
      "Hello, world!\n"
     ]
    }
   ],
   "source": [
    "x = 1\n",
    "y = \"Hello, world!\"\n",
    "print(x)\n",
    "print(y)"
   ]
  },
  {
   "cell_type": "code",
   "execution_count": 3,
   "metadata": {},
   "outputs": [
    {
     "name": "stdout",
     "output_type": "stream",
     "text": [
      "<class 'int'>\n",
      "<class 'float'>\n"
     ]
    }
   ],
   "source": [
    "# Zjisteni typu promenne\n",
    "print(type(x))\n",
    "\n",
    "# Konverze mezi jednotlivymi typy promennych\n",
    "a = float(x)\n",
    "print(type(a))"
   ]
  },
  {
   "cell_type": "code",
   "execution_count": 4,
   "metadata": {},
   "outputs": [
    {
     "name": "stdout",
     "output_type": "stream",
     "text": [
      "2\n",
      "[2, 3]\n",
      "3\n"
     ]
    }
   ],
   "source": [
    "# Definice jednoducheho listu\n",
    "int_list = [1, 2, 3, 4]\n",
    "string_list = [\"a\", \"b\", \"c\"]\n",
    "\n",
    "# Indexovani do listu -- vypsani polozky na danem indexu\n",
    "print(int_list[1])\n",
    "\n",
    "# Vypsani podlistu urceneho danymi indexy\n",
    "print(int_list[1:-1])\n",
    "\n",
    "# Zjisteni int_list listu\n",
    "print(len(string_list))"
   ]
  },
  {
   "cell_type": "code",
   "execution_count": 5,
   "metadata": {},
   "outputs": [
    {
     "name": "stdout",
     "output_type": "stream",
     "text": [
      "['b', 'c', 'd']\n"
     ]
    }
   ],
   "source": [
    "# Pridani prvku do listu\n",
    "string_list.append(\"d\")\n",
    "\n",
    "# Smazani prvku z listu\n",
    "string_list.remove(\"a\")\n",
    "\n",
    "print(string_list)"
   ]
  },
  {
   "cell_type": "code",
   "execution_count": 6,
   "metadata": {},
   "outputs": [
    {
     "name": "stdout",
     "output_type": "stream",
     "text": [
      "[1, 2, 3, 4, 'b', 'c', 'd']\n"
     ]
    }
   ],
   "source": [
    "# Sjednoceni dvou listu\n",
    "new_list = int_list + string_list\n",
    "print(new_list)"
   ]
  },
  {
   "cell_type": "code",
   "execution_count": 7,
   "metadata": {},
   "outputs": [
    {
     "name": "stdout",
     "output_type": "stream",
     "text": [
      "[]\n"
     ]
    }
   ],
   "source": [
    "# Smazani listu vs vyprazdneni listu\n",
    "del int_list\n",
    "string_list.clear()\n",
    "\n",
    "print(string_list)\n",
    "#print(int_list)"
   ]
  },
  {
   "cell_type": "code",
   "execution_count": 8,
   "metadata": {},
   "outputs": [
    {
     "name": "stdout",
     "output_type": "stream",
     "text": [
      "1\n",
      "3\n",
      "{'a': 1, 'c': 3, 'd': 4}\n"
     ]
    }
   ],
   "source": [
    "# Definice jednoducheho dictionary\n",
    "my_dict = {\"a\": 1, \"b\": 2, \"c\": 3}\n",
    "\n",
    "# Indexovani do dictionary\n",
    "print(my_dict[\"a\"])\n",
    "\n",
    "# Velikost dictionary\n",
    "print(len(my_dict))\n",
    "\n",
    "# Pridani polozky\n",
    "my_dict[\"d\"] = 4\n",
    "\n",
    "# Smazani polozky\n",
    "del my_dict[\"b\"]\n",
    "print(my_dict)\n"
   ]
  },
  {
   "cell_type": "markdown",
   "metadata": {},
   "source": [
    "### Operátory"
   ]
  },
  {
   "cell_type": "markdown",
   "metadata": {},
   "source": [
    "Mezi užitečné základní operátory patří: x+y, x–y, x*y, x/y, x%y (modulo) a x**y (exponent)\n",
    "\n",
    "Na porovnávání se budou hodit: x==y, x!=y, x>y, x<y, x<=y, x>=y.\n",
    "\n",
    "Logické operátory: x and y, y or y"
   ]
  },
  {
   "cell_type": "markdown",
   "metadata": {},
   "source": [
    "### Cykly"
   ]
  },
  {
   "cell_type": "code",
   "execution_count": 9,
   "metadata": {},
   "outputs": [
    {
     "name": "stdout",
     "output_type": "stream",
     "text": [
      "0\n",
      "1\n",
      "2\n"
     ]
    }
   ],
   "source": [
    "# For cyklus\n",
    "for i in range(0, 3):\n",
    "  print(i)"
   ]
  },
  {
   "cell_type": "code",
   "execution_count": 10,
   "metadata": {},
   "outputs": [
    {
     "name": "stdout",
     "output_type": "stream",
     "text": [
      "1\n",
      "2\n",
      "3\n",
      "4\n"
     ]
    }
   ],
   "source": [
    "my_list = [1, 2, 3, 4]\n",
    "# Iterace v listu\n",
    "for x in my_list:\n",
    "  print(x)"
   ]
  },
  {
   "cell_type": "code",
   "execution_count": 11,
   "metadata": {},
   "outputs": [
    {
     "name": "stdout",
     "output_type": "stream",
     "text": [
      "a 1\n",
      "b 2\n",
      "c 3\n"
     ]
    }
   ],
   "source": [
    "my_dict = {\"a\": 1, \"b\": 2, \"c\": 3}\n",
    "# Iterace ve slovniku\n",
    "for key, value in my_dict.items():\n",
    "  print(key, value)"
   ]
  },
  {
   "cell_type": "code",
   "execution_count": 12,
   "metadata": {},
   "outputs": [
    {
     "name": "stdout",
     "output_type": "stream",
     "text": [
      "18 is equal to or smaller than 21\n"
     ]
    }
   ],
   "source": [
    "x = 18\n",
    "y = 21\n",
    "\n",
    "# If else podminka\n",
    "if x > y:\n",
    "  print(str(x) + \" is greater than \" + str(y))\n",
    "elif x <= y:\n",
    "  print(str(x) + \" is equal to or smaller than \" + str(y))\n",
    "else:\n",
    "  print(\"Wtf, this should never be printed!\")"
   ]
  },
  {
   "cell_type": "code",
   "execution_count": 13,
   "metadata": {},
   "outputs": [
    {
     "name": "stdout",
     "output_type": "stream",
     "text": [
      "0\n",
      "1\n",
      "2\n"
     ]
    }
   ],
   "source": [
    "# While cyklus\n",
    "i = 0\n",
    "while i < 3:\n",
    "  print(i)\n",
    "  i += 1"
   ]
  },
  {
   "cell_type": "markdown",
   "metadata": {},
   "source": [
    "### Funkce a třídy"
   ]
  },
  {
   "cell_type": "code",
   "execution_count": 14,
   "metadata": {},
   "outputs": [
    {
     "name": "stdout",
     "output_type": "stream",
     "text": [
      "Toto je velice uzitecna funkce.\n"
     ]
    }
   ],
   "source": [
    "# Jednoducha bezparametricka funkce\n",
    "def myfunction():\n",
    "  print(\"Toto je velice uzitecna funkce.\")\n",
    "\n",
    "# Zavolani funkce\n",
    "myfunction()"
   ]
  },
  {
   "cell_type": "code",
   "execution_count": 15,
   "metadata": {},
   "outputs": [
    {
     "name": "stdout",
     "output_type": "stream",
     "text": [
      "1\n"
     ]
    }
   ],
   "source": [
    "# Jednoducha trida s defaultni funkci\n",
    "class MyClass():\n",
    "  def __len__(self):\n",
    "    return 1\n",
    "\n",
    "# Vytvoreni instance a zavolani defaultni funkce\n",
    "useless_class = MyClass()\n",
    "print(len(useless_class))"
   ]
  },
  {
   "cell_type": "code",
   "execution_count": 16,
   "metadata": {},
   "outputs": [
    {
     "name": "stdout",
     "output_type": "stream",
     "text": [
      "Hello, I am shark Teddy\n",
      "Wohoo, I am swimming!\n",
      "Hmm, something to eat?\n",
      "Yeah, what a yummy human!\n",
      "Hmm, something to eat?\n",
      "Blah, I won't eat that!\n",
      "['fish', 'human', 'meat', 'cow']\n"
     ]
    }
   ],
   "source": [
    "# Definice jednoduche tridy s par zakladnimi funkcemi\n",
    "class Shark():\n",
    "    yummy = [\"fish\", \"human\", \"meat\"]\n",
    "    \n",
    "    def __init__(self, name):\n",
    "        self.name = name\n",
    "        print(\"Hello, I am shark \" + name)\n",
    "        \n",
    "    def swim(self):\n",
    "        print(\"Wohoo, I am swimming!\")\n",
    "        \n",
    "    def eat(self, item):\n",
    "        print(\"Hmm, something to eat?\")\n",
    "        if item in self.yummy:\n",
    "            print(\"Yeah, what a yummy \" + item + \"!\")\n",
    "        else:\n",
    "            print(\"Blah, I won\\'t eat that!\")\n",
    " \n",
    "# Vytvoreni instance tridy a volani jejich funkci\n",
    "my_shark = Shark(\"Teddy\")\n",
    "my_shark.swim()\n",
    "x = \"human\"\n",
    "my_shark.eat(x)\n",
    "x = \"salad\"\n",
    "my_shark.eat(x)\n",
    "\n",
    "my_shark.yummy.append(\"cow\")\n",
    "print(my_shark.yummy)"
   ]
  },
  {
   "cell_type": "markdown",
   "metadata": {},
   "source": [
    "### Cteni a zapis do souboru"
   ]
  },
  {
   "cell_type": "code",
   "execution_count": 17,
   "metadata": {},
   "outputs": [],
   "source": [
    "# Vytvoreni a zapis do souboru\n",
    "f = open(\"tmp_file.txt\", \"w\") \n",
    "f.write(\"Ted ma soubor aspon jednu radku. \\n\" )\n",
    "f.close()"
   ]
  },
  {
   "cell_type": "code",
   "execution_count": 18,
   "metadata": {},
   "outputs": [],
   "source": [
    "# Pridani radky do jiz existujiciho souboru\n",
    "f = open(\"tmp_file.txt\", \"a\") \n",
    "f.write(\"Ted ma soubor i druhou radku!\")\n",
    "f.close()"
   ]
  },
  {
   "cell_type": "code",
   "execution_count": 19,
   "metadata": {},
   "outputs": [
    {
     "name": "stdout",
     "output_type": "stream",
     "text": [
      "Ted ma soubor aspon jednu radku. \n",
      "\n",
      "Ted ma soubor i druhou radku!\n"
     ]
    }
   ],
   "source": [
    "# Otevreni souboru a vypsani radek\n",
    "f = open(\"tmp_file.txt\", \"r\")\n",
    "for x in f:\n",
    "  print(x)\n",
    "f.close()"
   ]
  },
  {
   "cell_type": "code",
   "execution_count": 20,
   "metadata": {},
   "outputs": [
    {
     "name": "stdout",
     "output_type": "stream",
     "text": [
      "Ted ma soubor aspon jednu radku. \n",
      "\n",
      "Ted ma soubor i druhou radku!\n"
     ]
    }
   ],
   "source": [
    "# Lepsi prace se soubory\n",
    "with open(\"tmp_file.txt\", \"r\") as f:\n",
    "  for x in f:\n",
    "    print(x)"
   ]
  },
  {
   "cell_type": "markdown",
   "metadata": {},
   "source": [
    "## Knihovny"
   ]
  },
  {
   "cell_type": "markdown",
   "metadata": {},
   "source": [
    "Knihovna v Pythonu je kolekce funkcí a metod, které zjednodušují uživatelům práci, protože ti si je pak nemusí psát sami. Pro tento předmět se nám budou hodit například knihovny numpy, matplotlib, pandas, seaborn, scikit-learn a keras.\n",
    "\n",
    "Knihovny je třeba nejdříve nainstalovat a to pomocí příkazu *pip install jmeno_knihovny*."
   ]
  },
  {
   "cell_type": "markdown",
   "metadata": {},
   "source": [
    "### NumPy"
   ]
  },
  {
   "cell_type": "markdown",
   "metadata": {},
   "source": [
    "NumPy je základní knihovna pro analytické počítání v Pythonu. Implementuje hodně operací pro práci s maticemi a vektory, které se nám budou hodit."
   ]
  },
  {
   "cell_type": "code",
   "execution_count": 21,
   "metadata": {},
   "outputs": [
    {
     "name": "stdout",
     "output_type": "stream",
     "text": [
      "[1 2 3]\n",
      "[[1 2 3]\n",
      " [4 5 6]\n",
      " [7 8 9]]\n"
     ]
    }
   ],
   "source": [
    "# Import knihovny a definice jeji zkratky (aliasu), abychom ji pokazde nemuseli psat celou\n",
    "import numpy as np\n",
    "\n",
    "# Vytvoreni jednorozmerneho a dvourozmerneho pole\n",
    "arr = np.array([1,2,3])\n",
    "arr2 = np.array([[1,2,3],[4,5,6],[7,8,9]])\n",
    "print(arr)\n",
    "print(arr2)"
   ]
  },
  {
   "cell_type": "code",
   "execution_count": 22,
   "metadata": {},
   "outputs": [
    {
     "name": "stdout",
     "output_type": "stream",
     "text": [
      "<class 'numpy.ndarray'>\n"
     ]
    }
   ],
   "source": [
    "# Zjisteni typu pole\n",
    "print(type(arr))   "
   ]
  },
  {
   "cell_type": "code",
   "execution_count": 23,
   "metadata": {},
   "outputs": [
    {
     "name": "stdout",
     "output_type": "stream",
     "text": [
      "(3,)\n",
      "(3, 3)\n"
     ]
    }
   ],
   "source": [
    "# Zjisteni dimenze obou poli\n",
    "print(arr.shape)\n",
    "print(arr2.shape)"
   ]
  },
  {
   "cell_type": "code",
   "execution_count": 24,
   "metadata": {},
   "outputs": [
    {
     "name": "stdout",
     "output_type": "stream",
     "text": [
      "[[0. 0.]\n",
      " [0. 0.]]\n",
      "[[1. 1.]\n",
      " [1. 1.]]\n",
      "[[3 3 3]\n",
      " [3 3 3]\n",
      " [3 3 3]]\n",
      "[[1. 0. 0.]\n",
      " [0. 1. 0.]\n",
      " [0. 0. 1.]]\n"
     ]
    }
   ],
   "source": [
    "# Vytvoreni nulove matice o danych rozmerech\n",
    "zeros = np.zeros((2,2))\n",
    "print(zeros)\n",
    "\n",
    "# Vytvoreni jednickove matice o danych rozmerech\n",
    "ones = np.ones((2,2))  \n",
    "print(ones) \n",
    "\n",
    "# Vytvoreni matice s konstantnimi hodnotami o danych rozmerech\n",
    "const = np.full((3,3), 3)\n",
    "print(const)\n",
    "\n",
    "# Vytvoreni matice indentity (jednotkove matice)\n",
    "ident = np.eye(3)\n",
    "print(ident)\n"
   ]
  },
  {
   "cell_type": "code",
   "execution_count": 25,
   "metadata": {},
   "outputs": [
    {
     "name": "stdout",
     "output_type": "stream",
     "text": [
      "[[0.4257861  0.39252441]\n",
      " [0.04828216 0.52981711]]\n"
     ]
    }
   ],
   "source": [
    "# Vytvoreni matice s nahodnymi hodnotami (z intervalu <0,1>)\n",
    "rand = np.random.random((2,2)) \n",
    "print(rand)"
   ]
  },
  {
   "cell_type": "code",
   "execution_count": 26,
   "metadata": {},
   "outputs": [
    {
     "name": "stdout",
     "output_type": "stream",
     "text": [
      "1\n",
      "[1 2 3]\n",
      "1\n",
      "1\n"
     ]
    }
   ],
   "source": [
    "# Indexovani do pole\n",
    "print(arr[0])\n",
    "print(arr2[0])\n",
    "print(arr2[0][0])\n",
    "print(arr2[0,0])"
   ]
  },
  {
   "cell_type": "code",
   "execution_count": 27,
   "metadata": {},
   "outputs": [
    {
     "name": "stdout",
     "output_type": "stream",
     "text": [
      "[[1 2 3]\n",
      " [4 5 6]\n",
      " [7 8 9]]\n",
      "[4 5 6]\n",
      "[[1 2 3]]\n",
      "[2 5 8]\n",
      "[[1]\n",
      " [4]\n",
      " [7]]\n"
     ]
    }
   ],
   "source": [
    "print(arr2)\n",
    "\n",
    "# Vypise radek na indexu 1\n",
    "print(arr2[1,:])\n",
    "\n",
    "# Vypise radky az po index 1 (tedy pouze radek na indexu 0)\n",
    "print(arr2[:1,:])\n",
    "\n",
    "# Vypise sloupec na indexu 1\n",
    "print(arr2[:,1])\n",
    "\n",
    "# Vypise sloupce az po index 1 (tedy pouze sloupec na indexu 0)\n",
    "print(arr2[:,:1])"
   ]
  },
  {
   "cell_type": "code",
   "execution_count": 28,
   "metadata": {},
   "outputs": [
    {
     "name": "stdout",
     "output_type": "stream",
     "text": [
      "[[4 5]\n",
      " [7 8]]\n"
     ]
    }
   ],
   "source": [
    "# Co asi vypise tohle?\n",
    "print(arr2[1:,:-1])"
   ]
  },
  {
   "cell_type": "code",
   "execution_count": 29,
   "metadata": {},
   "outputs": [
    {
     "name": "stdout",
     "output_type": "stream",
     "text": [
      "[0 2 4 6]\n"
     ]
    }
   ],
   "source": [
    "# Vytvoreni vektoru po sobe jdoucich cisel\n",
    "print(np.arange(0,8,step=2)) "
   ]
  },
  {
   "cell_type": "code",
   "execution_count": 30,
   "metadata": {},
   "outputs": [
    {
     "name": "stdout",
     "output_type": "stream",
     "text": [
      "[[1. 2.]\n",
      " [3. 4.]]\n"
     ]
    }
   ],
   "source": [
    "# Explicitni nastaveni datoveho typu pole\n",
    "arr_float = np.array([[1,2],[3,4]], dtype=np.float64)\n",
    "print(arr_float)"
   ]
  },
  {
   "cell_type": "code",
   "execution_count": 31,
   "metadata": {},
   "outputs": [
    {
     "name": "stdout",
     "output_type": "stream",
     "text": [
      "[[1. 2. 3. 4.]]\n"
     ]
    }
   ],
   "source": [
    "# Reshape matice do jinych rozmeru\n",
    "print(np.reshape(arr_float,newshape=(1,4)))"
   ]
  },
  {
   "cell_type": "code",
   "execution_count": 32,
   "metadata": {},
   "outputs": [
    {
     "name": "stdout",
     "output_type": "stream",
     "text": [
      "[[1. 1.]\n",
      " [1. 1.]\n",
      " [0. 0.]\n",
      " [0. 0.]]\n",
      "[[1. 1. 0. 0.]\n",
      " [1. 1. 0. 0.]]\n"
     ]
    }
   ],
   "source": [
    "# Slepovani matic ze sebe nebo vedle sebe\n",
    "print(np.vstack((ones, zeros)))\n",
    "print(np.hstack((ones, zeros)))"
   ]
  },
  {
   "cell_type": "code",
   "execution_count": 33,
   "metadata": {},
   "outputs": [
    {
     "name": "stdout",
     "output_type": "stream",
     "text": [
      "[2. 2.]\n",
      "[2. 2.]\n",
      "[[2. 2.]]\n",
      "[[2.]\n",
      " [2.]]\n"
     ]
    }
   ],
   "source": [
    "# Secteni hodnot ve sloupci a v radku\n",
    "print(np.sum(ones,axis=0))\n",
    "print(np.sum(ones,axis=1))\n",
    "print(np.sum(ones,axis=0, keepdims=True))\n",
    "print(np.sum(ones,axis=1, keepdims=True))"
   ]
  },
  {
   "cell_type": "markdown",
   "metadata": {},
   "source": [
    "### Pandas"
   ]
  },
  {
   "cell_type": "markdown",
   "metadata": {},
   "source": [
    "Pandas je knihovna, která se používá pro analýzu dat, které lze reprezentovat 2D tabulkou. Jednoduše řečeno, co jde dělat v Excelu, jde dělat i v Pandas, který má ovšem funkce navíc a umí plno věcí automatizovat.\n",
    "\n",
    "V této části budeme pracovat s jedním ze základních datasetů, datasetem Iris, který obsahuje soubor údajů o květinách rodu Iris (Kosatec), který byl zaveden již ve 30. letech 20. stotelí britským biologem Ronaldem Fisherem. Soubor se skládá z 50 vzorků od každého ze tří druhů Iris (Iris setosa, Iris virginica a Iris versicolor). U každého ze vzorků byly změřeny čtyři rysy: délka a šířka kalichu a okvětních lístků v centimetrech. Na základě kombinace těchto čtyř rysů Fisher vyvinul lineární diskriminační model, aby od sebe druhy odlišil."
   ]
  },
  {
   "cell_type": "code",
   "execution_count": 34,
   "metadata": {},
   "outputs": [
    {
     "data": {
      "text/html": [
       "<div>\n",
       "<style scoped>\n",
       "    .dataframe tbody tr th:only-of-type {\n",
       "        vertical-align: middle;\n",
       "    }\n",
       "\n",
       "    .dataframe tbody tr th {\n",
       "        vertical-align: top;\n",
       "    }\n",
       "\n",
       "    .dataframe thead th {\n",
       "        text-align: right;\n",
       "    }\n",
       "</style>\n",
       "<table border=\"1\" class=\"dataframe\">\n",
       "  <thead>\n",
       "    <tr style=\"text-align: right;\">\n",
       "      <th></th>\n",
       "      <th>sepal.length</th>\n",
       "      <th>sepal.width</th>\n",
       "      <th>petal.length</th>\n",
       "      <th>petal.width</th>\n",
       "      <th>variety</th>\n",
       "    </tr>\n",
       "  </thead>\n",
       "  <tbody>\n",
       "    <tr>\n",
       "      <th>0</th>\n",
       "      <td>5.1</td>\n",
       "      <td>3.5</td>\n",
       "      <td>1.4</td>\n",
       "      <td>0.2</td>\n",
       "      <td>Setosa</td>\n",
       "    </tr>\n",
       "    <tr>\n",
       "      <th>1</th>\n",
       "      <td>4.9</td>\n",
       "      <td>3.0</td>\n",
       "      <td>1.4</td>\n",
       "      <td>0.2</td>\n",
       "      <td>Setosa</td>\n",
       "    </tr>\n",
       "    <tr>\n",
       "      <th>2</th>\n",
       "      <td>4.7</td>\n",
       "      <td>3.2</td>\n",
       "      <td>1.3</td>\n",
       "      <td>0.2</td>\n",
       "      <td>Setosa</td>\n",
       "    </tr>\n",
       "    <tr>\n",
       "      <th>3</th>\n",
       "      <td>4.6</td>\n",
       "      <td>3.1</td>\n",
       "      <td>1.5</td>\n",
       "      <td>0.2</td>\n",
       "      <td>Setosa</td>\n",
       "    </tr>\n",
       "    <tr>\n",
       "      <th>4</th>\n",
       "      <td>5.0</td>\n",
       "      <td>3.6</td>\n",
       "      <td>1.4</td>\n",
       "      <td>0.2</td>\n",
       "      <td>Setosa</td>\n",
       "    </tr>\n",
       "  </tbody>\n",
       "</table>\n",
       "</div>"
      ],
      "text/plain": [
       "   sepal.length  sepal.width  petal.length  petal.width variety\n",
       "0           5.1          3.5           1.4          0.2  Setosa\n",
       "1           4.9          3.0           1.4          0.2  Setosa\n",
       "2           4.7          3.2           1.3          0.2  Setosa\n",
       "3           4.6          3.1           1.5          0.2  Setosa\n",
       "4           5.0          3.6           1.4          0.2  Setosa"
      ]
     },
     "execution_count": 34,
     "metadata": {},
     "output_type": "execute_result"
    }
   ],
   "source": [
    "import pandas as pd\n",
    "\n",
    "# Import iris dataset\n",
    "iris = pd.read_csv(\"iris.csv\")\n",
    "\n",
    "# Vypsani prvnich par radku\n",
    "iris.head()"
   ]
  },
  {
   "cell_type": "code",
   "execution_count": 35,
   "metadata": {},
   "outputs": [
    {
     "data": {
      "text/html": [
       "<div>\n",
       "<style scoped>\n",
       "    .dataframe tbody tr th:only-of-type {\n",
       "        vertical-align: middle;\n",
       "    }\n",
       "\n",
       "    .dataframe tbody tr th {\n",
       "        vertical-align: top;\n",
       "    }\n",
       "\n",
       "    .dataframe thead th {\n",
       "        text-align: right;\n",
       "    }\n",
       "</style>\n",
       "<table border=\"1\" class=\"dataframe\">\n",
       "  <thead>\n",
       "    <tr style=\"text-align: right;\">\n",
       "      <th></th>\n",
       "      <th>sepal.length</th>\n",
       "      <th>sepal.width</th>\n",
       "      <th>petal.length</th>\n",
       "      <th>petal.width</th>\n",
       "    </tr>\n",
       "  </thead>\n",
       "  <tbody>\n",
       "    <tr>\n",
       "      <th>count</th>\n",
       "      <td>150.000000</td>\n",
       "      <td>150.000000</td>\n",
       "      <td>150.000000</td>\n",
       "      <td>150.000000</td>\n",
       "    </tr>\n",
       "    <tr>\n",
       "      <th>mean</th>\n",
       "      <td>5.843333</td>\n",
       "      <td>3.057333</td>\n",
       "      <td>3.758000</td>\n",
       "      <td>1.199333</td>\n",
       "    </tr>\n",
       "    <tr>\n",
       "      <th>std</th>\n",
       "      <td>0.828066</td>\n",
       "      <td>0.435866</td>\n",
       "      <td>1.765298</td>\n",
       "      <td>0.762238</td>\n",
       "    </tr>\n",
       "    <tr>\n",
       "      <th>min</th>\n",
       "      <td>4.300000</td>\n",
       "      <td>2.000000</td>\n",
       "      <td>1.000000</td>\n",
       "      <td>0.100000</td>\n",
       "    </tr>\n",
       "    <tr>\n",
       "      <th>25%</th>\n",
       "      <td>5.100000</td>\n",
       "      <td>2.800000</td>\n",
       "      <td>1.600000</td>\n",
       "      <td>0.300000</td>\n",
       "    </tr>\n",
       "    <tr>\n",
       "      <th>50%</th>\n",
       "      <td>5.800000</td>\n",
       "      <td>3.000000</td>\n",
       "      <td>4.350000</td>\n",
       "      <td>1.300000</td>\n",
       "    </tr>\n",
       "    <tr>\n",
       "      <th>75%</th>\n",
       "      <td>6.400000</td>\n",
       "      <td>3.300000</td>\n",
       "      <td>5.100000</td>\n",
       "      <td>1.800000</td>\n",
       "    </tr>\n",
       "    <tr>\n",
       "      <th>max</th>\n",
       "      <td>7.900000</td>\n",
       "      <td>4.400000</td>\n",
       "      <td>6.900000</td>\n",
       "      <td>2.500000</td>\n",
       "    </tr>\n",
       "  </tbody>\n",
       "</table>\n",
       "</div>"
      ],
      "text/plain": [
       "       sepal.length  sepal.width  petal.length  petal.width\n",
       "count    150.000000   150.000000    150.000000   150.000000\n",
       "mean       5.843333     3.057333      3.758000     1.199333\n",
       "std        0.828066     0.435866      1.765298     0.762238\n",
       "min        4.300000     2.000000      1.000000     0.100000\n",
       "25%        5.100000     2.800000      1.600000     0.300000\n",
       "50%        5.800000     3.000000      4.350000     1.300000\n",
       "75%        6.400000     3.300000      5.100000     1.800000\n",
       "max        7.900000     4.400000      6.900000     2.500000"
      ]
     },
     "execution_count": 35,
     "metadata": {},
     "output_type": "execute_result"
    }
   ],
   "source": [
    "# Vypsani par statistickych informaci o datasetu\n",
    "iris.describe()"
   ]
  },
  {
   "cell_type": "code",
   "execution_count": 36,
   "metadata": {},
   "outputs": [
    {
     "data": {
      "text/html": [
       "<div>\n",
       "<style scoped>\n",
       "    .dataframe tbody tr th:only-of-type {\n",
       "        vertical-align: middle;\n",
       "    }\n",
       "\n",
       "    .dataframe tbody tr th {\n",
       "        vertical-align: top;\n",
       "    }\n",
       "\n",
       "    .dataframe thead th {\n",
       "        text-align: right;\n",
       "    }\n",
       "</style>\n",
       "<table border=\"1\" class=\"dataframe\">\n",
       "  <thead>\n",
       "    <tr style=\"text-align: right;\">\n",
       "      <th></th>\n",
       "      <th>sepal.length</th>\n",
       "      <th>sepal.width</th>\n",
       "      <th>petal.length</th>\n",
       "      <th>petal.width</th>\n",
       "      <th>variety</th>\n",
       "    </tr>\n",
       "  </thead>\n",
       "  <tbody>\n",
       "    <tr>\n",
       "      <th>8</th>\n",
       "      <td>4.4</td>\n",
       "      <td>2.9</td>\n",
       "      <td>1.4</td>\n",
       "      <td>0.2</td>\n",
       "      <td>Setosa</td>\n",
       "    </tr>\n",
       "    <tr>\n",
       "      <th>13</th>\n",
       "      <td>4.3</td>\n",
       "      <td>3.0</td>\n",
       "      <td>1.1</td>\n",
       "      <td>0.1</td>\n",
       "      <td>Setosa</td>\n",
       "    </tr>\n",
       "    <tr>\n",
       "      <th>38</th>\n",
       "      <td>4.4</td>\n",
       "      <td>3.0</td>\n",
       "      <td>1.3</td>\n",
       "      <td>0.2</td>\n",
       "      <td>Setosa</td>\n",
       "    </tr>\n",
       "    <tr>\n",
       "      <th>42</th>\n",
       "      <td>4.4</td>\n",
       "      <td>3.2</td>\n",
       "      <td>1.3</td>\n",
       "      <td>0.2</td>\n",
       "      <td>Setosa</td>\n",
       "    </tr>\n",
       "  </tbody>\n",
       "</table>\n",
       "</div>"
      ],
      "text/plain": [
       "    sepal.length  sepal.width  petal.length  petal.width variety\n",
       "8            4.4          2.9           1.4          0.2  Setosa\n",
       "13           4.3          3.0           1.1          0.1  Setosa\n",
       "38           4.4          3.0           1.3          0.2  Setosa\n",
       "42           4.4          3.2           1.3          0.2  Setosa"
      ]
     },
     "execution_count": 36,
     "metadata": {},
     "output_type": "execute_result"
    }
   ],
   "source": [
    "# Filtrovani radku podle hodnoty v danem sloupci\n",
    "iris[iris[\"sepal.length\"] < 4.5]"
   ]
  },
  {
   "cell_type": "code",
   "execution_count": 37,
   "metadata": {},
   "outputs": [
    {
     "data": {
      "text/html": [
       "<div>\n",
       "<style scoped>\n",
       "    .dataframe tbody tr th:only-of-type {\n",
       "        vertical-align: middle;\n",
       "    }\n",
       "\n",
       "    .dataframe tbody tr th {\n",
       "        vertical-align: top;\n",
       "    }\n",
       "\n",
       "    .dataframe thead th {\n",
       "        text-align: right;\n",
       "    }\n",
       "</style>\n",
       "<table border=\"1\" class=\"dataframe\">\n",
       "  <thead>\n",
       "    <tr style=\"text-align: right;\">\n",
       "      <th></th>\n",
       "      <th>sepal.length</th>\n",
       "      <th>sepal.width</th>\n",
       "      <th>petal.length</th>\n",
       "      <th>petal.width</th>\n",
       "      <th>variety</th>\n",
       "      <th>sepal_ratio</th>\n",
       "    </tr>\n",
       "  </thead>\n",
       "  <tbody>\n",
       "    <tr>\n",
       "      <th>0</th>\n",
       "      <td>5.1</td>\n",
       "      <td>3.5</td>\n",
       "      <td>1.4</td>\n",
       "      <td>0.2</td>\n",
       "      <td>Setosa</td>\n",
       "      <td>1.457143</td>\n",
       "    </tr>\n",
       "    <tr>\n",
       "      <th>1</th>\n",
       "      <td>4.9</td>\n",
       "      <td>3.0</td>\n",
       "      <td>1.4</td>\n",
       "      <td>0.2</td>\n",
       "      <td>Setosa</td>\n",
       "      <td>1.633333</td>\n",
       "    </tr>\n",
       "    <tr>\n",
       "      <th>2</th>\n",
       "      <td>4.7</td>\n",
       "      <td>3.2</td>\n",
       "      <td>1.3</td>\n",
       "      <td>0.2</td>\n",
       "      <td>Setosa</td>\n",
       "      <td>1.468750</td>\n",
       "    </tr>\n",
       "  </tbody>\n",
       "</table>\n",
       "</div>"
      ],
      "text/plain": [
       "   sepal.length  sepal.width  petal.length  petal.width variety  sepal_ratio\n",
       "0           5.1          3.5           1.4          0.2  Setosa     1.457143\n",
       "1           4.9          3.0           1.4          0.2  Setosa     1.633333\n",
       "2           4.7          3.2           1.3          0.2  Setosa     1.468750"
      ]
     },
     "execution_count": 37,
     "metadata": {},
     "output_type": "execute_result"
    }
   ],
   "source": [
    "# Pridani noveho sloupce\n",
    "iris[\"sepal_ratio\"] = iris[\"sepal.length\"]/iris[\"sepal.width\"]\n",
    "iris.head(3)"
   ]
  },
  {
   "cell_type": "code",
   "execution_count": 38,
   "metadata": {},
   "outputs": [
    {
     "data": {
      "text/html": [
       "<div>\n",
       "<style scoped>\n",
       "    .dataframe tbody tr th:only-of-type {\n",
       "        vertical-align: middle;\n",
       "    }\n",
       "\n",
       "    .dataframe tbody tr th {\n",
       "        vertical-align: top;\n",
       "    }\n",
       "\n",
       "    .dataframe thead th {\n",
       "        text-align: right;\n",
       "    }\n",
       "</style>\n",
       "<table border=\"1\" class=\"dataframe\">\n",
       "  <thead>\n",
       "    <tr style=\"text-align: right;\">\n",
       "      <th></th>\n",
       "      <th>sepal.length</th>\n",
       "      <th>sepal.width</th>\n",
       "      <th>petal.length</th>\n",
       "      <th>petal.width</th>\n",
       "      <th>variety</th>\n",
       "    </tr>\n",
       "  </thead>\n",
       "  <tbody>\n",
       "    <tr>\n",
       "      <th>0</th>\n",
       "      <td>5.1</td>\n",
       "      <td>3.5</td>\n",
       "      <td>1.4</td>\n",
       "      <td>0.2</td>\n",
       "      <td>Setosa</td>\n",
       "    </tr>\n",
       "    <tr>\n",
       "      <th>1</th>\n",
       "      <td>4.9</td>\n",
       "      <td>3.0</td>\n",
       "      <td>1.4</td>\n",
       "      <td>0.2</td>\n",
       "      <td>Setosa</td>\n",
       "    </tr>\n",
       "    <tr>\n",
       "      <th>2</th>\n",
       "      <td>4.7</td>\n",
       "      <td>3.2</td>\n",
       "      <td>1.3</td>\n",
       "      <td>0.2</td>\n",
       "      <td>Setosa</td>\n",
       "    </tr>\n",
       "  </tbody>\n",
       "</table>\n",
       "</div>"
      ],
      "text/plain": [
       "   sepal.length  sepal.width  petal.length  petal.width variety\n",
       "0           5.1          3.5           1.4          0.2  Setosa\n",
       "1           4.9          3.0           1.4          0.2  Setosa\n",
       "2           4.7          3.2           1.3          0.2  Setosa"
      ]
     },
     "execution_count": 38,
     "metadata": {},
     "output_type": "execute_result"
    }
   ],
   "source": [
    "# Smazani daneho sloupce\n",
    "del iris[\"sepal_ratio\"]\n",
    "iris.head(3)"
   ]
  },
  {
   "cell_type": "code",
   "execution_count": 39,
   "metadata": {},
   "outputs": [
    {
     "data": {
      "text/html": [
       "<div>\n",
       "<style scoped>\n",
       "    .dataframe tbody tr th:only-of-type {\n",
       "        vertical-align: middle;\n",
       "    }\n",
       "\n",
       "    .dataframe tbody tr th {\n",
       "        vertical-align: top;\n",
       "    }\n",
       "\n",
       "    .dataframe thead th {\n",
       "        text-align: right;\n",
       "    }\n",
       "</style>\n",
       "<table border=\"1\" class=\"dataframe\">\n",
       "  <thead>\n",
       "    <tr style=\"text-align: right;\">\n",
       "      <th></th>\n",
       "      <th>sepal.length</th>\n",
       "      <th>sepal.width</th>\n",
       "      <th>petal.length</th>\n",
       "      <th>petal.width</th>\n",
       "      <th>variety</th>\n",
       "    </tr>\n",
       "  </thead>\n",
       "  <tbody>\n",
       "    <tr>\n",
       "      <th>0</th>\n",
       "      <td>5.1</td>\n",
       "      <td>3.5</td>\n",
       "      <td>1.4</td>\n",
       "      <td>0.2</td>\n",
       "      <td>0</td>\n",
       "    </tr>\n",
       "    <tr>\n",
       "      <th>1</th>\n",
       "      <td>4.9</td>\n",
       "      <td>3.0</td>\n",
       "      <td>1.4</td>\n",
       "      <td>0.2</td>\n",
       "      <td>0</td>\n",
       "    </tr>\n",
       "    <tr>\n",
       "      <th>2</th>\n",
       "      <td>4.7</td>\n",
       "      <td>3.2</td>\n",
       "      <td>1.3</td>\n",
       "      <td>0.2</td>\n",
       "      <td>0</td>\n",
       "    </tr>\n",
       "    <tr>\n",
       "      <th>3</th>\n",
       "      <td>4.6</td>\n",
       "      <td>3.1</td>\n",
       "      <td>1.5</td>\n",
       "      <td>0.2</td>\n",
       "      <td>0</td>\n",
       "    </tr>\n",
       "    <tr>\n",
       "      <th>4</th>\n",
       "      <td>5.0</td>\n",
       "      <td>3.6</td>\n",
       "      <td>1.4</td>\n",
       "      <td>0.2</td>\n",
       "      <td>0</td>\n",
       "    </tr>\n",
       "  </tbody>\n",
       "</table>\n",
       "</div>"
      ],
      "text/plain": [
       "   sepal.length  sepal.width  petal.length  petal.width  variety\n",
       "0           5.1          3.5           1.4          0.2        0\n",
       "1           4.9          3.0           1.4          0.2        0\n",
       "2           4.7          3.2           1.3          0.2        0\n",
       "3           4.6          3.1           1.5          0.2        0\n",
       "4           5.0          3.6           1.4          0.2        0"
      ]
     },
     "execution_count": 39,
     "metadata": {},
     "output_type": "execute_result"
    }
   ],
   "source": [
    "# Vytvorime si novy sloupec, kam prevedeme hodnoty na kategorie\n",
    "labels = {\"Setosa\": 0, \"Virginica\": 1, \"Versicolor\": 2}\n",
    "iris = iris.replace({\"variety\": labels})\n",
    "iris.head()"
   ]
  },
  {
   "cell_type": "markdown",
   "metadata": {},
   "source": [
    "### Matplotlib"
   ]
  },
  {
   "cell_type": "markdown",
   "metadata": {},
   "source": [
    "Matplotlib je knihovna, která slouží ke zobrazování 2D grafů na základě zadaných dat. Ukážeme si použití několika základních typů grafů, které se mohou hodit."
   ]
  },
  {
   "cell_type": "code",
   "execution_count": 40,
   "metadata": {},
   "outputs": [
    {
     "data": {
      "image/png": "[encoded data removed]",
      "text/plain": [
       "<Figure size 640x480 with 1 Axes>"
      ]
     },
     "metadata": {},
     "output_type": "display_data"
    }
   ],
   "source": [
    "import matplotlib.pyplot as plt\n",
    "\n",
    "plt.scatter(iris[\"sepal.width\"], iris[\"sepal.length\"], c=iris[\"variety\"])\n",
    "plt.title(\"Iris dataset\")\n",
    "plt.xlabel(\"Sepal width\")\n",
    "plt.ylabel(\"Sepal length\") \n",
    "plt.show()\n",
    "# plt.savefig(\"iris.png\")"
   ]
  },
  {
   "cell_type": "code",
   "execution_count": 41,
   "metadata": {},
   "outputs": [],
   "source": [
    "# Dalsi druhy grafu\n",
    "mean_sep_len=iris[\"sepal.length\"].sum()/len(iris[\"sepal.length\"])\n",
    "mean_sep_wid=iris[\"sepal.width\"].sum()/len(iris[\"sepal.width\"])\n",
    "mean_pet_len=iris[\"petal.length\"].sum()/len(iris[\"petal.length\"])\n",
    "mean_pet_wid=iris[\"petal.width\"].sum()/len(iris[\"petal.width\"])"
   ]
  },
  {
   "cell_type": "code",
   "execution_count": 42,
   "metadata": {},
   "outputs": [
    {
     "data": {
      "image/png": "[encoded data removed]",
      "text/plain": [
       "<Figure size 640x480 with 1 Axes>"
      ]
     },
     "metadata": {},
     "output_type": "display_data"
    }
   ],
   "source": [
    "# Sloupcovy\n",
    "data = [mean_sep_len,mean_sep_wid,mean_pet_len,mean_pet_wid]\n",
    "labels = [\"sep_length\",\"sep_width\",\"pet_length\",\"pet_width\"]\n",
    "y_pos = np.arange(len(data))\n",
    "plt.bar(y_pos, data)\n",
    "plt.title(\"Mean width and height\")\n",
    "plt.xticks(y_pos, labels)\n",
    "plt.show()"
   ]
  },
  {
   "cell_type": "code",
   "execution_count": 43,
   "metadata": {},
   "outputs": [
    {
     "data": {
      "image/png": "[encoded data removed]",
      "text/plain": [
       "<Figure size 640x480 with 1 Axes>"
      ]
     },
     "metadata": {},
     "output_type": "display_data"
    }
   ],
   "source": [
    "# Klasicky graf\n",
    "plt.plot(data,\"ro--\")\n",
    "plt.title(\"Mean width and height\")\n",
    "plt.xticks(y_pos, labels)\n",
    "plt.show()"
   ]
  },
  {
   "cell_type": "markdown",
   "metadata": {},
   "source": [
    "### Seaborn"
   ]
  },
  {
   "cell_type": "markdown",
   "metadata": {},
   "source": [
    "V případě, že bychom chtěli provést nějaké \"složitější\" vykreslování a nechtělo by se nám hrabat v Matplotlibu a předpřipravovat si data předpočítáváním, máme tu ještě knihovnu Seaborn. Ta nám poskytuje v podstatě high-level API pro vykreslování grafů a interně využívá Matplotlib. Tedy použitím Seabornu získáme jednoduchý způsob, jak provádět některé úkony pro zobrazení, ale zároveň nám zůstává možnost dál dělat jakékoli dolaďování jako v Matplotlibu."
   ]
  },
  {
   "cell_type": "code",
   "execution_count": 44,
   "metadata": {},
   "outputs": [
    {
     "data": {
      "image/png": "[encoded data removed]",
      "text/plain": [
       "<Figure size 640x480 with 1 Axes>"
      ]
     },
     "metadata": {},
     "output_type": "display_data"
    }
   ],
   "source": [
    "import seaborn as sns\n",
    "\n",
    "# Nastavime, jak chceme, aby se grafy zobrazovaly\n",
    "sns.set_theme(\n",
    "    context=\"paper\",\n",
    "    style=\"darkgrid\",\n",
    "    palette=sns.color_palette([\"red\", \"green\", \"blue\"])\n",
    ")\n",
    "\n",
    "all_data = []\n",
    "\n",
    "for i in range(3):\n",
    "    # Nagenerujme data nejakeho behu populace\n",
    "    base = np.cumsum(2 * np.random.rand(100) - 1)\n",
    "    population_noise = np.random.rand(100, 20) * np.arange(100)[:, np.newaxis]\n",
    "    population_noise = population_noise - np.mean(population_noise, axis=1)[:, np.newaxis]\n",
    "    data = base[:, np.newaxis] + population_noise\n",
    "\n",
    "    # Vytvorime DataFrame a zmenime format z hezky citelneho \"wide\" na \"long\", ktery se zas hodi pro zobrazovani.\n",
    "    df = pd.DataFrame(data, index=pd.RangeIndex(1, 101))\n",
    "    df = df.reset_index().rename(columns={\"index\": \"Iteration\"})\n",
    "    df = df.melt(id_vars=\"Iteration\", var_name=\"Individual\", value_name=\"Value\")\n",
    "    \n",
    "    # Pridame si index experimentu a prihodime si data do kolekce vsech experimentu\n",
    "    df[\"Experiment name\"] = \"Experiment \" + str(i)\n",
    "    all_data.append(df)\n",
    "    \n",
    "# Vytvorime DataFrame ze vsech dat\n",
    "all_data = pd.concat(all_data)\n",
    "\n",
    "# Nechame seaborn, aby za nas spocetl percentilove intervaly a zobrazil kazdy experiment zvlast s jinou barvou\n",
    "sns.lineplot(x=\"Iteration\", y=\"Value\", hue=\"Experiment name\", errorbar=\"pi\", data=all_data)\n",
    "# Vyuzijeme toho, ze podkladove je stale vyuzivan matplotlib a zmenime s jeho pomoci umisteni legendy, aby neprekazela\n",
    "plt.legend(loc=\"upper left\", shadow=True)\n",
    "plt.show()\n",
    "\n",
    "# Reset the matplotlib theme to the default\n",
    "plt.rcdefaults()"
   ]
  },
  {
   "cell_type": "markdown",
   "metadata": {},
   "source": [
    "## Příklad - lineární regrese"
   ]
  },
  {
   "cell_type": "markdown",
   "metadata": {},
   "source": [
    "Nyní jsme si vysvětlili základní syntax jazyka Python a ukázali pár užitečných knihoven. Zkusíme si tedy vytvořit jeden ze základních algoritmů strojového učení - lineární regresi. Lineární regrese je metoda používaná k proložení souboru bodů v grafu přímkou tak, aby vzdálenost (záleží ale na definici vzdálenosti) všech bodů od této přímky byla co nejmenší. K tomu bude potřeba si vyrobit nějaký dataset, rozdělit data na trénovací a testovací, natrénovat a ohodnotit model a následně zobrazit data i s výslednou přímkou.\n",
    "\n",
    "(https://cs.wikipedia.org/wiki/Line%C3%A1rn%C3%AD_regrese)"
   ]
  },
  {
   "cell_type": "code",
   "execution_count": 45,
   "metadata": {},
   "outputs": [
    {
     "data": {
      "text/plain": [
       "<matplotlib.collections.PathCollection at 0x200bbe7ef80>"
      ]
     },
     "execution_count": 45,
     "metadata": {},
     "output_type": "execute_result"
    },
    {
     "data": {
      "image/png": "[encoded data removed]",
      "text/plain": [
       "<Figure size 640x480 with 1 Axes>"
      ]
     },
     "metadata": {},
     "output_type": "display_data"
    }
   ],
   "source": [
    "# Vytvorime si 100 nahodnych bodu pomoci linearni funkce\n",
    "x = np.arange(100)\n",
    "delta = np.random.uniform(0, 20, size=(100))\n",
    "y = 0.5 * x + delta\n",
    "plt.scatter(x,y)"
   ]
  },
  {
   "cell_type": "code",
   "execution_count": 46,
   "metadata": {},
   "outputs": [
    {
     "data": {
      "text/plain": [
       "<matplotlib.collections.PathCollection at 0x200c3d6f310>"
      ]
     },
     "execution_count": 46,
     "metadata": {},
     "output_type": "execute_result"
    },
    {
     "data": {
      "image/png": "[encoded data removed]",
      "text/plain": [
       "<Figure size 640x480 with 1 Axes>"
      ]
     },
     "metadata": {},
     "output_type": "display_data"
    }
   ],
   "source": [
    "# Rozdelime si data na trenovaci a testovaci v pomeru 80:20\n",
    "permutation = np.random.permutation(100)\n",
    "train_idx = permutation[:80]\n",
    "test_idx = permutation[80:]\n",
    "train_x, test_x = x[train_idx], x[test_idx]\n",
    "train_y, test_y = y[train_idx], y[test_idx]\n",
    "\n",
    "# Zobrazime si rozlozeni trenovacich a testovacich dat\n",
    "plt.scatter(train_x, train_y, label=\"Train\")\n",
    "plt.scatter(test_x, test_y, label=\"Test\")"
   ]
  },
  {
   "cell_type": "code",
   "execution_count": 47,
   "metadata": {},
   "outputs": [],
   "source": [
    "# Definujeme si tridu, ktera bude pocitat linearni regresi \n",
    "class LinearRegression:\n",
    "    def fit(self, x, y):\n",
    "        # Podle vzorecku pro linearni regresi (viz wikipedie) spocitame parametry a a b (Chceme y = a * x + b)\n",
    "        n = np.size(x)\n",
    "        sum_xy = np.sum(x * y)\n",
    "        sum_xx = np.sum(x * x)\n",
    "        sum_x = np.sum(x)\n",
    "        sum_y = np.sum(y)\n",
    "        self.a = (n * sum_xy - sum_x * sum_y) / (n * sum_xx - sum_x * sum_x)\n",
    "        self.b = (sum_xx * sum_y - sum_x * sum_xy) / (n * sum_xx - sum_x * sum_x)\n",
    "        \n",
    "        print(\"Estimated coefficients:\\na = {}\\nb = {}\".format(self.a, self.b))\n",
    "\n",
    "    def predict(self, x):\n",
    "        return x * self.a + self.b"
   ]
  },
  {
   "cell_type": "code",
   "execution_count": 48,
   "metadata": {},
   "outputs": [
    {
     "name": "stdout",
     "output_type": "stream",
     "text": [
      "Estimated coefficients:\n",
      "a = 0.48482997211962514\n",
      "b = 9.890473977482102\n"
     ]
    },
    {
     "data": {
      "image/png": "[encoded data removed]",
      "text/plain": [
       "<Figure size 640x480 with 1 Axes>"
      ]
     },
     "metadata": {},
     "output_type": "display_data"
    }
   ],
   "source": [
    "linreg = LinearRegression()\n",
    "\n",
    "# Natrenujeme parametry modelu na trenovacich datech\n",
    "linreg.fit(train_x, train_y)  \n",
    "\n",
    "# Predikujeme vysledky na testovacich datech\n",
    "pred_y = linreg.predict(test_x)\n",
    "\n",
    "# Zobrazime vysledne hodoty\n",
    "#plt.figure(figsize=(12,8))\n",
    "plt.scatter(train_x, train_y, label=\"Train\")\n",
    "plt.scatter(test_x, test_y, label=\"Test\")\n",
    "plt.plot(test_x, pred_y, label=\"Predicted\",c=\"m\")\n",
    "plt.legend()\n",
    "plt.show()"
   ]
  },
  {
   "cell_type": "markdown",
   "metadata": {},
   "source": [
    "# Phind / ChatGPT / GitHub Copilot\n",
    "\n",
    "Když potřebuji zjistit, jak něco udělat v knihovně, kterou mám k dispozici, jedna možnost, jak si to najít, je vždy prohledávat dokumentaci. A byť jsou dokumentace často dost pěkné a přehledné, občas přeci jen není něco jasné, případně z nich nutně nevyplývá, jak má člověk udělat tu jednu danou věc, a pak to kolikrát zabere drahocený čas strávený hledáním na StackOverflow, aby se člověk dobral ke kýženému výsledku. Alternativou je pak začít využívat darů umělé inteligence a zeptat se na to, jak mám něco udělat, rovnou olíbeného jazykového modelu. Příkladem (zdarma přístupného, aspoň zatím) modelu uzpůsobeného pro programování je pak třeba [Phind](https://www.phind.com/), ale dá se samozřejmě využít i libovolný jiný chtabot, například [ChatGPT](https://chatgpt.com/). Nakonec jako studenti máte možnost zdarma využívat jinak placeného [GitHub Copilota](https://github.com/features/copilot). Vřele vám doporučuji, abyste ho zprovoznili a vyzkoušeli.\n",
    "\n",
    "Rozhodně se nebojte využívat umělou inteligenci jako pomocníka při studiu. ALE: Cítím povinnost vás varovat, snažte se na ni nespoléhat přespříliš. Jedna věc je, že si občas vymýšlí. Druhou pak to, že pokud ji budete používat až moc - hlavně v nevhodných věcech - a proti pokynům vyučujících, například pro vypracování nějakých prací, třeba domácích úkolů (když to celé necháte napsat jazykový model, není to úplně košer), etc., pak vás může potkat disciplinární řízení a další postihy, počítá se to pak v takových případech jako podvádění. Navíc ty úkoly a úlohy jsou tu primárně pro vás, abyste si na nich vyzkoušeli využít látku z přednášek a pořádně ji pochopili. Když to namísto toho přenecháte umělé inteligenci, úkol vám nijak nepomůže a teprve u zkoušky zjistíte, že to asi bylo přeci jen lepší projet sám, případně jen s lehkou asistencí jazykového modelu.\n",
    "\n",
    "### TL;DR:\n",
    "\n",
    "Nebojte se používat umělou inteligenci jako kamaráda / spolužáka, který vám může poradit, případně technickou podporu při problémech s programováním, ale vypracovat úkoly a podobně musíte ve výsledku sami."
   ]
  },
  {
   "cell_type": "markdown",
   "metadata": {},
   "source": [
    "# Za vyšší rychlostí a efektivitou - Julia\n",
    "\n",
    "Pro Python máme plno knihoven, které urychlují jeho chod (ať už NumPy, či jiné), ale sám o sobě je to pomalý jazyk. V průběhu semestru budeme pracovat s algoritmy, kde se nám hodí zůstávat v Pythonu a často nemůžeme pomoci těchto knihoven využít, třeba když nejsme schopni danou věc vyjádřit pomocí polí. (Jednat se bude hlavně o evoluční algoritmy.) Hodil by se nám tak rychlejší jazyk s podobně jednoduchou syntaxí. Takovým jazykem je právě [Julia](https://julialang.org/). Syntaxí je podobná Pythonu, ale běží výrazně rychleji &ndash; rychlostí si dokonce nezadá ani s knihovnami Pythonu napsanými v C, jako třeba právě NumPy.\n",
    "\n",
    "Sice budeme v tomto kurzu pracovat s Pythonem, ale rozhodně bych doporučil každému, který by snad v budoucnu v Pythonu psal svůj kód &ndash; ať už by se jednalo o strojové učení, matematické výpočty, či cokoli jiného &ndash; aby se na Julii alespoň podíval a vyhodnotil si, jestli mu nestojí za to se s ní naučit pracovat.\n",
    "\n",
    "Pokud by si s ní někdo chtěl začít hrát a ozkoušet si ji, [tady je odkaz na kurz od konkurence](https://juliateachingctu.github.io/Julia-for-Optimization-and-Learning/stable/#)."
   ]
  }
 ],
 "metadata": {
  "kernelspec": {
   "display_name": "Python 3",
   "language": "python",
   "name": "python3"
  },
  "language_info": {
   "codemirror_mode": {
    "name": "ipython",
    "version": 3
   },
   "file_extension": ".py",
   "mimetype": "text/x-python",
   "name": "python",
   "nbconvert_exporter": "python",
   "pygments_lexer": "ipython3",
   "version": "3.10.2"
  }
 },
 "nbformat": 4,
 "nbformat_minor": 2
}
