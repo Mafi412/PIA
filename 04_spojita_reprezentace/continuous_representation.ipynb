{
 "cells": [
  {
   "cell_type": "markdown",
   "metadata": {},
   "source": [
    "# Evoluční algoritmy - spojitá optimalizace\n",
    "\n",
    "Minule jsem si ukazovali jednoduchý genetický algoritmus, který pracoval s binárními jedinci. Dnes se podíváme na spojité reprezentace jedinců a na další druhy evolučních operátorů."
   ]
  },
  {
   "cell_type": "markdown",
   "metadata": {},
   "source": [
    "## Minimalizace Rastrigin funkce"
   ]
  },
  {
   "cell_type": "markdown",
   "metadata": {},
   "source": [
    "V následujícím cvičení si vyzkoušíme napsat jednoduchý evoluční algoritmus pro minimalizaci [Rastrigin funkce](https://en.wikipedia.org/wiki/Rastrigin_function). Tato funkce je typickým příkladem nelineární funkce a běžně se používá při testování chování optimalizačních algoritmů. Nalezení jejího minima je složité, protože obsahuje spoustu lokálních minim. \n",
    "\n"
   ]
  },
  {
   "cell_type": "code",
   "execution_count": 14,
   "metadata": {},
   "outputs": [],
   "source": [
    "import random\n",
    "import copy\n",
    "import math\n",
    "\n",
    "import numpy as np\n",
    "\n",
    "import matplotlib.pyplot as plt\n",
    "%matplotlib inline"
   ]
  },
  {
   "cell_type": "markdown",
   "metadata": {},
   "source": [
    "Nejprve si definujeme, jak tedy vypadá ona výše zmíněná funkce, kterou budeme chtít minimalizovat. Potom je třeba si rozmyslet, jak bude vypadat jedinec. Pro nás to teď bude floating point vektor, kde hodnoty budou čísla z intervalu [-5.12,5.12]. Pro něj si napíšeme svoje operátory křížení a mutace. Křížení může být aritmetické, například vážený průměr dvou jedinců, nebo strukturální, kdy opět prohazujeme části jedinců. Mutace může být buď nezatížená (unbiased), což znamená, že se pro mutovanou pozici vygeneruje nové číslo uniformě z daného rozsahu hodnot, nebo zatížená (biased), kdy k hodnotě v jedinci přičtu nějaké číslo z normálního rozdělení s danou odchylkou (například 1) a nulovou střední hodnotou."
   ]
  },
  {
   "cell_type": "code",
   "execution_count": 15,
   "metadata": {},
   "outputs": [],
   "source": [
    "# Value of a fitness function will be the value of Rastrigin function in the given point\n",
    "# But we want to change minimization of the function to maximization of the fitness, thus we return minus the value\n",
    "def fitness(individual):\n",
    "    N = len(individual)\n",
    "    A = 10\n",
    "    \n",
    "    value = A * N\n",
    "    for i in range(len(individual)):\n",
    "        value += (individual[i] * individual[i]) - A * math.cos(2 * math.pi * individual[i])\n",
    "        \n",
    "    return -value\n",
    "\n",
    "\n",
    "# Unbiased mutation\n",
    "def mutation_unbiased(population, individual_mutation_prob=0.2, value_mutation_prob=0.1):\n",
    "    new_population = []\n",
    "    \n",
    "    for i in range(len(population)):\n",
    "        individual = population[i]\n",
    "        \n",
    "        if random.random() < individual_mutation_prob:\n",
    "            individual = copy.deepcopy(individual)\n",
    "            \n",
    "            for i in range(len(individual)):\n",
    "                if random.random() < value_mutation_prob:\n",
    "                    individual[i] = np.random.uniform(-5.12, 5.12)\n",
    "                    \n",
    "        new_population.append(individual)\n",
    "        \n",
    "    return new_population\n",
    "\n",
    "\n",
    "# Arithmetic crossover\n",
    "def crossover_arithmetic(population, cross_prob=0.8, alpha=0.25):\n",
    "    new_population = []\n",
    "    \n",
    "    for i in range(len(population)//2):\n",
    "        individual1 = population[2*i]\n",
    "        individual2 = population[2*i+1]\n",
    "        \n",
    "        if random.random() < cross_prob:\n",
    "            # Either, we could do this bit by bit like this (which is quite slow):\n",
    "            # child1 = copy.deepcopy(individual1)\n",
    "            # child2 = copy.deepcopy(individual2)\n",
    "            #\n",
    "            # for i in range(len(individual1)):\n",
    "            #     child1[i] = alpha * individual1[i] + (1-alpha) * individual2[i]\n",
    "            #     child2[i] = (1-alpha) * individual1[i] + alpha * individual2[i]\n",
    "            \n",
    "            # Or we can take advantage of the fact we are using NumPy arrays, like this:\n",
    "            # (The sum of arrays returns a new array, so there is no need for the deepcopy)\n",
    "            child1 = alpha * individual1 + (1-alpha) * individual2\n",
    "            child2 = (1-alpha) * individual1 + alpha * individual2\n",
    "                \n",
    "        else:\n",
    "            child1 = individual1\n",
    "            child2 = individual2\n",
    "                \n",
    "        new_population.append(child1)\n",
    "        new_population.append(child2)\n",
    "        \n",
    "    return new_population\n",
    "\n",
    "\n",
    "# Population intialization (random)\n",
    "def random_population(population_size, individual_size):\n",
    "    return list(np.random.uniform(-5.12, 5.12, size=(population_size, individual_size)))\n",
    "\n",
    "\n",
    "# Tournament selection\n",
    "def tournament_selection(population, fitness_value, k): \n",
    "    new_population = []\n",
    "    \n",
    "    for _ in range(len(population)):\n",
    "        indices = np.random.choice(len(population), size=k, replace=False)\n",
    "        individuals = [population[idx] for idx in indices]\n",
    "        fitnesses = [fitness_value[idx] for idx in indices]\n",
    "            \n",
    "        new_population.append(individuals[np.argmax(fitnesses)])\n",
    "        \n",
    "    return new_population "
   ]
  },
  {
   "cell_type": "markdown",
   "metadata": {},
   "source": [
    "Nyní si stejně jako v minulé hodině definujeme celý evoluční algoritmus a pak ho pustíme a sledujeme, co se bude dít."
   ]
  },
  {
   "cell_type": "code",
   "execution_count": 16,
   "metadata": {},
   "outputs": [],
   "source": [
    "def evolution(population_size, individual_size, max_generations):\n",
    "    max_fitness = []\n",
    "    population = random_population(population_size,individual_size)\n",
    "    \n",
    "    for _ in range(max_generations):\n",
    "        fitness_value = list(map(fitness, population))\n",
    "        max_fitness.append(max(fitness_value))\n",
    "        \n",
    "        parents = tournament_selection(population, fitness_value, 2)\n",
    "        children = crossover_arithmetic(parents)\n",
    "        mutated_children = mutation_unbiased(children)\n",
    "        \n",
    "        population = mutated_children\n",
    "        \n",
    "    # We compute fitness for the last population and obtain the best individual\n",
    "    fitness_value = list(map(fitness, population))\n",
    "    max_fitness.append(max(fitness_value))\n",
    "    best_individual = population[np.argmax(fitness_value)]\n",
    "    \n",
    "    return best_individual, population, max_fitness"
   ]
  },
  {
   "cell_type": "code",
   "execution_count": 17,
   "metadata": {
    "scrolled": true
   },
   "outputs": [
    {
     "name": "stdout",
     "output_type": "stream",
     "text": [
      "Best fitness: -8.715815089639108\n",
      "Best individual: [ 0.00433486  0.05143977 -0.01115742 -0.05340447 -0.91366215 -0.00257095\n",
      "  0.0389731   1.01734716 -0.95468212  1.0866436 ]\n"
     ]
    },
    {
     "data": {
      "image/png": "[encoded data removed]",
      "text/plain": [
       "<Figure size 640x480 with 1 Axes>"
      ]
     },
     "metadata": {},
     "output_type": "display_data"
    }
   ],
   "source": [
    "best, population, max_fitness = evolution(population_size=100, individual_size=10, max_generations=100)\n",
    "\n",
    "print(\"Best fitness:\", fitness(best))\n",
    "print(\"Best individual:\", best)\n",
    "\n",
    "\n",
    "plt.plot(max_fitness)\n",
    "plt.ylabel(\"Fitness\")\n",
    "plt.xlabel(\"Generation\")\n",
    "plt.show()\n"
   ]
  },
  {
   "cell_type": "markdown",
   "metadata": {},
   "source": [
    "## Úkol na cvičení\n",
    "\n",
    "V kódu výše je naprogramovaná nejjednodušší mutace - nezatížená. Zkuste si napsat alespoň dva další druhy mutace z následujích možností a porovnat, jak se bude evoluční algoritmus chovat.\n",
    "1. Zatížená mutace, kdy se k hodnotě v jedinci přičítá číslo z normalního rozdělení se střední hodnotou 0 a rozptylem sigma. Sigma se třeba navíc může během každých n generací postupně snižovat. \n",
    "\n",
    "2. Mutace s 1/5 pravidlem, která se používá hlavně u evolučních strategií a probíhá podobně jako zatížená mutace - přičítá k hodnotě číslo z náhodného rozdělení se střední hodnotou 0 a rozptylem sigma. Sigma se updatuje v každém kroku následovně: Při každé mutaci se podívám, jestli je výsledný jedinec lepší, než co jsem měl před mutací. Pokud ano, říkám, že je mutace úspěšná. V průběhu celé iterace si zapamatuji poměr úspěšných mutací *p* (tedy počet úspěšných mutací ku počtu všech mutací). Sigmu pak upravíme pomocí jednoduché rovnice: sigma = sigma \\* e^(*p*-1/5). \\\n",
    "(Ergo pokud jsem v této iteraci nageneroval mutací víc jak pětinu jedinců takovou, že jsou lepší než jedinci, které jsem už měl před mutací, sigma se zvýší (-> vyšší explorace), jinak se sigma sníží (-> vyšší exploitace).)\n",
    "\n",
    "3. Mutace z diferenciální evoluce, která vybere náhodně pro daného jedince dva další, dělá rozdíl jejich hodnot (složku po složce) a ten navíc vynásobí nějakou konstantou (třeba 0.8) a to pak přičte k hodnotám v původním jedinci.\n",
    "\n",
    "Můžete samozřejmě zkusit vymyslet i nějakou vlastní mutaci, nebo třeba zkusit vypnout mutaci nebo vypnout křížení a sledovat, co se bude s evolucí dít."
   ]
  },
  {
   "cell_type": "code",
   "execution_count": null,
   "metadata": {},
   "outputs": [],
   "source": []
  },
  {
   "cell_type": "markdown",
   "metadata": {},
   "source": [
    "## Deap knihovna\n",
    "\n",
    "Nyní si opět vyzkoušíme přepsat výše zmíněný problém minimalizace Rastrigin funkce pomocí operátorů knihovny DEAP, abychom si lépe vyzkoušeli, jak se s ní pracuje a jak v ní tvořit svoje vlastní operátory, které se nám budou hodit příští hodinu u genetického programování."
   ]
  },
  {
   "cell_type": "code",
   "execution_count": 18,
   "metadata": {},
   "outputs": [],
   "source": [
    "from deap import algorithms, base, creator, tools"
   ]
  },
  {
   "cell_type": "markdown",
   "metadata": {},
   "source": [
    "Pro jistotu si znovu definujeme vlastní funkce mutace, křížení a fitness funkci."
   ]
  },
  {
   "cell_type": "code",
   "execution_count": 19,
   "metadata": {},
   "outputs": [],
   "source": [
    "def rastring_function(individual):\n",
    "    N = len(individual)\n",
    "    A = 10\n",
    "    \n",
    "    value = A * N\n",
    "    for i in range(len(individual)):\n",
    "        value += (individual[i] * individual[i]) - A * math.cos(2 * math.pi * individual[i])\n",
    "        \n",
    "    return value,\n",
    "\n",
    "\n",
    "def mutation_unbiased(individual, value_mutation_prob):\n",
    "    for i in range(len(individual)):\n",
    "        if random.random() < value_mutation_prob:\n",
    "            individual[i] = np.random.uniform(-5.12, 5.12)\n",
    "            \n",
    "    return individual,\n",
    "\n",
    "\n",
    "def crossover_arithmetic(individual1, individual2, alpha=0.25):\n",
    "    # We will be working with python lists, so we cannot use the NumPy hack we used before and must do this bit by bit\n",
    "    child1 = copy.deepcopy(individual1)\n",
    "    child2 = copy.deepcopy(individual2)\n",
    "    \n",
    "    for i in range(len(individual1)):\n",
    "        child1[i] = alpha * individual1[i] + (1-alpha) * individual2[i]\n",
    "        child2[i] = (1-alpha) * individual1[i] + alpha * individual2[i]\n",
    "        \n",
    "    return child1, child2"
   ]
  },
  {
   "cell_type": "markdown",
   "metadata": {},
   "source": [
    "Pak si zadefinujeme nový toolbox a přídáme do něj naše operátory. "
   ]
  },
  {
   "cell_type": "code",
   "execution_count": 20,
   "metadata": {},
   "outputs": [],
   "source": [
    "creator.create(\"FitnessMin\", base.Fitness, weights=(-1.0,)) # -1 because we want to minimize the function\n",
    "creator.create(\"Individual\", list, fitness=creator.FitnessMin)\n",
    "\n",
    "toolbox = base.Toolbox()\n",
    "\n",
    "toolbox.register(\"attr_float\", random.uniform, -5.12, 5.12)\n",
    "toolbox.register(\"individual\", tools.initRepeat, creator.Individual, toolbox.attr_float, n=4)\n",
    "toolbox.register(\"population\", tools.initRepeat, list, toolbox.individual)\n",
    "\n",
    "toolbox.register(\"evaluate\", rastring_function)\n",
    "toolbox.register(\"mate\", crossover_arithmetic)\n",
    "toolbox.register(\"mutate\", mutation_unbiased, value_mutation_prob=0.1)\n",
    "toolbox.register(\"select\", tools.selTournament, tournsize=3)\n"
   ]
  },
  {
   "cell_type": "markdown",
   "metadata": {},
   "source": [
    "Na závěr pustíme celou evaluci a můžeme sledovat, jak se nám hledání minima daří, nebo případně nedaří."
   ]
  },
  {
   "cell_type": "code",
   "execution_count": 21,
   "metadata": {},
   "outputs": [
    {
     "name": "stdout",
     "output_type": "stream",
     "text": [
      "gen\tnevals\tavg    \tstd    \tmin    \tmax    \n",
      "0  \t300   \t74.8046\t20.5047\t19.2884\t143.182\n",
      "1  \t243   \t57.1818\t17.0982\t17.3905\t112.608\n",
      "2  \t244   \t47.6543\t15.2048\t5.46991\t101.153\n",
      "3  \t249   \t44.5244\t14.4508\t8.75004\t87.848 \n",
      "4  \t243   \t39.9323\t14.2641\t6.17808\t77.8516\n",
      "5  \t264   \t41.0304\t15.1635\t9.62372\t82.302 \n",
      "6  \t260   \t37.4672\t13.4722\t9.19985\t77.9514\n",
      "7  \t252   \t33.9602\t14.9166\t4.0724 \t76.6245\n",
      "8  \t252   \t29.1861\t14.3952\t1.32765\t88.5183\n",
      "9  \t255   \t25.4248\t13.0605\t2.34145\t81.2413\n",
      "10 \t270   \t21.8669\t12.2203\t1.86463\t76.8517\n",
      "11 \t251   \t15.6515\t10.7227\t1.4944 \t57.3964\n",
      "12 \t257   \t10.1071\t9.38657\t1.03348\t58.7766\n",
      "13 \t253   \t5.66114\t7.96127\t0.518558\t64.2026\n",
      "14 \t255   \t3.34548\t7.51056\t0.441648\t82.805 \n",
      "15 \t256   \t2.59888\t6.64623\t0.25191 \t40.6942\n",
      "16 \t252   \t2.28758\t7.06916\t0.15803 \t62.4101\n",
      "17 \t253   \t2.7699 \t8.07922\t0.0823215\t56.4053\n",
      "18 \t246   \t1.83624\t6.58838\t0.0799304\t39.4051\n",
      "19 \t238   \t1.52926\t6.63294\t0.0673678\t61.1285\n",
      "20 \t241   \t1.70411\t7.30921\t0.071461 \t57.9935\n",
      "21 \t248   \t1.70238\t6.50914\t0.0770755\t51.4962\n",
      "22 \t273   \t1.78073\t7.18874\t0.0791419\t63.579 \n",
      "23 \t250   \t1.62614\t6.83316\t0.0791419\t60.7665\n",
      "24 \t264   \t1.49228\t5.56434\t0.0791134\t39.326 \n",
      "25 \t251   \t1.96863\t7.24438\t0.0789467\t58.5989\n",
      "26 \t256   \t2.15947\t8.24554\t0.0783583\t78.4112\n",
      "27 \t247   \t1.31001\t5.16905\t0.0783583\t36.8231\n",
      "28 \t253   \t1.07656\t4.88259\t0.0787653\t44.5163\n",
      "29 \t243   \t1.68014\t6.32469\t0.078873 \t44.6764\n",
      "30 \t262   \t1.96078\t7.52704\t0.0789213\t63.4309\n",
      "31 \t267   \t1.52367\t5.80137\t0.0789213\t38.8554\n",
      "32 \t252   \t1.86678\t7.57121\t0.0789163\t55.6699\n",
      "33 \t249   \t1.16245\t6.01374\t0.0789163\t67.4082\n",
      "34 \t248   \t2.21503\t8.21227\t0.0789222\t58.0006\n",
      "35 \t259   \t1.73181\t6.23237\t0.0789222\t40.2971\n",
      "36 \t243   \t1.51134\t6.06525\t0.0789222\t44.8678\n",
      "37 \t253   \t1.11086\t4.80743\t0.0789236\t39.3837\n",
      "38 \t257   \t1.46413\t5.91427\t0.0789236\t40.6822\n",
      "39 \t255   \t1.46474\t5.90278\t0.078925 \t45.0808\n",
      "40 \t244   \t0.978721\t4.54523\t0.0789252\t37.4918\n",
      "41 \t240   \t1.26797 \t5.33498\t0.0789252\t44.9845\n",
      "42 \t260   \t1.32205 \t6.29085\t0.0789252\t56.2933\n",
      "43 \t253   \t0.794942\t4.43536\t0.0789252\t40.3966\n",
      "44 \t261   \t1.69645 \t6.19595\t0.0789253\t53.8242\n",
      "45 \t245   \t1.74246 \t7.65953\t0.0789254\t74.6399\n",
      "46 \t255   \t1.23769 \t6.18334\t0.0789254\t56.5835\n",
      "47 \t249   \t1.17449 \t4.68945\t0.0789254\t38.3362\n",
      "48 \t260   \t0.624851\t3.29856\t0.0789254\t30.3165\n",
      "49 \t258   \t1.02406 \t5.08385\t0.0789254\t39.0119\n",
      "50 \t249   \t1.51867 \t6.12317\t0.0789254\t66.2318\n",
      "51 \t248   \t1.9956  \t7.84758\t0.0789254\t50.9144\n",
      "52 \t270   \t1.39897 \t5.65696\t0.0789254\t38.1088\n",
      "53 \t252   \t1.86079 \t8.09098\t0.0789254\t57.4458\n",
      "54 \t251   \t1.2456  \t5.03204\t0.0789254\t32.0251\n",
      "55 \t261   \t1.8018  \t7.17448\t0.0789254\t55.2405\n",
      "56 \t243   \t1.18573 \t4.79969\t0.0789254\t32.5626\n",
      "57 \t242   \t1.46772 \t6.05986\t0.0789254\t41.5245\n",
      "58 \t251   \t2.36594 \t8.18772\t0.0789254\t54.0277\n",
      "59 \t242   \t1.64404 \t6.32228\t0.0789254\t56.7533\n",
      "60 \t262   \t1.65124 \t6.4769 \t0.0789254\t58.2378\n",
      "61 \t265   \t1.58614 \t7.52997\t0.0789254\t64.8567\n",
      "62 \t262   \t1.91083 \t6.98178\t0.0789254\t52.2945\n",
      "63 \t254   \t1.30012 \t6.08063\t0.0789254\t46.8089\n",
      "64 \t242   \t1.6397  \t6.72663\t0.0789254\t61.4851\n",
      "65 \t242   \t1.80506 \t6.4727 \t0.0789254\t55.6589\n",
      "66 \t237   \t1.61409 \t6.12192\t0.0789254\t42.1816\n",
      "67 \t239   \t2.5589  \t9.26251\t0.0789254\t64.1751\n",
      "68 \t242   \t1.86632 \t7.98938\t0.0789254\t56.3041\n",
      "69 \t248   \t1.63788 \t6.5749 \t0.0789254\t54.4289\n",
      "70 \t256   \t1.40732 \t5.9889 \t0.0789254\t43.002 \n",
      "71 \t259   \t1.40075 \t6.08798\t0.0789254\t48.7847\n",
      "72 \t230   \t1.86104 \t6.82736\t0.0789254\t59.5128\n",
      "73 \t256   \t1.03402 \t4.91838\t0.0789254\t39.3042\n",
      "74 \t257   \t1.75615 \t6.28211\t0.0789254\t43.4447\n",
      "75 \t251   \t0.814913\t4.0806 \t0.0789254\t45.6808\n",
      "76 \t253   \t1.50104 \t5.94209\t0.0789254\t47.6204\n",
      "77 \t254   \t1.51011 \t6.32914\t0.0789254\t45.3976\n",
      "78 \t254   \t1.18172 \t5.23379\t0.0789254\t37.8322\n",
      "79 \t244   \t1.70898 \t6.98541\t0.0789254\t56.0213\n",
      "80 \t233   \t1.76322 \t6.6451 \t0.0789254\t39.8989\n",
      "81 \t244   \t2.07398 \t8.30562\t0.0789254\t71.4949\n",
      "82 \t249   \t1.84784 \t7.73606\t0.0789254\t63.9515\n",
      "83 \t258   \t1.50625 \t6.08023\t0.0789254\t52.3519\n",
      "84 \t260   \t1.51332 \t6.11676\t0.0789254\t54.4176\n",
      "85 \t252   \t1.6039  \t5.79346\t0.0789254\t40.4167\n",
      "86 \t246   \t1.48433 \t6.22526\t0.0789254\t49.0065\n",
      "87 \t244   \t1.37986 \t5.33945\t0.0789254\t43.1944\n",
      "88 \t257   \t1.29831 \t5.50163\t0.0789254\t40.4313\n",
      "89 \t269   \t2.13753 \t6.59865\t0.0789254\t40.3413\n",
      "90 \t245   \t1.73812 \t5.76274\t0.0789254\t34.66  \n",
      "91 \t244   \t1.63476 \t6.51117\t0.0789254\t56.7358\n",
      "92 \t249   \t1.75716 \t6.41937\t0.0789254\t42.45  \n",
      "93 \t255   \t1.12818 \t4.9452 \t0.0789254\t43.8536\n",
      "94 \t244   \t1.84022 \t7.14361\t0.0789254\t51.5215\n",
      "95 \t246   \t1.91045 \t7.39738\t0.0789254\t54.5174\n",
      "96 \t258   \t0.888551\t5.0102 \t0.0789254\t54.4868\n",
      "97 \t244   \t1.5735  \t6.83922\t0.0789254\t49.5609\n",
      "98 \t257   \t1.89645 \t6.89671\t0.0789254\t44.2614\n",
      "99 \t235   \t1.75555 \t7.07808\t0.0789254\t48.3142\n",
      "100\t240   \t1.793   \t6.88233\t0.0789254\t57.262 \n"
     ]
    }
   ],
   "source": [
    "pop = toolbox.population(n=300)\n",
    "hof = tools.HallOfFame(1)\n",
    "stats = tools.Statistics(lambda ind: ind.fitness.values)\n",
    "stats.register(\"avg\", np.mean)\n",
    "stats.register(\"std\", np.std)\n",
    "stats.register(\"min\", np.min)\n",
    "stats.register(\"max\", np.max)\n",
    "\n",
    "pop, log = algorithms.eaSimple(pop, toolbox, cxpb=0.8, mutpb=0.2, ngen=100, stats=stats, halloffame=hof, verbose=True)"
   ]
  }
 ],
 "metadata": {
  "kernelspec": {
   "display_name": "Python 3 (ipykernel)",
   "language": "python",
   "name": "python3"
  },
  "language_info": {
   "codemirror_mode": {
    "name": "ipython",
    "version": 3
   },
   "file_extension": ".py",
   "mimetype": "text/x-python",
   "name": "python",
   "nbconvert_exporter": "python",
   "pygments_lexer": "ipython3",
   "version": "3.10.2"
  }
 },
 "nbformat": 4,
 "nbformat_minor": 2
}
