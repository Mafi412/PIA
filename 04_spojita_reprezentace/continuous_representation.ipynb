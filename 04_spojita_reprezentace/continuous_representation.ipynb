{
 "cells": [
  {
   "cell_type": "markdown",
   "metadata": {},
   "source": [
    "# Evoluční algoritmy - spojitá optimalizace\n",
    "\n",
    "Minule jsem si ukazovali jednoduchý genetický algoritmus, který pracoval s binárními jedinci. Dnes se podíváme na spojité reprezentace jedinců a na další druhy evolučních operátorů."
   ]
  },
  {
   "cell_type": "markdown",
   "metadata": {},
   "source": [
    "## Minimalizace Rastrigin funkce"
   ]
  },
  {
   "cell_type": "markdown",
   "metadata": {},
   "source": [
    "V následujícím cvičení si vyzkoušíme napsat jednoduchý evoluční algoritmus pro minimalizaci [Rastrigin funkce](https://en.wikipedia.org/wiki/Rastrigin_function). Tato funkce je typickým příkladem nelineární funkce a běžně se používá při testování chování optimalizačních algoritmů. Nalezení jejího minima je složité, protože obsahuje spoustu lokálních minim. \n",
    "\n"
   ]
  },
  {
   "cell_type": "code",
   "execution_count": 2,
   "metadata": {},
   "outputs": [],
   "source": [
    "import random\n",
    "import copy\n",
    "import math\n",
    "\n",
    "import numpy as np\n",
    "\n",
    "import matplotlib.pyplot as plt\n",
    "%matplotlib inline"
   ]
  },
  {
   "cell_type": "markdown",
   "metadata": {},
   "source": [
    "Nejprve si definujeme, jak tedy vypadá ona výše zmíněná funkce, kterou budeme chtít minimalizovat. Potom je třeba si rozmyslet, jak bude vypadat jedinec. Pro nás to teď bude floating point vektor, kde hodnoty budou čísla z intervalu [-5.12,5.12]. Pro něj si napíšeme svoje operátory křížení a mutace. Křížení může být aritmetické, například vážený průměr dvou jedinců, nebo strukturální, kdy opět prohazujeme části jedinců. Mutace může být buď nezatížená (unbiased), což znamená, že se pro mutovanou pozici vygeneruje nové číslo uniformě z daného rozsahu hodnot, nebo zatížená (biased), kdy k hodnotě v jedinci přičtu nějaké číslo z normálního rozdělení s danou odchylkou (například 1) a nulovou střední hodnotou."
   ]
  },
  {
   "cell_type": "code",
   "execution_count": 3,
   "metadata": {},
   "outputs": [],
   "source": [
    "# Value of a fitness function will be the value of Rastrigin function in the given point\n",
    "# But we want to change minimization of the function to maximization of the fitness, thus we return minus the value\n",
    "def fitness(individual):\n",
    "    N = len(individual)\n",
    "    A = 10\n",
    "    \n",
    "    value = A * N\n",
    "    for i in range(len(individual)):\n",
    "        value += (individual[i] * individual[i]) - A * math.cos(2 * math.pi * individual[i])\n",
    "        \n",
    "    return -value\n",
    "\n",
    "\n",
    "# Unbiased mutation\n",
    "def mutation_unbiased(population, individual_mutation_prob=0.2, value_mutation_prob=0.1):\n",
    "    new_population = []\n",
    "    \n",
    "    for i in range(len(population)):\n",
    "        individual = population[i]\n",
    "        \n",
    "        if random.random() < individual_mutation_prob:\n",
    "            individual = copy.deepcopy(individual)\n",
    "            \n",
    "            for i in range(len(individual)):\n",
    "                if random.random() < value_mutation_prob:\n",
    "                    individual[i] = np.random.uniform(-5.12, 5.12)\n",
    "                    \n",
    "        new_population.append(individual)\n",
    "        \n",
    "    return new_population\n",
    "\n",
    "\n",
    "# Arithmetic crossover\n",
    "def crossover_arithmetic(population, cross_prob=0.8, alpha=0.25):\n",
    "    new_population = []\n",
    "    \n",
    "    for i in range(len(population)//2):\n",
    "        individual1 = population[2*i]\n",
    "        individual2 = population[2*i+1]\n",
    "        \n",
    "        if random.random() < cross_prob:\n",
    "            # Either, we could do this bit by bit like this (which is quite slow):\n",
    "            # child1 = copy.deepcopy(individual1)\n",
    "            # child2 = copy.deepcopy(individual2)\n",
    "            #\n",
    "            # for i in range(len(individual1)):\n",
    "            #     child1[i] = alpha * individual1[i] + (1-alpha) * individual2[i]\n",
    "            #     child2[i] = (1-alpha) * individual1[i] + alpha * individual2[i]\n",
    "            \n",
    "            # Or we can take advantage of the fact we are using NumPy arrays, like this:\n",
    "            # (The sum of arrays returns a new array, so there is no need for the deepcopy)\n",
    "            child1 = alpha * individual1 + (1-alpha) * individual2\n",
    "            child2 = (1-alpha) * individual1 + alpha * individual2\n",
    "                \n",
    "        else:\n",
    "            child1 = individual1\n",
    "            child2 = individual2\n",
    "                \n",
    "        new_population.append(child1)\n",
    "        new_population.append(child2)\n",
    "        \n",
    "    return new_population\n",
    "\n",
    "\n",
    "# Population intialization (random)\n",
    "def random_population(population_size, individual_size):\n",
    "    return list(np.random.uniform(-5.12, 5.12, size=(population_size, individual_size)))\n",
    "\n",
    "\n",
    "# Tournament selection\n",
    "def tournament_selection(population, fitness_value, k): \n",
    "    new_population = []\n",
    "    \n",
    "    for _ in range(len(population)):\n",
    "        indices = np.random.choice(len(population), size=k, replace=False)\n",
    "        individuals = [population[idx] for idx in indices]\n",
    "        fitnesses = [fitness_value[idx] for idx in indices]\n",
    "            \n",
    "        new_population.append(individuals[np.argmax(fitnesses)])\n",
    "        \n",
    "    return new_population "
   ]
  },
  {
   "cell_type": "markdown",
   "metadata": {},
   "source": [
    "Nyní si stejně jako v minulé hodině definujeme celý evoluční algoritmus a pak ho pustíme a sledujeme, co se bude dít."
   ]
  },
  {
   "cell_type": "code",
   "execution_count": 4,
   "metadata": {},
   "outputs": [],
   "source": [
    "def evolution(population_size, individual_size, max_generations):\n",
    "    max_fitness = []\n",
    "    population = random_population(population_size,individual_size)\n",
    "    \n",
    "    for _ in range(max_generations):\n",
    "        fitness_value = list(map(fitness, population))\n",
    "        max_fitness.append(max(fitness_value))\n",
    "        \n",
    "        parents = tournament_selection(population, fitness_value, 2)\n",
    "        children = crossover_arithmetic(parents)\n",
    "        mutated_children = mutation_unbiased(children)\n",
    "        \n",
    "        population = mutated_children\n",
    "        \n",
    "    # We compute fitness for the last population and obtain the best individual\n",
    "    fitness_value = list(map(fitness, population))\n",
    "    max_fitness.append(max(fitness_value))\n",
    "    best_individual = population[np.argmax(fitness_value)]\n",
    "    \n",
    "    return best_individual, population, max_fitness"
   ]
  },
  {
   "cell_type": "code",
   "execution_count": 5,
   "metadata": {
    "scrolled": true
   },
   "outputs": [
    {
     "name": "stdout",
     "output_type": "stream",
     "text": [
      "Best fitness: -6.861681427138889\n",
      "Best individual: [ 0.01222721  0.02391045  0.05206598 -1.01670255  0.00982621 -0.05885702\n",
      "  0.01377195  0.08989679  0.95116857  0.08586528]\n"
     ]
    },
    {
     "data": {
      "image/png": "[encoded data removed]",
      "text/plain": [
       "<Figure size 640x480 with 1 Axes>"
      ]
     },
     "metadata": {},
     "output_type": "display_data"
    }
   ],
   "source": [
    "best, population, max_fitness = evolution(population_size=100, individual_size=10, max_generations=100)\n",
    "\n",
    "print(\"Best fitness:\", fitness(best))\n",
    "print(\"Best individual:\", best)\n",
    "\n",
    "\n",
    "plt.plot(max_fitness)\n",
    "plt.ylabel(\"Fitness\")\n",
    "plt.xlabel(\"Generation\")\n",
    "plt.show()\n"
   ]
  },
  {
   "cell_type": "markdown",
   "metadata": {},
   "source": [
    "## Úkol na cvičení\n",
    "\n",
    "V kódu výše je naprogramovaná nejjednodušší mutace - nezatížená. Zkuste si napsat alespoň dva další druhy mutace z následujích možností a porovnat, jak se bude evoluční algoritmus chovat.\n",
    "1. Zatížená mutace, kdy se k hodnotě v jedinci přičítá číslo z normalního rozdělení se střední hodnotou 0 a rozptylem sigma. Sigma se třeba navíc může během každých n generací postupně snižovat. \n",
    "\n",
    "2. Mutace s 1/5 pravidlem, která se používá hlavně u evolučních strategií a probíhá podobně jako zatížená mutace - přičítá k hodnotě číslo z náhodného rozdělení se střední hodnotou 0 a rozptylem sigma. Sigma se updatuje v každém kroku následovně: Při každé mutaci se podívám, jestli je výsledný jedinec lepší, než co jsem měl před mutací. Pokud ano, říkám, že je mutace úspěšná. V průběhu celé iterace si zapamatuji poměr úspěšných mutací *p* (tedy počet úspěšných mutací ku počtu všech mutací). Sigmu pak upravíme pomocí jednoduché rovnice: sigma = sigma \\* e^(*p*-1/5). \\\n",
    "(Ergo pokud jsem v této iteraci nageneroval mutací víc jak pětinu jedinců takovou, že jsou lepší než jedinci, které jsem už měl před mutací, sigma se zvýší (-> vyšší explorace), jinak se sigma sníží (-> vyšší exploitace).)\n",
    "\n",
    "3. Mutace z diferenciální evoluce, která vybere náhodně pro daného jedince dva další, dělá rozdíl jejich hodnot (složku po složce) a ten navíc vynásobí nějakou konstantou (třeba 0.8) a to pak přičte k hodnotám v původním jedinci.\n",
    "\n",
    "Můžete samozřejmě zkusit vymyslet i nějakou vlastní mutaci, nebo třeba zkusit vypnout mutaci nebo vypnout křížení a sledovat, co se bude s evolucí dít."
   ]
  },
  {
   "cell_type": "code",
   "execution_count": null,
   "metadata": {},
   "outputs": [],
   "source": []
  },
  {
   "cell_type": "markdown",
   "metadata": {},
   "source": [
    "## Deap knihovna\n",
    "\n",
    "Nyní si opět vyzkoušíme přepsat výše zmíněný problém minimalizace Rastrigin funkce pomocí operátorů knihovny DEAP, abychom si lépe vyzkoušeli, jak se s ní pracuje a jak v ní tvořit svoje vlastní operátory, které se nám budou hodit příští hodinu u genetického programování."
   ]
  },
  {
   "cell_type": "code",
   "execution_count": 6,
   "metadata": {},
   "outputs": [],
   "source": [
    "from deap import algorithms, base, creator, tools"
   ]
  },
  {
   "cell_type": "markdown",
   "metadata": {},
   "source": [
    "Pro jistotu si znovu definujeme vlastní funkce mutace, křížení a fitness funkci."
   ]
  },
  {
   "cell_type": "code",
   "execution_count": 8,
   "metadata": {},
   "outputs": [],
   "source": [
    "def rastring_function(individual):\n",
    "    N = len(individual)\n",
    "    A = 10\n",
    "    \n",
    "    value = A * N\n",
    "    for i in range(len(individual)):\n",
    "        value += (individual[i] * individual[i]) - A * math.cos(2 * math.pi * individual[i])\n",
    "        \n",
    "    return value,\n",
    "\n",
    "\n",
    "def mutation_unbiased(individual, value_mutation_prob):\n",
    "    for i in range(len(individual)):\n",
    "        if random.random() < value_mutation_prob:\n",
    "            individual[i] = np.random.uniform(-5.12, 5.12)\n",
    "            \n",
    "    return individual,\n",
    "\n",
    "\n",
    "def crossover_arithmetic(individual1, individual2, alpha=0.25):\n",
    "    # We will be working with python lists, so we cannot use the NumPy hack we used before and must do this bit by bit\n",
    "    child1 = copy.deepcopy(individual1)\n",
    "    child2 = copy.deepcopy(individual2)\n",
    "    \n",
    "    for i in range(len(individual1)):\n",
    "        child1[i] = alpha * individual1[i] + (1-alpha) * individual2[i]\n",
    "        child2[i] = (1-alpha) * individual1[i] + alpha * individual2[i]\n",
    "        \n",
    "    return child1, child2"
   ]
  },
  {
   "cell_type": "markdown",
   "metadata": {},
   "source": [
    "Pak si zadefinujeme nový toolbox a přídáme do něj naše operátory. "
   ]
  },
  {
   "cell_type": "code",
   "execution_count": 10,
   "metadata": {},
   "outputs": [],
   "source": [
    "creator.create(\"FitnessMin\", base.Fitness, weights=(-1.0,)) # -1 because we want to minimize the function\n",
    "creator.create(\"Individual\", list, fitness=creator.FitnessMin)\n",
    "\n",
    "toolbox = base.Toolbox()\n",
    "\n",
    "toolbox.register(\"attr_float\", random.uniform, -5.12, 5.12)\n",
    "toolbox.register(\"individual\", tools.initRepeat, creator.Individual, toolbox.attr_float, n=4)\n",
    "toolbox.register(\"population\", tools.initRepeat, list, toolbox.individual)\n",
    "\n",
    "toolbox.register(\"evaluate\", rastring_function)\n",
    "toolbox.register(\"mate\", crossover_arithmetic)\n",
    "toolbox.register(\"mutate\", mutation_unbiased, value_mutation_prob=0.1)\n",
    "toolbox.register(\"select\", tools.selTournament, tournsize=3)\n"
   ]
  },
  {
   "cell_type": "markdown",
   "metadata": {},
   "source": [
    "Na závěr pustíme celou evaluci a můžeme sledovat, jak se nám hledání minima daří, nebo případně nedaří."
   ]
  },
  {
   "cell_type": "code",
   "execution_count": 11,
   "metadata": {},
   "outputs": [
    {
     "name": "stdout",
     "output_type": "stream",
     "text": [
      "gen\tnevals\tavg    \tstd    \tmin    \tmax    \n",
      "0  \t300   \t73.0567\t19.4704\t25.0103\t116.457\n",
      "1  \t256   \t56.2071\t16.4258\t13.7678\t106.264\n",
      "2  \t259   \t48.5835\t14.8392\t13.31  \t89.8955\n",
      "3  \t256   \t43.2293\t14.4135\t8.31198\t80.1734\n",
      "4  \t266   \t41.0632\t15.1432\t6.24147\t85.5699\n",
      "5  \t262   \t39.1342\t13.753 \t9.12785\t84.5177\n",
      "6  \t245   \t36.6278\t13.35  \t7.90171\t74.2629\n",
      "7  \t269   \t34.2164\t14.0832\t5.22076\t77.2599\n",
      "8  \t245   \t30.1426\t13.9824\t6.79624\t80.2858\n",
      "9  \t233   \t23.8092\t12.6824\t1.93707\t68.3719\n",
      "10 \t254   \t20.0475\t11.7828\t0.0902486\t67.7389\n",
      "11 \t241   \t14.4574\t10.1145\t0.57319  \t49.3555\n",
      "12 \t249   \t10.1375\t9.20175\t0.282102 \t51.1477\n",
      "13 \t257   \t5.29567\t7.22435\t0.0799386\t41.2834\n",
      "14 \t249   \t2.74288\t6.74701\t0.0799386\t56.6358\n",
      "15 \t272   \t2.16907\t6.80812\t0.0541747\t44.4668\n",
      "16 \t258   \t1.69653\t6.13337\t0.0168885\t40.3792\n",
      "17 \t256   \t1.08776\t5.5174 \t0.0114803\t61.1627\n",
      "18 \t258   \t1.84675\t7.18856\t0.0104199\t55.5742\n",
      "19 \t255   \t1.94967\t6.99533\t0.0104199\t48.1466\n",
      "20 \t254   \t1.44231\t6.10522\t0.0111179\t40.3737\n",
      "21 \t253   \t1.71429\t7.6083 \t0.00889269\t63.3242\n",
      "22 \t252   \t1.49944\t6.89447\t0.00889269\t64.3096\n",
      "23 \t254   \t1.98791\t7.0895 \t0.00811764\t40.3549\n",
      "24 \t249   \t1.58073\t6.07149\t0.00790315\t37.4154\n",
      "25 \t262   \t1.65145\t7.00329\t0.00801582\t50.999 \n",
      "26 \t249   \t2.35591\t9.59433\t0.00784019\t74.1891\n",
      "27 \t257   \t2.33757\t7.90625\t0.00782531\t47.3054\n",
      "28 \t264   \t2.70471\t9.47562\t0.00782531\t69.7644\n",
      "29 \t259   \t1.21671\t5.31065\t0.00782531\t36.8892\n",
      "30 \t272   \t2.23755\t7.65216\t0.00784022\t48.0343\n",
      "31 \t257   \t1.68992\t6.65923\t0.00784022\t51.9573\n",
      "32 \t254   \t1.24333\t5.49788\t0.00783713\t39.7699\n",
      "33 \t242   \t1.10819\t5.4878 \t0.00784068\t39.8018\n",
      "34 \t255   \t1.97789\t6.76699\t0.00783783\t40.2727\n",
      "35 \t251   \t0.914388\t4.90077\t0.00783613\t46.6015\n",
      "36 \t252   \t1.73544 \t7.18415\t0.0078361 \t65.7928\n",
      "37 \t245   \t1.70328 \t7.057  \t0.0078361 \t60.1094\n",
      "38 \t244   \t1.16904 \t5.8436 \t0.00783636\t56.2333\n",
      "39 \t260   \t1.58403 \t6.21355\t0.00783616\t39.7492\n",
      "40 \t260   \t2.43466 \t9.01688\t0.00783606\t88.1643\n",
      "41 \t252   \t1.80113 \t7.03666\t0.00783616\t56.8397\n",
      "42 \t264   \t1.1309  \t4.49315\t0.00783621\t35.5307\n",
      "43 \t245   \t1.20334 \t5.38643\t0.00783623\t37.7074\n",
      "44 \t263   \t1.5907  \t6.3929 \t0.00783624\t43.0755\n",
      "45 \t248   \t1.88662 \t6.89143\t0.00783624\t51.0051\n",
      "46 \t261   \t2.50831 \t9.17478\t0.00783623\t67.4402\n",
      "47 \t255   \t1.15037 \t5.13568\t0.00783623\t37.6719\n",
      "48 \t258   \t1.45032 \t5.91534\t0.00783623\t42.8198\n",
      "49 \t246   \t1.57603 \t6.46245\t0.00783623\t42.533 \n",
      "50 \t264   \t1.74581 \t7.40486\t0.00783623\t61.32  \n",
      "51 \t243   \t2.1223  \t7.14557\t0.00783623\t40.1905\n",
      "52 \t248   \t1.27394 \t5.11207\t0.00783623\t38.9189\n",
      "53 \t256   \t1.88604 \t7.97293\t0.00783623\t57.2581\n",
      "54 \t255   \t1.91407 \t6.89358\t0.00783623\t41.2472\n",
      "55 \t258   \t1.5998  \t7.00825\t0.00783623\t52.2499\n",
      "56 \t248   \t0.870519\t4.7907 \t0.00783623\t40.1834\n",
      "57 \t242   \t0.814247\t4.73416\t0.00783623\t47.1553\n",
      "58 \t248   \t1.63261 \t6.43643\t0.00783623\t38.752 \n",
      "59 \t269   \t1.41767 \t6.76599\t0.00783623\t62.5407\n",
      "60 \t248   \t1.25681 \t5.68859\t0.00783623\t51.3698\n",
      "61 \t251   \t0.965385\t5.47193\t0.00783623\t67.436 \n",
      "62 \t237   \t1.22312 \t6.5356 \t0.00783623\t79.0011\n",
      "63 \t250   \t1.62861 \t6.56547\t0.00783623\t50.275 \n",
      "64 \t242   \t1.26523 \t5.64002\t0.00783623\t37.0329\n",
      "65 \t262   \t1.6538  \t6.31854\t0.00783623\t49.5555\n",
      "66 \t253   \t1.77328 \t7.41987\t0.00783623\t54.0169\n",
      "67 \t250   \t1.08337 \t5.31994\t0.00783623\t46.4965\n",
      "68 \t258   \t1.16006 \t5.55907\t0.00783623\t42.892 \n",
      "69 \t247   \t3.01263 \t10.5165\t0.00783623\t71.7964\n",
      "70 \t245   \t2.35878 \t8.87391\t0.00783623\t62.2755\n",
      "71 \t254   \t1.71471 \t7.99862\t0.00783623\t57.9067\n",
      "72 \t261   \t1.45207 \t6.24141\t0.00783623\t51.0564\n",
      "73 \t242   \t1.5604  \t6.45724\t0.00783623\t50.0094\n",
      "74 \t252   \t1.29047 \t5.66068\t0.00783623\t38.9997\n",
      "75 \t255   \t1.13655 \t7.0855 \t0.00783623\t79.9003\n",
      "76 \t251   \t1.30659 \t5.95409\t0.00783623\t39.3092\n",
      "77 \t250   \t1.41282 \t5.81677\t0.00783623\t47.8735\n",
      "78 \t239   \t1.39289 \t6.79212\t0.00783623\t58.417 \n",
      "79 \t258   \t1.26104 \t7.37704\t0.00783623\t86.4973\n",
      "80 \t236   \t1.93381 \t7.70542\t0.00783623\t59.871 \n",
      "81 \t261   \t1.69215 \t7.09448\t0.00783623\t63.1527\n",
      "82 \t230   \t1.06515 \t4.8691 \t0.00783623\t37.5507\n",
      "83 \t240   \t1.30178 \t5.51337\t0.00783623\t39.3709\n",
      "84 \t243   \t0.992461\t5.553  \t0.00783623\t52.8933\n",
      "85 \t262   \t1.93179 \t7.09148\t0.00783623\t53.1432\n",
      "86 \t250   \t1.55021 \t6.74872\t0.00783623\t74.4597\n",
      "87 \t258   \t1.55091 \t5.88929\t0.00783623\t38.7046\n",
      "88 \t251   \t1.34143 \t5.94916\t0.00783623\t59.6103\n",
      "89 \t232   \t1.56121 \t6.27812\t0.00783623\t48.8336\n",
      "90 \t239   \t1.43073 \t6.62908\t0.00783623\t54.0477\n",
      "91 \t256   \t1.95073 \t7.44206\t0.00783623\t43.3712\n",
      "92 \t253   \t1.41418 \t6.04197\t0.00783623\t39.7307\n",
      "93 \t240   \t1.22181 \t5.19486\t0.00783623\t33.931 \n",
      "94 \t251   \t1.18707 \t5.0787 \t0.00783623\t40.2995\n",
      "95 \t259   \t1.18041 \t5.66127\t0.00783623\t60.5251\n",
      "96 \t258   \t1.64225 \t7.12444\t0.00783623\t64.5786\n",
      "97 \t268   \t0.759042\t3.74469\t0.00783623\t39.8808\n",
      "98 \t253   \t1.80054 \t6.8463 \t0.00783623\t59.4666\n",
      "99 \t258   \t1.88135 \t6.68969\t0.00783623\t39.8862\n",
      "100\t249   \t0.71772 \t3.96877\t0.00783623\t34.9542\n"
     ]
    }
   ],
   "source": [
    "pop = toolbox.population(n=300)\n",
    "hof = tools.HallOfFame(1)\n",
    "stats = tools.Statistics(lambda ind: ind.fitness.values)\n",
    "stats.register(\"avg\", np.mean)\n",
    "stats.register(\"std\", np.std)\n",
    "stats.register(\"min\", np.min)\n",
    "stats.register(\"max\", np.max)\n",
    "\n",
    "pop, log = algorithms.eaSimple(pop, toolbox, cxpb=0.8, mutpb=0.2, ngen=100, stats=stats, halloffame=hof, verbose=True)"
   ]
  }
 ],
 "metadata": {
  "kernelspec": {
   "display_name": "Python 3",
   "language": "python",
   "name": "python3"
  },
  "language_info": {
   "codemirror_mode": {
    "name": "ipython",
    "version": 3
   },
   "file_extension": ".py",
   "mimetype": "text/x-python",
   "name": "python",
   "nbconvert_exporter": "python",
   "pygments_lexer": "ipython3",
   "version": "3.10.2"
  }
 },
 "nbformat": 4,
 "nbformat_minor": 2
}
