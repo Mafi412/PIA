{
 "cells": [
  {
   "cell_type": "markdown",
   "metadata": {},
   "source": [
    "# Radial Basis Functions a Recurrent Neural Network "
   ]
  },
  {
   "cell_type": "markdown",
   "metadata": {},
   "source": [
    "Minule jsme si ukazovali a zkoušeli si naprogramovat jednoduché neuronové sítě. Dneska se podíváme na složitější struktury neuronových sítí Radial Basis Functions a rekurentní neuronové sítě.\n"
   ]
  },
  {
   "cell_type": "code",
   "execution_count": 1,
   "metadata": {},
   "outputs": [],
   "source": [
    "import random\n",
    "import sys\n",
    "\n",
    "import numpy as np\n",
    "\n",
    "from sklearn import datasets\n",
    "from sklearn.compose import ColumnTransformer\n",
    "from sklearn.preprocessing import OneHotEncoder \n",
    "from sklearn.model_selection import train_test_split\n",
    "\n",
    "import tensorflow as tf"
   ]
  },
  {
   "cell_type": "markdown",
   "metadata": {},
   "source": [
    "## Radial Basis Functions (RBF)"
   ]
  },
  {
   "cell_type": "markdown",
   "metadata": {},
   "source": [
    "Naimplementujeme si nyní RBF síť. Implementace je jednoduchá - stačí naimplementovat třídu podobnou té níže, kde vlastní výpočet je schován do funkce *predict*, trénování klasicky do funkce *fit* a to nejdůležitější, výpočet RBF aktivace, pak do metody *calculate_activation*."
   ]
  },
  {
   "cell_type": "code",
   "execution_count": 20,
   "metadata": {},
   "outputs": [],
   "source": [
    "class RBFNetwork():\n",
    "    def __init__(self, input_dim, num_centers, output_dim):\n",
    "        self.input_dim = input_dim\n",
    "        self.output_dim = output_dim\n",
    "        self.num_centers = num_centers\n",
    "        self.centers = [np.random.uniform(-1, 1, input_dim) for i in range(num_centers)]\n",
    "        self.beta = 1\n",
    "        self.weights = None\n",
    "        \n",
    "        \n",
    "    # Compute values of neurons in the hidden layer\n",
    "    def calculate_activation(self, data):\n",
    "        hidden_layer_values = np.zeros((data.shape[0], self.num_centers), float)\n",
    "        for c_idx, c in enumerate(self.centers):\n",
    "            for x_idx, x in enumerate(data):\n",
    "                hidden_layer_values[x_idx, c_idx] = self.activation_fcn(c, x)\n",
    "                \n",
    "        return hidden_layer_values\n",
    "    \n",
    "    \n",
    "    # Value of the activation function (for the hidden - RBF - layer)\n",
    "    def activation_fcn(self, center, data):\n",
    "        return np.exp(-self.beta * np.linalg.norm(center-data)**2)\n",
    "    \n",
    "    \n",
    "    def fit(self, data, labels):\n",
    "        # PART 1 - Set centers for the first layer\n",
    "        \n",
    "        # Choose random values (from the dataset) for the initial centers\n",
    "        random_idx = np.random.permutation(data.shape[0])[:self.num_centers]\n",
    "        self.centers = [data[i,:] for i in random_idx]\n",
    "        \n",
    "        # PART 2 - Set weights for the second layer\n",
    "         \n",
    "        # Calculate activation on the hidden layer\n",
    "        hidden_layer_values = self.calculate_activation(data)\n",
    "         \n",
    "        # Compare the real and the predicted outputs and update our weights\n",
    "        # (Pseudoinverse matrix basically corresponds to the formula for linear\n",
    "        # regression we would use for training of the weights.)\n",
    "        self.weights = np.dot(np.linalg.pinv(hidden_layer_values), labels)\n",
    "          \n",
    "          \n",
    "    def predict(self, data):\n",
    "        hidden_layer_values = self.calculate_activation(data)\n",
    "        labels = np.dot(hidden_layer_values, self.weights)\n",
    "        return labels\n"
   ]
  },
  {
   "cell_type": "markdown",
   "metadata": {},
   "source": [
    "Zkusíme si naši RBF síť pustit na našem oblíbeném datasetu Iris. Načteme si data a labely, do které třídy data patří. Protože budeme dělat klasifikaci, je vhodné si labely převést na one-hot-encoding. Následně data rozdělíme na trénovací a testovací množinu, abychom mohli zvlášť data trénovat a zvlášť data testovat."
   ]
  },
  {
   "cell_type": "code",
   "execution_count": 3,
   "metadata": {},
   "outputs": [
    {
     "name": "stdout",
     "output_type": "stream",
     "text": [
      "Accuracy: 0.9736842105263158\n",
      "Accuracy: 0.9736842105263158\n",
      "Accuracy: 0.9736842105263158\n",
      "Accuracy: 0.9210526315789473\n",
      "Accuracy: 0.9736842105263158\n",
      "Accuracy: 0.8947368421052632\n",
      "Accuracy: 0.9210526315789473\n",
      "Accuracy: 0.868421052631579\n",
      "Accuracy: 0.9210526315789473\n",
      "Accuracy: 0.9736842105263158\n"
     ]
    }
   ],
   "source": [
    "# Get data\n",
    "iris = datasets.load_iris()\n",
    "x, y = iris.data, iris.target\n",
    "x_train, x_test, y_train, y_test = train_test_split(x, y, test_size=0.25)\n",
    "\n",
    "# Format the input using one-hot-encoding\n",
    "# -> Create a ColumnTransformer that will apply OneHotEncoder to the first column\n",
    "column_transformer = ColumnTransformer(\n",
    "    transformers=[\n",
    "        (\"onehot\", OneHotEncoder(), [0])\n",
    "    ],\n",
    "    remainder=\"passthrough\" # This will pass the rest of the columns through without any transformation\n",
    ")\n",
    "\n",
    "# Apply the ColumnTransformer to y_train and y_test\n",
    "y_train_onehot = column_transformer.fit_transform(y_train.reshape(-1, 1))\n",
    "y_test_onehot = column_transformer.transform(y_test.reshape(-1, 1))\n",
    "\n",
    "# Train and test the network multiple times\n",
    "for _ in range(10):\n",
    "    rbf = RBFNetwork(4, 10, 3)\n",
    "    rbf.fit(x_train, y_train_onehot)\n",
    "    predicted = rbf.predict(x_test)\n",
    "    y_pred = np.argmax(predicted, axis=1)\n",
    "    accuracy = np.mean(y_pred == y_test)\n",
    "    print(\"Accuracy: \" + str(accuracy))"
   ]
  },
  {
   "cell_type": "markdown",
   "metadata": {},
   "source": [
    "Když si trénování a predikci spustíme několikrát, vidíme, že accuracy je v každém běhu dosti různá, což je způsobeno tím, že centroidy a betu zde nastavujeme náhodně, přestože jsme si říkali, že pozice centroidů se dá trénovat pomocí algoritmu k-means."
   ]
  },
  {
   "cell_type": "markdown",
   "metadata": {},
   "source": [
    "\n",
    "### Úkol na cvičení\n",
    "\n",
    "Zkuste si naimplementovat algoritmus k-means pro inicializaci středů vstupních neuronů a zlepšit tím výstup sítě výše.\n"
   ]
  },
  {
   "cell_type": "markdown",
   "metadata": {},
   "source": [
    "## Rekurentní neuronové sítě (RNN)\n",
    "\n",
    "Rekurentní neuronová síť je síť, která navíc ke svému vstupu ještě bere jako další vstup svůj výstup z předchozího kroku. Proto výstupy z předchozích výpočtů mohou ovlivňovat výpočty následující, což se může hodit například u generování časových řad nebo textu. Nejprve se podíváme, jak by zhruba mohla vypadat implementace jednoduché RNN, kdybychom si ji psali celou sami. \n",
    "\n",
    "Vytvoříme si nejprve jednoduché věty a budeme chtít, aby nám naše sít uměla predikovat, zda je daná věta pozitivní, nebo negativní. "
   ]
  },
  {
   "cell_type": "code",
   "execution_count": 4,
   "metadata": {},
   "outputs": [],
   "source": [
    "train_data = {\n",
    "  \"good\": True,\n",
    "  \"bad\": False,\n",
    "  \"happy\": True,\n",
    "  \"sad\": False,\n",
    "  \"not good\": False,\n",
    "  \"not bad\": True,\n",
    "  \"not happy\": False,\n",
    "  \"not sad\": True,\n",
    "  \"very good\": True,\n",
    "  \"very bad\": False,\n",
    "  \"very happy\": True,\n",
    "  \"very sad\": False,\n",
    "  \"i am happy\": True,\n",
    "  \"this is good\": True,\n",
    "  \"i am bad\": False,\n",
    "  \"this is bad\": False,\n",
    "  \"i am sad\": False,\n",
    "  \"this is sad\": False,\n",
    "  \"i am not happy\": False,\n",
    "  \"this is not good\": False,\n",
    "  \"i am not bad\": True,\n",
    "  \"this is not sad\": True,\n",
    "  \"i am very happy\": True,\n",
    "  \"this is very good\": True,\n",
    "  \"i am very bad\": False,\n",
    "  \"this is very sad\": False,\n",
    "  \"this is very happy\": True,\n",
    "  \"i am good not bad\": True,\n",
    "  \"this is good not bad\": True,\n",
    "  \"i am bad not good\": False,\n",
    "  \"i am good and happy\": True,\n",
    "  \"this is not good and not happy\": False,\n",
    "  \"i am not at all good\": False,\n",
    "  \"i am not at all bad\": True,\n",
    "  \"i am not at all happy\": False,\n",
    "  \"this is not at all sad\": True,\n",
    "  \"this is not at all happy\": False,\n",
    "  \"i am good right now\": True,\n",
    "  \"i am bad right now\": False,\n",
    "  \"this is bad right now\": False,\n",
    "  \"i am sad right now\": False,\n",
    "  \"i was good earlier\": True,\n",
    "  \"i was happy earlier\": True,\n",
    "  \"i was bad earlier\": False,\n",
    "  \"i was sad earlier\": False,\n",
    "  \"i am very bad right now\": False,\n",
    "  \"this is very good right now\": True,\n",
    "  \"this is very sad right now\": False,\n",
    "  \"this was bad earlier\": False,\n",
    "  \"this was very good earlier\": True,\n",
    "  \"this was very bad earlier\": False,\n",
    "  \"this was very happy earlier\": True,\n",
    "  \"this was very sad earlier\": False,\n",
    "  \"i was good and not bad earlier\": True,\n",
    "  \"i was not good and not happy earlier\": False,\n",
    "  \"i am not at all bad or sad right now\": True,\n",
    "  \"i am not at all good or happy right now\": False,\n",
    "  \"this was not happy and not good earlier\": False,\n",
    "}\n",
    "\n",
    "test_data = {\n",
    "  \"this is happy\": True,\n",
    "  \"i am good\": True,\n",
    "  \"this is not happy\": False,\n",
    "  \"i am not good\": False,\n",
    "  \"this is not bad\": True,\n",
    "  \"i am not sad\": True,\n",
    "  \"i am very good\": True,\n",
    "  \"this is very bad\": False,\n",
    "  \"i am very sad\": False,\n",
    "  \"this is bad not good\": False,\n",
    "  \"this is good and happy\": True,\n",
    "  \"i am not good and not happy\": False,\n",
    "  \"i am not at all sad\": True,\n",
    "  \"this is not at all good\": False,\n",
    "  \"this is not at all bad\": True,\n",
    "  \"this is good right now\": True,\n",
    "  \"this is sad right now\": False,\n",
    "  \"this is very bad right now\": False,\n",
    "  \"this was good earlier\": True,\n",
    "  \"i was not happy and not good earlier\": False,\n",
    "}"
   ]
  },
  {
   "cell_type": "markdown",
   "metadata": {},
   "source": [
    "Nejprve je potřeba udělat nějaký preprocessing vět. Tím se myslí převést text do číselné reprezentace. To uděláme třeba tak, že najdeme všechna unikátní slova, očíslujeme je, a každé slovo pak nahradíme jeho číslem. Následně uděláme one-hot-encoding každého slova (a to potom bude mít shape (vocab_size, 1)). "
   ]
  },
  {
   "cell_type": "code",
   "execution_count": 5,
   "metadata": {},
   "outputs": [
    {
     "name": "stdout",
     "output_type": "stream",
     "text": [
      "['i', 'all', 'right', 'now', 'good', 'am', 'at', 'bad', 'sad', 'is', 'and', 'this', 'was', 'or', 'not', 'happy', 'earlier', 'very']\n",
      "Unique words: 18\n",
      "15\n",
      "i\n"
     ]
    }
   ],
   "source": [
    "# Create a vocabulary containing every word in the data\n",
    "vocab = list(set(w for text in train_data.keys() for w in text.split()))\n",
    "vocab_size = len(vocab)\n",
    "print(vocab)\n",
    "print(\"Unique words: \" + str(vocab_size))\n",
    "\n",
    "# Replace every word by its index\n",
    "word_to_idx = { w: i for i, w in enumerate(vocab) }\n",
    "idx_to_word = { i: w for i, w in enumerate(vocab) }\n",
    "print(word_to_idx[\"happy\"]) \n",
    "print(idx_to_word[0]) \n",
    "\n",
    "\n",
    "# Convert to one-hot-encoding\n",
    "def create_inputs(text):\n",
    "    inputs = []\n",
    "    for w in text.split():\n",
    "        v = np.zeros((vocab_size, 1))\n",
    "        v[word_to_idx[w]] = 1\n",
    "        inputs.append(v)\n",
    "    return inputs"
   ]
  },
  {
   "cell_type": "markdown",
   "metadata": {},
   "source": [
    "Nyní si napíšeme samotnou RNN. Informace z předchozího kroku se ukládá v RNN buňce do speciální proměnné - tzv. skrytého stavu, který nám pak bude ovlivňovat další výstupy a bude se s každým novým vstupem v každém kroku aktualizovat. Aktuální skrytý stav se počítá podle předchozího skrytého stavu a aktuálního vstupu. Výstup je spočítán pomocí aktuálního skrytého stavu. Pro každý krok se používají stejné 3 váhové matice: pro spoje z aktuálních vstupů do aktuálních skrytých, pro spoje z předchozích skrytých do aktuálních skrytých a pro spoje z aktuálních skrytých do výstupů. Zároveň potřebujeme bias pro spočtení skrytého stavu a další pro spočtení výstupu. Pomocí aktivační funkce tanh a dosazení hodnot do rovnice vypočteme výstup a update skrytých stavů."
   ]
  },
  {
   "cell_type": "code",
   "execution_count": 6,
   "metadata": {},
   "outputs": [],
   "source": [
    "class RNN:\n",
    "    def __init__(self, input_size, output_size, hidden_size=64):\n",
    "        # Weights - the division is used for lowering the variance\n",
    "        self.Whh = np.random.randn(hidden_size, hidden_size) / 1000\n",
    "        self.Wxh = np.random.randn(hidden_size, input_size) / 1000\n",
    "        self.Why = np.random.randn(output_size, hidden_size) / 1000\n",
    "\n",
    "        # Biases\n",
    "        self.bh = np.zeros((hidden_size, 1))\n",
    "        self.by = np.zeros((output_size, 1))\n",
    "        \n",
    "        \n",
    "    # Processes whole sequence (not just one token / piece)\n",
    "    def forward(self, inputs):\n",
    "        # Variable for remembering the previous hidden state value\n",
    "        h = np.zeros((self.Whh.shape[0], 1))\n",
    "\n",
    "        # Gradual update of the hidden state\n",
    "        for x in inputs:\n",
    "            h = np.tanh(np.dot(self.Wxh, x) + np.dot(self.Whh, h) + self.bh)\n",
    "\n",
    "        # Output vector computation\n",
    "        y = np.dot(self.Why, h) + self.by\n",
    "        return y, h"
   ]
  },
  {
   "cell_type": "code",
   "execution_count": 7,
   "metadata": {},
   "outputs": [
    {
     "name": "stdout",
     "output_type": "stream",
     "text": [
      "[[0.50000471]\n",
      " [0.49999529]]\n"
     ]
    }
   ],
   "source": [
    "# Let us define function softmax for mapping values to interval [0,1]\n",
    "def softmax(x):\n",
    "    return np.exp(x) / sum(np.exp(x))\n",
    "\n",
    "\n",
    "# RNN initialization\n",
    "inputs = create_inputs(\"i am very good\")\n",
    "rnn = RNN(vocab_size, 2)\n",
    "y, h = rnn.forward(inputs)\n",
    "probs = softmax(y)\n",
    "print(probs)"
   ]
  },
  {
   "cell_type": "markdown",
   "metadata": {},
   "source": [
    "Vidíme, že síť nám sice nějak funguje, ale není moc užitečná. Problém je, že nijak netrénujeme váhy. K tomu je potřeba si definovat ztrátovou (loss) funkci. Použijeme [cross-entropy loss](https://en.wikipedia.org/wiki/Cross-entropy#Cross-entropy_loss_function_and_logistic_regression), která se v tomto případě spočítá pro každý vstup v podstatě jako minus logaritmus pravděpodobnosti, s jakou predikuje náš model tu opravdovou třídu (label) daného vstupu. Zároveň je potřeba dopsat zpětnou propagaci chyby, aby se síť mohla učit ze svých chyb a updatovat si váhy a skryté stavy. To je v podstatě jen derivace tanh, dosazení do vzorečků a použití řetězového pravidla."
   ]
  },
  {
   "cell_type": "code",
   "execution_count": 8,
   "metadata": {},
   "outputs": [],
   "source": [
    "class RNN:\n",
    "    def __init__(self, input_size, output_size, hidden_size=64):\n",
    "        # Weights - the division is used for lowering the variance\n",
    "        self.Whh = np.random.randn(hidden_size, hidden_size) / 1000\n",
    "        self.Wxh = np.random.randn(hidden_size, input_size) / 1000\n",
    "        self.Why = np.random.randn(output_size, hidden_size) / 1000\n",
    "\n",
    "        # Biases\n",
    "        self.bh = np.zeros((hidden_size, 1))\n",
    "        self.by = np.zeros((output_size, 1))\n",
    "     \n",
    "        \n",
    "    # Processes whole sequence (not just one token / piece)\n",
    "    def forward(self, inputs):\n",
    "        # Variable for remembering the previous hidden state value\n",
    "        h = np.zeros((self.Whh.shape[0], 1))\n",
    "\n",
    "        self.last_inputs = inputs\n",
    "        self.last_hs = { 0: h }\n",
    "\n",
    "        # Gradual update of the hidden state\n",
    "        for i, x in enumerate(inputs):\n",
    "            h = np.tanh(np.dot(self.Wxh, x) + np.dot(self.Whh, h) + self.bh)\n",
    "            self.last_hs[i + 1] = h\n",
    "\n",
    "        # Output vector computation\n",
    "        y = np.dot(self.Why, h) + self.by\n",
    "\n",
    "        return y, h\n",
    "    \n",
    "    \n",
    "    def backprop(self, probs, target, learning_rate=2e-2):\n",
    "        # Compute derivation of the loss function on the output (dL/dy)\n",
    "        # (For now just believe me this is the right derivation of L(softmax(y)) w.r.t. y.)\n",
    "        dLoss_wrt_Net_output = probs\n",
    "        dLoss_wrt_Net_output[target] -= 1\n",
    "        n = len(self.last_inputs)\n",
    "\n",
    "        # Compute derivation of the loss function for output weights (dL/dWhy) and bias (dL/dby)\n",
    "        dLoss_wrt_Weights_hidden_to_output = np.dot(dLoss_wrt_Net_output, self.last_hs[n].T)\n",
    "        dLoss_wrt_Bias_of_output = dLoss_wrt_Net_output\n",
    "\n",
    "        # Initialize zero matrices and vector for comuting dL/dWhh, dL/dWxh, and dL/dbh\n",
    "        dLoss_wrt_Weights_hidden_to_hidden = np.zeros(self.Whh.shape)\n",
    "        dLoss_wrt_Weights_input_to_hidden = np.zeros(self.Wxh.shape)\n",
    "        dLoss_wrt_Bias_of_hidden = np.zeros(self.bh.shape)\n",
    "\n",
    "        # Compute dL/dh for the last value of h\n",
    "        dLoss_wrt_Hidden_activation = np.dot(self.Why.T, dLoss_wrt_Net_output)\n",
    "\n",
    "        # Backpropagate the loss back in time by substitution into the equations\n",
    "        for t in reversed(range(n)):\n",
    "            # Derivative of the activation of a hidden layer wrt. input of the activation (dh/dhin)\n",
    "            # dh/dhin = (1 - h^2) (Derivative of tanh(x) is (1 - tanh(x)^2))\n",
    "            dHidden_activation_wrt_Hidden_activation_input = (1 - self.last_hs[t + 1] ** 2)\n",
    "            \n",
    "            # Gradient of loss wrt. input of the activation of a hidden layer (dL/dhin): dL/dh * dh/dhin\n",
    "            dLoss_wrt_Hidden_activation_input = (dHidden_activation_wrt_Hidden_activation_input * dLoss_wrt_Hidden_activation)\n",
    "\n",
    "            # dL/dbh = dL/dhin\n",
    "            dLoss_wrt_Bias_of_hidden += dLoss_wrt_Hidden_activation_input\n",
    "\n",
    "            # dL/dWhh = dL/dhin * h_{t-1}\n",
    "            dLoss_wrt_Weights_hidden_to_hidden += np.dot(dLoss_wrt_Hidden_activation_input, self.last_hs[t].T)\n",
    "\n",
    "            # dL/dWxh = dL/dhin * x\n",
    "            dLoss_wrt_Weights_input_to_hidden += np.dot(dLoss_wrt_Hidden_activation_input, self.last_inputs[t].T)\n",
    "\n",
    "            # dL/dh = dL/dhin * Whh\n",
    "            dLoss_wrt_Hidden_activation = np.dot(self.Whh, dLoss_wrt_Hidden_activation_input)\n",
    "\n",
    "        # To prevent too large gradients, we restrict / clip the values to interval [-1, 1]\n",
    "        for gradient in [dLoss_wrt_Weights_input_to_hidden, dLoss_wrt_Weights_hidden_to_hidden, dLoss_wrt_Weights_hidden_to_output, dLoss_wrt_Bias_of_hidden, dLoss_wrt_Bias_of_output]:\n",
    "            np.clip(gradient, -1, 1, out=gradient)\n",
    "\n",
    "        # Update of weights and biases using gradient descent\n",
    "        self.Whh -= learning_rate * dLoss_wrt_Weights_hidden_to_hidden\n",
    "        self.Wxh -= learning_rate * dLoss_wrt_Weights_input_to_hidden\n",
    "        self.Why -= learning_rate * dLoss_wrt_Weights_hidden_to_output\n",
    "        self.bh -= learning_rate * dLoss_wrt_Bias_of_hidden\n",
    "        self.by -= learning_rate * dLoss_wrt_Bias_of_output"
   ]
  },
  {
   "cell_type": "code",
   "execution_count": 18,
   "metadata": {},
   "outputs": [
    {
     "name": "stdout",
     "output_type": "stream",
     "text": [
      "--- Epoch 0\n",
      "Train:\tLoss 0.695203 | Accuracy: 0.534483\n",
      "Test:\tLoss 0.694662 | Accuracy: 0.500000\n",
      "--- Epoch 100\n",
      "Train:\tLoss 0.688061 | Accuracy: 0.551724\n",
      "Test:\tLoss 0.696697 | Accuracy: 0.500000\n",
      "--- Epoch 200\n",
      "Train:\tLoss 0.665283 | Accuracy: 0.655172\n",
      "Test:\tLoss 0.711473 | Accuracy: 0.650000\n",
      "--- Epoch 300\n",
      "Train:\tLoss 0.080239 | Accuracy: 1.000000\n",
      "Test:\tLoss 0.102665 | Accuracy: 1.000000\n",
      "--- Epoch 400\n",
      "Train:\tLoss 0.010432 | Accuracy: 1.000000\n",
      "Test:\tLoss 0.031630 | Accuracy: 1.000000\n",
      "--- Epoch 500\n",
      "Train:\tLoss 0.004750 | Accuracy: 1.000000\n",
      "Test:\tLoss 0.008351 | Accuracy: 1.000000\n",
      "--- Epoch 600\n",
      "Train:\tLoss 0.002814 | Accuracy: 1.000000\n",
      "Test:\tLoss 0.004039 | Accuracy: 1.000000\n",
      "--- Epoch 700\n",
      "Train:\tLoss 0.002012 | Accuracy: 1.000000\n",
      "Test:\tLoss 0.002444 | Accuracy: 1.000000\n",
      "--- Epoch 800\n",
      "Train:\tLoss 0.001610 | Accuracy: 1.000000\n",
      "Test:\tLoss 0.001880 | Accuracy: 1.000000\n",
      "--- Epoch 900\n",
      "Train:\tLoss 0.001371 | Accuracy: 1.000000\n",
      "Test:\tLoss 0.001343 | Accuracy: 1.000000\n",
      "--- Epoch 1000\n",
      "Train:\tLoss 0.001166 | Accuracy: 1.000000\n",
      "Test:\tLoss 0.001212 | Accuracy: 1.000000\n"
     ]
    }
   ],
   "source": [
    "def run_model(data, train):\n",
    "    items = list(data.items())\n",
    "    random.shuffle(items)\n",
    "\n",
    "    loss = 0\n",
    "    correct_answers = 0\n",
    "\n",
    "    for x, y in items:\n",
    "        inputs = create_inputs(x)\n",
    "        target = int(y)\n",
    "\n",
    "        # Forward pass\n",
    "        out, _ = rnn.forward(inputs)\n",
    "        probs = softmax(out)\n",
    "\n",
    "        # Compute loss and accuracy\n",
    "        loss -= np.log(probs[target])\n",
    "        correct_answers += int(np.argmax(probs) == target)\n",
    "\n",
    "        if train:\n",
    "            # Backward pass\n",
    "            rnn.backprop(probs, target)\n",
    "\n",
    "    return loss / len(data), correct_answers / len(data)\n",
    "\n",
    "\n",
    "np.random.seed(42)\n",
    "\n",
    "rnn = RNN(vocab_size, 2)\n",
    "\n",
    "for epoch in range(1001):\n",
    "    train_loss, train_accuracy = run_model(train_data, train=True)\n",
    "    if epoch % 100 == 0:\n",
    "        print(f\"--- Epoch {epoch:d}\")\n",
    "        print(f\"Train:\\tLoss {train_loss.item():3f} | Accuracy: {train_accuracy:3f}\")\n",
    "\n",
    "        test_loss, test_accuracy = run_model(test_data, train=False)\n",
    "        print(f\"Test:\\tLoss {test_loss.item():3f} | Accuracy: {test_accuracy:3f}\")"
   ]
  },
  {
   "cell_type": "markdown",
   "metadata": {},
   "source": [
    "##  Sekvenční klasifikace pomocí LSTM\n",
    "\n",
    "Nyní, když chápeme, jak taková základní RNN funguje, zkusíme se podívat na složitější druh RNN - LSTM sítě. Tyto sítě mají uvnitř sebe paměťovou buňku a navíc i mechanismus, který řídí, jakou informaci si buňka pamatuje a jakou zapomíná. (Pro podrobnější čtení o LSTM můžete jít na následující [odkaz](https://colah.github.io/posts/2015-08-Understanding-LSTMs/).) Zkusíme se na ni lépe podívat v následujícím příkladu sekvenční klasifikace. \n",
    "\n",
    "Sekvenční klasifikace je prediktivní modelovací problém, kdy máme na vstupu nějakou sekvenci v prostoru nebo čase a cílem je předpovědět kategorii této sekvence (jako tomu bylo třeba i v předchozím příkladu). Složitost tohoto problému spočívá v tom, že jednotlivé sekvence mohou mít různou délku nebo mohou být složeny z rozsáhlého slovníku vstupních hodnot a mohou vyžadovat, aby se model naučil nějaké dlouhodobé závislosti nebo kontext mezi vstupními sekvencemi.\n",
    "\n",
    "Zkusíme se tedy podívat na příklad sekvenční klasifikace pomocí LSTM na IMDB datasetu, což je dataset, který obsahuje slovní popis recenzí 50K filmů a následně klasifikaci, jestli byla recenze pozitivní nebo negativní v poměru zhruba 1:1.\n",
    "\n",
    "Problém je, že slovní popis je nějak potřeba převést na číselnou reprezentaci. Naštěstí funkce `imdb.load_data` umí načíst data tak, že rovnou slova nahradí čísly a rozdělí je na train a test množiny v poměru 1:1. Navíc data načteme tak, že necháme jen prvních `top_words` nejčastějších slov a zbytek nahradíme 0. Dále je potřeba zkrátit nebo doplnit vstupní sekvence pro modelování tak, aby byly všechny stejně dlouhé - délku nastavíme na `max_len`."
   ]
  },
  {
   "cell_type": "code",
   "execution_count": 10,
   "metadata": {},
   "outputs": [],
   "source": [
    "# Let us fix the random seed for the sake of reproducibility\n",
    "np.random.seed(7)"
   ]
  },
  {
   "cell_type": "code",
   "execution_count": 11,
   "metadata": {},
   "outputs": [
    {
     "name": "stdout",
     "output_type": "stream",
     "text": [
      "Downloading data from https://storage.googleapis.com/tensorflow/tf-keras-datasets/imdb.npz\n",
      "17465344/17464789 [==============================] - 5s 0us/step\n",
      "17473536/17464789 [==============================] - 5s 0us/step\n"
     ]
    }
   ],
   "source": [
    "top_words = 5000\n",
    "(x_train, y_train), (x_test, y_test) = tf.keras.datasets.imdb.load_data(num_words=top_words)\n",
    "\n",
    "max_length = 500\n",
    "x_train = tf.keras.preprocessing.sequence.pad_sequences(x_train, maxlen=max_length)\n",
    "x_test = tf.keras.preprocessing.sequence.pad_sequences(x_test, maxlen=max_length)"
   ]
  },
  {
   "cell_type": "code",
   "execution_count": null,
   "metadata": {},
   "outputs": [
    {
     "data": {
      "text/plain": [
       "(array([   0,    0,    0,    0,    0,    0,    0,    0,    0,    0,    0,\n",
       "           0,    0,    0,    0,    0,    0,    0,    0,    0,    0,    0,\n",
       "           0,    0,    0,    0,    0,    0,    0,    0,    0,    0,    0,\n",
       "           0,    0,    0,    0,    0,    0,    0,    0,    0,    0,    0,\n",
       "           0,    0,    0,    0,    0,    0,    0,    0,    0,    0,    0,\n",
       "           0,    0,    0,    0,    0,    0,    0,    0,    0,    0,    0,\n",
       "           0,    0,    0,    0,    0,    0,    0,    0,    0,    0,    0,\n",
       "           0,    0,    0,    0,    0,    0,    0,    0,    0,    0,    0,\n",
       "           0,    0,    0,    0,    0,    0,    0,    0,    0,    0,    0,\n",
       "           0,    0,    0,    0,    0,    0,    0,    0,    0,    0,    0,\n",
       "           0,    0,    0,    0,    0,    0,    0,    0,    0,    0,    0,\n",
       "           0,    0,    0,    0,    0,    0,    0,    0,    0,    0,    0,\n",
       "           0,    0,    0,    0,    0,    0,    0,    0,    0,    0,    0,\n",
       "           0,    0,    0,    0,    0,    0,    0,    0,    0,    0,    0,\n",
       "           0,    0,    0,    0,    0,    0,    0,    0,    0,    0,    0,\n",
       "           0,    0,    0,    0,    0,    0,    0,    0,    0,    0,    0,\n",
       "           0,    0,    0,    0,    0,    0,    0,    0,    0,    0,    0,\n",
       "           0,    0,    0,    0,    0,    0,    0,    0,    0,    0,    0,\n",
       "           0,    0,    0,    0,    0,    0,    0,    0,    0,    0,    0,\n",
       "           0,    0,    0,    0,    0,    0,    0,    0,    0,    0,    0,\n",
       "           0,    0,    0,    0,    0,    0,    0,    0,    0,    0,    0,\n",
       "           0,    0,    0,    0,    0,    0,    0,    0,    0,    0,    0,\n",
       "           0,    0,    0,    0,    0,    0,    0,    0,    0,    0,    0,\n",
       "           0,    0,    0,    0,    0,    0,    0,    0,    0,    0,    0,\n",
       "           0,    0,    0,    0,    0,    0,    0,    0,    0,    0,    0,\n",
       "           0,    0,    0,    0,    0,    0,    0,    1,   14,   22,   16,\n",
       "          43,  530,  973, 1622, 1385,   65,  458, 4468,   66, 3941,    4,\n",
       "         173,   36,  256,    5,   25,  100,   43,  838,  112,   50,  670,\n",
       "           2,    9,   35,  480,  284,    5,  150,    4,  172,  112,  167,\n",
       "           2,  336,  385,   39,    4,  172, 4536, 1111,   17,  546,   38,\n",
       "          13,  447,    4,  192,   50,   16,    6,  147, 2025,   19,   14,\n",
       "          22,    4, 1920, 4613,  469,    4,   22,   71,   87,   12,   16,\n",
       "          43,  530,   38,   76,   15,   13, 1247,    4,   22,   17,  515,\n",
       "          17,   12,   16,  626,   18,    2,    5,   62,  386,   12,    8,\n",
       "         316,    8,  106,    5,    4, 2223,    2,   16,  480,   66, 3785,\n",
       "          33,    4,  130,   12,   16,   38,  619,    5,   25,  124,   51,\n",
       "          36,  135,   48,   25, 1415,   33,    6,   22,   12,  215,   28,\n",
       "          77,   52,    5,   14,  407,   16,   82,    2,    8,    4,  107,\n",
       "         117,    2,   15,  256,    4,    2,    7, 3766,    5,  723,   36,\n",
       "          71,   43,  530,  476,   26,  400,  317,   46,    7,    4,    2,\n",
       "        1029,   13,  104,   88,    4,  381,   15,  297,   98,   32, 2071,\n",
       "          56,   26,  141,    6,  194,    2,   18,    4,  226,   22,   21,\n",
       "         134,  476,   26,  480,    5,  144,   30,    2,   18,   51,   36,\n",
       "          28,  224,   92,   25,  104,    4,  226,   65,   16,   38, 1334,\n",
       "          88,   12,   16,  283,    5,   16, 4472,  113,  103,   32,   15,\n",
       "          16,    2,   19,  178,   32]),\n",
       " 1)"
      ]
     },
     "execution_count": 13,
     "metadata": {},
     "output_type": "execute_result"
    }
   ],
   "source": [
    "x_train[0]"
   ]
  },
  {
   "cell_type": "markdown",
   "metadata": {},
   "source": [
    "Nyní máme připravená data a můžeme si definovat a natrénovat model.\n",
    " - První vrstva je `Embedding`, která každé slovo (v tuto chvíli nezáporné celé číslo reprezentující dané slovo) transformuje na vektor délky 32.\n",
    " - Další vrstva je `LSTM` vrstva, která obsahuje 100 paměťových jednotek (neuronů). \n",
    " - Na závěr použijeme `Dense` výstupní vrstvu s jedním neuronem a aktivační funkcí sigmoid k vytvoření predikcí 0 nebo 1, protože se jedná o klasifikační úlohu.\n",
    "\n",
    "Problém modelu je, že se velice snadno overfittuje na na daná trénovací data. Proto se se používají ještě vrstvy `Dropout`, které spočívají v tom, že během trénování se náhodně vynechávají některé vstupy do další vrstvy. Tím se simuluje velký počet sítí s odlišnou strukturou a uzly jsou pak robustnější a omezuje se tím pádem overfitting."
   ]
  },
  {
   "cell_type": "code",
   "execution_count": 15,
   "metadata": {},
   "outputs": [
    {
     "name": "stdout",
     "output_type": "stream",
     "text": [
      "Model: \"sequential_1\"\n",
      "_________________________________________________________________\n",
      " Layer (type)                Output Shape              Param #   \n",
      "=================================================================\n",
      " embedding (Embedding)       (None, 500, 32)           160000    \n",
      "                                                                 \n",
      " dropout (Dropout)           (None, 500, 32)           0         \n",
      "                                                                 \n",
      " lstm (LSTM)                 (None, 100)               53200     \n",
      "                                                                 \n",
      " dropout_1 (Dropout)         (None, 100)               0         \n",
      "                                                                 \n",
      " dense (Dense)               (None, 1)                 101       \n",
      "                                                                 \n",
      "=================================================================\n",
      "Total params: 213,301\n",
      "Trainable params: 213,301\n",
      "Non-trainable params: 0\n",
      "_________________________________________________________________\n",
      "None\n",
      "Epoch 1/3\n",
      "391/391 [==============================] - 52s 73ms/step - loss: 0.5147 - accuracy: 0.7429\n",
      "Epoch 2/3\n",
      "391/391 [==============================] - 29s 74ms/step - loss: 0.3262 - accuracy: 0.8661\n",
      "Epoch 3/3\n",
      "391/391 [==============================] - 28s 71ms/step - loss: 0.2838 - accuracy: 0.8860\n"
     ]
    }
   ],
   "source": [
    "# Create the model\n",
    "embedding_vector_length = 32\n",
    "model = tf.keras.models.Sequential()\n",
    "model.add(tf.keras.layers.Embedding(top_words, embedding_vector_length, input_length=max_length))\n",
    "model.add(tf.keras.layers.Dropout(0.2))\n",
    "model.add(tf.keras.layers.LSTM(100))\n",
    "model.add(tf.keras.layers.Dropout(0.2))\n",
    "model.add(tf.keras.layers.Dense(1, activation=\"sigmoid\"))\n",
    "model.compile(loss=\"binary_crossentropy\", optimizer=\"adam\", metrics=[\"accuracy\"])\n",
    "print(model.summary())\n",
    "model.fit(x_train, y_train, epochs=3, batch_size=64)\n",
    "pass"
   ]
  },
  {
   "cell_type": "markdown",
   "metadata": {},
   "source": [
    "Na závěr zkusíme predikovat výstupy na testovacích datech a podívat se, jak je model dobrý. Můžete si třeba zkusit pustit trénování modelu s droupoutem a bez něj a podívat se, jak se budou lišit výsledné accuracies."
   ]
  },
  {
   "cell_type": "code",
   "execution_count": null,
   "metadata": {},
   "outputs": [
    {
     "name": "stdout",
     "output_type": "stream",
     "text": [
      "Accuracy: 87.45%\n",
      "Accuracy: 87.45%\n"
     ]
    }
   ],
   "source": [
    "scores = model.evaluate(x_test, y_test, verbose=0)\n",
    "print(f\"Accuracy: {scores[1]*100:.2f}%\")"
   ]
  },
  {
   "cell_type": "markdown",
   "metadata": {},
   "source": [
    "## Generování textu znak po znaku \n",
    "\n",
    "Nyní se podíváme na jiný druh problému - budeme generovat text znak po znaku, neboli natrénujeme jazykový model tak, že když mu pak dáme sekvenci znaků, tak nám model bude schopný předpovědět další znak. Jako trénovací množinu použijeme texty Nietzscheho."
   ]
  },
  {
   "cell_type": "code",
   "execution_count": null,
   "metadata": {},
   "outputs": [],
   "source": [
    "\"\"\"\n",
    "    Example script to generate text from Nietzsche\"s writings.\n",
    "    At least 20 epochs are required before the generated text\n",
    "    starts to sound coherent.\n",
    "    It is recommended to run this script on GPU, as recurrent\n",
    "    networks are quite computationally intensive.\n",
    "    If you try this script on a new data, make sure your corpus\n",
    "    has at least ~100k characters. ~1M is better.\n",
    "\"\"\"\n",
    "\n",
    "# Load the input data\n",
    "path = tf.keras.utils.get_file(\"nietzsche.txt\", origin=\"https://s3.amazonaws.com/text-datasets/nietzsche.txt\")\n",
    "text = open(path).read().lower()\n",
    "print(\"corpus length:\", len(text))\n",
    "\n",
    "chars = set(text)\n",
    "print(\"total chars:\", len(chars))\n",
    "char_indices = dict((c, i) for i, c in enumerate(chars))\n",
    "indices_char = dict((i, c) for i, c in enumerate(chars))\n",
    "\n",
    "# Divide the text into partially dependent character sequences of length equal to maxlen\n",
    "maxlen = 20\n",
    "step = 3\n",
    "sentences = []\n",
    "next_chars = []\n",
    "for i in range(0, len(text) - maxlen, step):\n",
    "    sentences.append(text[i: i + maxlen])\n",
    "    next_chars.append(text[i + maxlen])\n",
    "    \n",
    "print(\"nb sequences:\", len(sentences))\n",
    "\n",
    "# Convert text to numerical vectors\n",
    "print(\"Vectorization...\")\n",
    "X = np.zeros((len(sentences), maxlen, len(chars)), dtype=np.bool)\n",
    "y = np.zeros((len(sentences), len(chars)), dtype=np.bool)\n",
    "for i, sentence in enumerate(sentences):\n",
    "    for t, char in enumerate(sentence):\n",
    "        X[i, t, char_indices[char]] = 1\n",
    "        \n",
    "    y[i, char_indices[next_chars[i]]] = 1\n",
    "    \n",
    "# Create a model\n",
    "print(\"Building model...\")\n",
    "model = tf.keras.models.Sequential()\n",
    "model.add(tf.keras.layers.LSTM(512, return_sequences=True, input_shape=(maxlen, len(chars))))\n",
    "model.add(tf.keras.layers.Dropout(0.2))\n",
    "model.add(tf.keras.layers.LSTM(512, return_sequences=False))\n",
    "model.add(tf.keras.layers.Dropout(0.2))\n",
    "model.add(tf.keras.layers.Dense(len(chars), activation=tf.nn.softmax))\n",
    "\n",
    "model.compile(loss=\"categorical_crossentropy\", optimizer=\"rmsprop\")\n",
    "\n",
    "\n",
    "# Auxilary function for gaining index from an array of probabilities\n",
    "def sample(a, temperature=1.0):  \n",
    "    a = np.log(a) / temperature\n",
    "    a = np.exp(a) / np.sum(np.exp(a))\n",
    "    a = a / np.sum(a)\n",
    "    return np.argmax(np.random.multinomial(1, a, 1))\n",
    "\n",
    "\n",
    "# Train model and generate output after each iteration\n",
    "for iteration in range(1, 60):\n",
    "    print()\n",
    "    print(\"-\" * 50)\n",
    "    print(\"Iteration\", iteration)\n",
    "    model.fit(X, y, batch_size=128, nb_epoch=1)\n",
    "\n",
    "    start_index = random.randint(0, len(text) - maxlen - 1)\n",
    "\n",
    "    for diversity in [0.2, 0.5, 1.0, 1.2]:\n",
    "        print()\n",
    "        print(\"----- diversity:\", diversity)\n",
    "\n",
    "        generated = \"\"\n",
    "        sentence = text[start_index: start_index + maxlen]\n",
    "        generated += sentence\n",
    "        print(\"----- Generating with seed: \\\"\" + sentence + \"\\\"\")\n",
    "        sys.stdout.write(generated)\n",
    "\n",
    "        for _ in range(400):\n",
    "            x = np.zeros((1, maxlen, len(chars)))\n",
    "            for t, char in enumerate(sentence):\n",
    "                x[0, t, char_indices[char]] = 1.\n",
    "\n",
    "            preds = model.predict(x, verbose=0)[0]\n",
    "            next_index = sample(preds, diversity)\n",
    "            next_char = indices_char[next_index]\n",
    "\n",
    "            generated += next_char\n",
    "            sentence = sentence[1:] + next_char\n",
    "\n",
    "            sys.stdout.write(next_char)\n",
    "            sys.stdout.flush()\n",
    "        print()"
   ]
  },
  {
   "cell_type": "markdown",
   "metadata": {},
   "source": [
    "Skript si samozřejmě můžete pustit, ale trénování poběží neskutečně dlouho. Proto jsme skript pustili na Google Colab a na výsledky se můžete podívat [zde](https://colab.research.google.com/drive/1B7zys275xmpPqahPwNvuYMPLmgvlV3l5) nebo v souboru [*results.txt*](results.txt)."
   ]
  }
 ],
 "metadata": {
  "kernelspec": {
   "display_name": "Python 3",
   "language": "python",
   "name": "python3"
  },
  "language_info": {
   "codemirror_mode": {
    "name": "ipython",
    "version": 3
   },
   "file_extension": ".py",
   "mimetype": "text/x-python",
   "name": "python",
   "nbconvert_exporter": "python",
   "pygments_lexer": "ipython3",
   "version": "3.10.2"
  }
 },
 "nbformat": 4,
 "nbformat_minor": 2
}
