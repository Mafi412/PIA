{
 "cells": [
  {
   "cell_type": "markdown",
   "metadata": {},
   "source": [
    "# Implementace backpropagace pro MLP"
   ]
  },
  {
   "cell_type": "code",
   "execution_count": 1,
   "metadata": {},
   "outputs": [],
   "source": [
    "# Library tqdm is a useful tool for creating progress bars\n",
    "from tqdm import trange\n",
    "\n",
    "import numpy as np\n",
    "import pandas as pd\n",
    "\n",
    "import matplotlib.pyplot as plt\n",
    "%matplotlib inline\n",
    "import pylab as pl\n",
    "\n",
    "from sklearn import datasets\n",
    "from sklearn.metrics import accuracy_score\n",
    "from sklearn import metrics"
   ]
  },
  {
   "cell_type": "code",
   "execution_count": 2,
   "metadata": {},
   "outputs": [],
   "source": [
    "def get_model_accuracy(model, inputs, labels):\n",
    "    predictions = model.predict(inputs)\n",
    "    predicted_classes = np.argmax(predictions, axis=-1)\n",
    "    model_accuracy = accuracy_score(predicted_classes, labels)\n",
    "    \n",
    "    return model_accuracy"
   ]
  },
  {
   "cell_type": "markdown",
   "metadata": {},
   "source": [
    "## MLP s backpropagací"
   ]
  },
  {
   "cell_type": "code",
   "execution_count": 3,
   "metadata": {},
   "outputs": [],
   "source": [
    "def sigmoid(x):\n",
    "    # Clip the values to prevent overflows\n",
    "    x = x.clip(-5e2,5e2)\n",
    "    \n",
    "    return 1 / (1 + np.exp(-x))"
   ]
  },
  {
   "cell_type": "markdown",
   "metadata": {},
   "source": [
    "Derivace sigmoid funkce je následovná: *($\\sigma$(x))' = $\\sigma$(x) \\* (1 - $\\sigma$(x))*"
   ]
  },
  {
   "cell_type": "code",
   "execution_count": null,
   "metadata": {},
   "outputs": [],
   "source": [
    "class MultiLayerPerceptron:\n",
    "    def __init__(self, layer_sizes, training_iterations=int(1e3), learning_rate=1e-2):\n",
    "        self.layer_sizes = layer_sizes\n",
    "        self.weights = []\n",
    "        self.training_iterations = training_iterations\n",
    "        self.learning_rate = learning_rate\n",
    "        self.last_run_activations = None\n",
    "        \n",
    "        for (input_layer_size, output_layer_size) in zip(self.layer_sizes, self.layer_sizes[1:]):\n",
    "           self.weights.append(np.random.normal(size=(input_layer_size + 1, output_layer_size)))\n",
    "           \n",
    "           \n",
    "    def _add_ones(self, x):\n",
    "        \"\"\" Add a column of ones for bias (the first row in the weight matrix represents the biases) \"\"\"\n",
    "        ones = np.ones(shape=(x.shape[0], 1))\n",
    "        return np.concatenate([ones, x], axis=1)\n",
    "    \n",
    "    \n",
    "    def predict(self, inputs):\n",
    "        activations = np.array(inputs)\n",
    "        self.last_run_activations = [activations]\n",
    "        \n",
    "        try:\n",
    "            for layer in self.weights:\n",
    "                extended_activations = self._add_ones(activations)\n",
    "                linear_combination = np.dot(extended_activations, layer)\n",
    "                activations = sigmoid(linear_combination)\n",
    "                self.last_run_activations.append(activations)\n",
    "                \n",
    "        except Exception as e:\n",
    "            print(\"Activations:\", activations)\n",
    "            raise e\n",
    "\n",
    "        return activations\n",
    "    \n",
    "    \n",
    "    def fit(self, inputs, labels):\n",
    "        progress_bar = trange(self.training_iterations)\n",
    "        for i in progress_bar:\n",
    "            # Compute the NN's output\n",
    "            self.predict(inputs)\n",
    "            \n",
    "            # Perform the backpropagation\n",
    "            self._perform_backpropagation(labels)\n",
    "            \n",
    "            # Check the performance once per hundered iterations\n",
    "            if i % 100 == 0:\n",
    "                model_accuracy = get_model_accuracy(self, inputs, labels)\n",
    "                progress_bar.set_description(f\"Accuracy after iteration {i}: {model_accuracy}\")\n",
    "    \n",
    "    \n",
    "    def _perform_backpropagation(self, labels):\n",
    "        # We assume a square error loss function, so L = 1/2 * sum((predictions - one_hot_targets)^2)\n",
    "        one_hot_labels = np.zeros_like(self.last_run_activations[-1])\n",
    "        one_hot_labels[np.arange(len(one_hot_labels)), labels] = 1\n",
    "        \n",
    "        \n",
    "        # Compute the gradients of the loss with respect to inputs of all the layers (except the first one),\n",
    "        # more specifically, with respect to the linear combinations inside each layer\n",
    "        dLoss_wrt_Layers_inputs = list()\n",
    "        \n",
    "        ## Output layer\n",
    "        dLoss_wrt_Output_layer_output = self.last_run_activations[-1] - one_hot_labels\n",
    "        dOutput_layer_output_wrt_Output_layer_input = self.last_run_activations[-1] * (1 - self.last_run_activations[-1])\n",
    "        \n",
    "        dLoss_wrt_Output_layer_input = dLoss_wrt_Output_layer_output * dOutput_layer_output_wrt_Output_layer_input\n",
    "        \n",
    "        dLoss_wrt_Layers_inputs.append(dLoss_wrt_Output_layer_input)\n",
    "        \n",
    "        ## Hidden layers\n",
    "        for i in range(len(self.last_run_activations)-2, 0, -1):\n",
    "            dLoss_wrt_Following_layer_input = dLoss_wrt_Layers_inputs[-1]\n",
    "            dLoss_wrt_Current_layer_output = np.dot(dLoss_wrt_Following_layer_input, self.weights[i][1:,:].T)\n",
    "            dCurrent_layer_output_wrt_Current_layer_input = self.last_run_activations[i] * (1 - self.last_run_activations[i])\n",
    "            \n",
    "            dLoss_wrt_Current_layer_input = dLoss_wrt_Current_layer_output * dCurrent_layer_output_wrt_Current_layer_input\n",
    "                \n",
    "            dLoss_wrt_Layers_inputs.append(dLoss_wrt_Current_layer_input)\n",
    "                \n",
    "        dLoss_wrt_Layers_inputs = reversed(dLoss_wrt_Layers_inputs)\n",
    "        \n",
    "        \n",
    "        # Compute the gradients of the loss with respect to the model's parameters for all the layers and update the parameters\n",
    "        for i, (dLoss_wrt_Current_layer_input, inputs_of_the_current_layer) in enumerate(zip(dLoss_wrt_Layers_inputs, self.last_run_activations)):            \n",
    "\n",
    "            # Compute derivative with respect to bias\n",
    "            dLoss_wrt_Current_bias = np.sum(dLoss_wrt_Current_layer_input, axis=0, keepdims=True)\n",
    "            \n",
    "            # Compute derivative with respect to weights\n",
    "            # (Axes in the extended arrays for the current layer are as follows: [batch_size, number_of_input_features, number_of_output_features])\n",
    "            dLoss_wrt_Current_weights = \\\n",
    "                np.sum(dLoss_wrt_Current_layer_input[:,np.newaxis,:] * inputs_of_the_current_layer[:,:,np.newaxis], axis=0)\n",
    "            \n",
    "            # Concatenate the two derivatives into gradient and use that to update the parameters\n",
    "            gradient = np.concatenate([dLoss_wrt_Current_bias, dLoss_wrt_Current_weights], axis=0)\n",
    "            self.weights[i] -= self.learning_rate * gradient"
   ]
  },
  {
   "cell_type": "markdown",
   "metadata": {},
   "source": [
    "## Pokus na blob datasetu"
   ]
  },
  {
   "cell_type": "code",
   "execution_count": 5,
   "metadata": {},
   "outputs": [],
   "source": [
    "def draw_boundary_multiclass(model, inputs, labels):\n",
    "    x_min = inputs[:, 0].min() - 1\n",
    "    x_max = inputs[:, 0].max() + 1\n",
    "    y_min = inputs[:, 1].min() - 1 \n",
    "    y_max = inputs[:, 1].max() + 1\n",
    "\n",
    "    # Create rectangular grid with the above computed dimensions\n",
    "    xx, yy = np.meshgrid(np.arange(x_min, x_max, 0.1), np.arange(y_min, y_max, 0.1))\n",
    "    \n",
    "    # Drawing of the decision boundary - each point gets a color accordingly\n",
    "    predicted = model.predict(np.c_[xx.ravel(), yy.ravel()])\n",
    "    \n",
    "    # Extracting the predicted class number from the one-hot-encoding\n",
    "    predicted = np.argmax(predicted, axis=1)\n",
    "    \n",
    "    predicted = predicted.reshape(xx.shape)\n",
    "    \n",
    "    plt.figure(figsize=(12,8))\n",
    "    plt.scatter(inputs[:,0], inputs[:,1], c=labels)\n",
    "    plt.contourf(xx, yy, predicted, alpha=0.4)\n",
    "    plt.show()"
   ]
  },
  {
   "cell_type": "code",
   "execution_count": 6,
   "metadata": {},
   "outputs": [],
   "source": [
    "inputs, labels = datasets.make_blobs(centers=3, n_samples=200)"
   ]
  },
  {
   "cell_type": "code",
   "execution_count": 7,
   "metadata": {},
   "outputs": [
    {
     "name": "stderr",
     "output_type": "stream",
     "text": [
      "Accuracy after iteration 900: 1.0: 100%|██████████| 1000/1000 [00:00<00:00, 2188.73it/s]"
     ]
    },
    {
     "name": "stdout",
     "output_type": "stream",
     "text": [
      "Accuracy after training: 1.0\n"
     ]
    },
    {
     "name": "stderr",
     "output_type": "stream",
     "text": [
      "\n"
     ]
    }
   ],
   "source": [
    "mlp = MultiLayerPerceptron([inputs.shape[1], 5, 3])\n",
    "mlp.fit(inputs, labels)\n",
    "\n",
    "model_accuracy = get_model_accuracy(mlp, inputs, labels)\n",
    "print(\"Accuracy after training:\", model_accuracy)"
   ]
  },
  {
   "cell_type": "code",
   "execution_count": 8,
   "metadata": {},
   "outputs": [
    {
     "data": {
      "image/png": "[encoded data removed]",
      "text/plain": [
       "<Figure size 1200x800 with 1 Axes>"
      ]
     },
     "metadata": {},
     "output_type": "display_data"
    }
   ],
   "source": [
    "draw_boundary_multiclass(mlp, inputs, labels)"
   ]
  },
  {
   "cell_type": "markdown",
   "metadata": {},
   "source": [
    "## Pokus na *winequality-white.csv* datasetu"
   ]
  },
  {
   "cell_type": "code",
   "execution_count": 9,
   "metadata": {},
   "outputs": [
    {
     "data": {
      "text/html": [
       "<div>\n",
       "<style scoped>\n",
       "    .dataframe tbody tr th:only-of-type {\n",
       "        vertical-align: middle;\n",
       "    }\n",
       "\n",
       "    .dataframe tbody tr th {\n",
       "        vertical-align: top;\n",
       "    }\n",
       "\n",
       "    .dataframe thead th {\n",
       "        text-align: right;\n",
       "    }\n",
       "</style>\n",
       "<table border=\"1\" class=\"dataframe\">\n",
       "  <thead>\n",
       "    <tr style=\"text-align: right;\">\n",
       "      <th></th>\n",
       "      <th>fixed acidity</th>\n",
       "      <th>volatile acidity</th>\n",
       "      <th>citric acid</th>\n",
       "      <th>residual sugar</th>\n",
       "      <th>chlorides</th>\n",
       "      <th>free sulfur dioxide</th>\n",
       "      <th>total sulfur dioxide</th>\n",
       "      <th>density</th>\n",
       "      <th>pH</th>\n",
       "      <th>sulphates</th>\n",
       "      <th>alcohol</th>\n",
       "      <th>quality</th>\n",
       "    </tr>\n",
       "  </thead>\n",
       "  <tbody>\n",
       "    <tr>\n",
       "      <th>count</th>\n",
       "      <td>4898.000000</td>\n",
       "      <td>4898.000000</td>\n",
       "      <td>4898.000000</td>\n",
       "      <td>4898.000000</td>\n",
       "      <td>4898.000000</td>\n",
       "      <td>4898.000000</td>\n",
       "      <td>4898.000000</td>\n",
       "      <td>4898.000000</td>\n",
       "      <td>4898.000000</td>\n",
       "      <td>4898.000000</td>\n",
       "      <td>4898.000000</td>\n",
       "      <td>4898.000000</td>\n",
       "    </tr>\n",
       "    <tr>\n",
       "      <th>mean</th>\n",
       "      <td>6.854788</td>\n",
       "      <td>0.278241</td>\n",
       "      <td>0.334192</td>\n",
       "      <td>6.391415</td>\n",
       "      <td>0.045772</td>\n",
       "      <td>35.308085</td>\n",
       "      <td>138.360657</td>\n",
       "      <td>0.994027</td>\n",
       "      <td>3.188267</td>\n",
       "      <td>0.489847</td>\n",
       "      <td>10.514267</td>\n",
       "      <td>5.877909</td>\n",
       "    </tr>\n",
       "    <tr>\n",
       "      <th>std</th>\n",
       "      <td>0.843868</td>\n",
       "      <td>0.100795</td>\n",
       "      <td>0.121020</td>\n",
       "      <td>5.072058</td>\n",
       "      <td>0.021848</td>\n",
       "      <td>17.007137</td>\n",
       "      <td>42.498065</td>\n",
       "      <td>0.002991</td>\n",
       "      <td>0.151001</td>\n",
       "      <td>0.114126</td>\n",
       "      <td>1.230621</td>\n",
       "      <td>0.885639</td>\n",
       "    </tr>\n",
       "    <tr>\n",
       "      <th>min</th>\n",
       "      <td>3.800000</td>\n",
       "      <td>0.080000</td>\n",
       "      <td>0.000000</td>\n",
       "      <td>0.600000</td>\n",
       "      <td>0.009000</td>\n",
       "      <td>2.000000</td>\n",
       "      <td>9.000000</td>\n",
       "      <td>0.987110</td>\n",
       "      <td>2.720000</td>\n",
       "      <td>0.220000</td>\n",
       "      <td>8.000000</td>\n",
       "      <td>3.000000</td>\n",
       "    </tr>\n",
       "    <tr>\n",
       "      <th>25%</th>\n",
       "      <td>6.300000</td>\n",
       "      <td>0.210000</td>\n",
       "      <td>0.270000</td>\n",
       "      <td>1.700000</td>\n",
       "      <td>0.036000</td>\n",
       "      <td>23.000000</td>\n",
       "      <td>108.000000</td>\n",
       "      <td>0.991723</td>\n",
       "      <td>3.090000</td>\n",
       "      <td>0.410000</td>\n",
       "      <td>9.500000</td>\n",
       "      <td>5.000000</td>\n",
       "    </tr>\n",
       "    <tr>\n",
       "      <th>50%</th>\n",
       "      <td>6.800000</td>\n",
       "      <td>0.260000</td>\n",
       "      <td>0.320000</td>\n",
       "      <td>5.200000</td>\n",
       "      <td>0.043000</td>\n",
       "      <td>34.000000</td>\n",
       "      <td>134.000000</td>\n",
       "      <td>0.993740</td>\n",
       "      <td>3.180000</td>\n",
       "      <td>0.470000</td>\n",
       "      <td>10.400000</td>\n",
       "      <td>6.000000</td>\n",
       "    </tr>\n",
       "    <tr>\n",
       "      <th>75%</th>\n",
       "      <td>7.300000</td>\n",
       "      <td>0.320000</td>\n",
       "      <td>0.390000</td>\n",
       "      <td>9.900000</td>\n",
       "      <td>0.050000</td>\n",
       "      <td>46.000000</td>\n",
       "      <td>167.000000</td>\n",
       "      <td>0.996100</td>\n",
       "      <td>3.280000</td>\n",
       "      <td>0.550000</td>\n",
       "      <td>11.400000</td>\n",
       "      <td>6.000000</td>\n",
       "    </tr>\n",
       "    <tr>\n",
       "      <th>max</th>\n",
       "      <td>14.200000</td>\n",
       "      <td>1.100000</td>\n",
       "      <td>1.660000</td>\n",
       "      <td>65.800000</td>\n",
       "      <td>0.346000</td>\n",
       "      <td>289.000000</td>\n",
       "      <td>440.000000</td>\n",
       "      <td>1.038980</td>\n",
       "      <td>3.820000</td>\n",
       "      <td>1.080000</td>\n",
       "      <td>14.200000</td>\n",
       "      <td>9.000000</td>\n",
       "    </tr>\n",
       "  </tbody>\n",
       "</table>\n",
       "</div>"
      ],
      "text/plain": [
       "       fixed acidity  volatile acidity  citric acid  residual sugar  \\\n",
       "count    4898.000000       4898.000000  4898.000000     4898.000000   \n",
       "mean        6.854788          0.278241     0.334192        6.391415   \n",
       "std         0.843868          0.100795     0.121020        5.072058   \n",
       "min         3.800000          0.080000     0.000000        0.600000   \n",
       "25%         6.300000          0.210000     0.270000        1.700000   \n",
       "50%         6.800000          0.260000     0.320000        5.200000   \n",
       "75%         7.300000          0.320000     0.390000        9.900000   \n",
       "max        14.200000          1.100000     1.660000       65.800000   \n",
       "\n",
       "         chlorides  free sulfur dioxide  total sulfur dioxide      density  \\\n",
       "count  4898.000000          4898.000000           4898.000000  4898.000000   \n",
       "mean      0.045772            35.308085            138.360657     0.994027   \n",
       "std       0.021848            17.007137             42.498065     0.002991   \n",
       "min       0.009000             2.000000              9.000000     0.987110   \n",
       "25%       0.036000            23.000000            108.000000     0.991723   \n",
       "50%       0.043000            34.000000            134.000000     0.993740   \n",
       "75%       0.050000            46.000000            167.000000     0.996100   \n",
       "max       0.346000           289.000000            440.000000     1.038980   \n",
       "\n",
       "                pH    sulphates      alcohol      quality  \n",
       "count  4898.000000  4898.000000  4898.000000  4898.000000  \n",
       "mean      3.188267     0.489847    10.514267     5.877909  \n",
       "std       0.151001     0.114126     1.230621     0.885639  \n",
       "min       2.720000     0.220000     8.000000     3.000000  \n",
       "25%       3.090000     0.410000     9.500000     5.000000  \n",
       "50%       3.180000     0.470000    10.400000     6.000000  \n",
       "75%       3.280000     0.550000    11.400000     6.000000  \n",
       "max       3.820000     1.080000    14.200000     9.000000  "
      ]
     },
     "execution_count": 9,
     "metadata": {},
     "output_type": "execute_result"
    }
   ],
   "source": [
    "data = pd.read_csv(\"winequality-white.csv\", delimiter=';')\n",
    "data.describe()"
   ]
  },
  {
   "cell_type": "code",
   "execution_count": 10,
   "metadata": {},
   "outputs": [],
   "source": [
    "data[\"quality\"].replace({3: 5, 4: 5, 8: 7, 9: 7}, inplace=True)\n",
    "data[\"quality\"].replace({5: 0, 6: 1, 7: 2}, inplace=True)\n",
    "\n",
    "labels = data[\"quality\"].values\n",
    "inputs = data.drop(columns=\"quality\").values"
   ]
  },
  {
   "cell_type": "code",
   "execution_count": 11,
   "metadata": {},
   "outputs": [
    {
     "name": "stdout",
     "output_type": "stream",
     "text": [
      "Accuracy before training: 0.21641486320947326\n"
     ]
    },
    {
     "name": "stderr",
     "output_type": "stream",
     "text": [
      "Accuracy after iteration 0: 0.44875459371171905:   0%|          | 0/1000 [00:00<?, ?it/s]"
     ]
    },
    {
     "name": "stderr",
     "output_type": "stream",
     "text": [
      "Accuracy after iteration 900: 0.44875459371171905: 100%|██████████| 1000/1000 [00:07<00:00, 128.73it/s]"
     ]
    },
    {
     "name": "stdout",
     "output_type": "stream",
     "text": [
      "Accuracy after training: 0.44875459371171905\n"
     ]
    },
    {
     "name": "stderr",
     "output_type": "stream",
     "text": [
      "\n"
     ]
    }
   ],
   "source": [
    "mlp = MultiLayerPerceptron([inputs.shape[1], 5, len(np.unique(labels))])\n",
    "\n",
    "predictions = mlp.predict(inputs)\n",
    "predicted_classes = np.argmax(predictions, axis=-1)\n",
    "model_accuracy = accuracy_score(predicted_classes, labels)\n",
    "print(\"Accuracy before training:\", model_accuracy)\n",
    "\n",
    "mlp.fit(inputs, labels)\n",
    "\n",
    "model_accuracy = get_model_accuracy(mlp, inputs, labels)\n",
    "print(\"Accuracy after training:\", model_accuracy)"
   ]
  },
  {
   "cell_type": "code",
   "execution_count": 12,
   "metadata": {},
   "outputs": [
    {
     "name": "stdout",
     "output_type": "stream",
     "text": [
      "[[   0    0 1640]\n",
      " [   0    0 2198]\n",
      " [   0    0 1060]]\n"
     ]
    },
    {
     "data": {
      "image/png": "[encoded data removed]",
      "text/plain": [
       "<Figure size 480x480 with 2 Axes>"
      ]
     },
     "metadata": {},
     "output_type": "display_data"
    }
   ],
   "source": [
    "confusion_matrix = metrics.confusion_matrix(labels, predicted_classes)\n",
    "print(confusion_matrix)\n",
    "\n",
    "pl.matshow(confusion_matrix)\n",
    "pl.colorbar()\n",
    "pl.show()"
   ]
  }
 ],
 "metadata": {
  "kernelspec": {
   "display_name": "Python 3",
   "language": "python",
   "name": "python3"
  },
  "language_info": {
   "codemirror_mode": {
    "name": "ipython",
    "version": 3
   },
   "file_extension": ".py",
   "mimetype": "text/x-python",
   "name": "python",
   "nbconvert_exporter": "python",
   "pygments_lexer": "ipython3",
   "version": "3.10.2"
  }
 },
 "nbformat": 4,
 "nbformat_minor": 2
}
